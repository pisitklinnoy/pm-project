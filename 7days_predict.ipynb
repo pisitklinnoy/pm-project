{
 "cells": [
  {
   "cell_type": "code",
   "execution_count": 1,
   "metadata": {},
   "outputs": [
    {
     "name": "stdout",
     "output_type": "stream",
     "text": [
      "Requirement already satisfied: pycaret in c:\\users\\tufas\\appdata\\local\\programs\\python\\python311\\lib\\site-packages (3.3.2)\n",
      "Requirement already satisfied: pandas in c:\\users\\tufas\\appdata\\local\\programs\\python\\python311\\lib\\site-packages (2.1.4)\n",
      "Requirement already satisfied: shap in c:\\users\\tufas\\appdata\\local\\programs\\python\\python311\\lib\\site-packages (0.47.0)\n",
      "Requirement already satisfied: ipython>=5.5.0 in c:\\users\\tufas\\appdata\\roaming\\python\\python311\\site-packages (from pycaret) (9.0.2)\n",
      "Requirement already satisfied: ipywidgets>=7.6.5 in c:\\users\\tufas\\appdata\\local\\programs\\python\\python311\\lib\\site-packages (from pycaret) (8.1.5)\n",
      "Requirement already satisfied: tqdm>=4.62.0 in c:\\users\\tufas\\appdata\\local\\programs\\python\\python311\\lib\\site-packages (from pycaret) (4.67.1)\n",
      "Requirement already satisfied: numpy<1.27,>=1.21 in c:\\users\\tufas\\appdata\\local\\programs\\python\\python311\\lib\\site-packages (from pycaret) (1.26.4)\n",
      "Requirement already satisfied: jinja2>=3 in c:\\users\\tufas\\appdata\\local\\programs\\python\\python311\\lib\\site-packages (from pycaret) (3.1.6)\n",
      "Requirement already satisfied: scipy<=1.11.4,>=1.6.1 in c:\\users\\tufas\\appdata\\local\\programs\\python\\python311\\lib\\site-packages (from pycaret) (1.11.4)\n",
      "Requirement already satisfied: joblib<1.4,>=1.2.0 in c:\\users\\tufas\\appdata\\local\\programs\\python\\python311\\lib\\site-packages (from pycaret) (1.3.2)\n",
      "Requirement already satisfied: scikit-learn>1.4.0 in c:\\users\\tufas\\appdata\\local\\programs\\python\\python311\\lib\\site-packages (from pycaret) (1.4.2)\n",
      "Requirement already satisfied: pyod>=1.1.3 in c:\\users\\tufas\\appdata\\local\\programs\\python\\python311\\lib\\site-packages (from pycaret) (2.0.3)\n",
      "Requirement already satisfied: imbalanced-learn>=0.12.0 in c:\\users\\tufas\\appdata\\local\\programs\\python\\python311\\lib\\site-packages (from pycaret) (0.13.0)\n",
      "Requirement already satisfied: category-encoders>=2.4.0 in c:\\users\\tufas\\appdata\\local\\programs\\python\\python311\\lib\\site-packages (from pycaret) (2.7.0)\n",
      "Requirement already satisfied: lightgbm>=3.0.0 in c:\\users\\tufas\\appdata\\local\\programs\\python\\python311\\lib\\site-packages (from pycaret) (4.6.0)\n",
      "Requirement already satisfied: numba>=0.55.0 in c:\\users\\tufas\\appdata\\local\\programs\\python\\python311\\lib\\site-packages (from pycaret) (0.61.0)\n",
      "Requirement already satisfied: requests>=2.27.1 in c:\\users\\tufas\\appdata\\local\\programs\\python\\python311\\lib\\site-packages (from pycaret) (2.32.3)\n",
      "Requirement already satisfied: psutil>=5.9.0 in c:\\users\\tufas\\appdata\\roaming\\python\\python311\\site-packages (from pycaret) (7.0.0)\n",
      "Requirement already satisfied: markupsafe>=2.0.1 in c:\\users\\tufas\\appdata\\local\\programs\\python\\python311\\lib\\site-packages (from pycaret) (3.0.2)\n",
      "Requirement already satisfied: importlib-metadata>=4.12.0 in c:\\users\\tufas\\appdata\\local\\programs\\python\\python311\\lib\\site-packages (from pycaret) (8.6.1)\n",
      "Requirement already satisfied: nbformat>=4.2.0 in c:\\users\\tufas\\appdata\\local\\programs\\python\\python311\\lib\\site-packages (from pycaret) (5.10.4)\n",
      "Requirement already satisfied: cloudpickle in c:\\users\\tufas\\appdata\\local\\programs\\python\\python311\\lib\\site-packages (from pycaret) (3.1.1)\n",
      "Requirement already satisfied: deprecation>=2.1.0 in c:\\users\\tufas\\appdata\\local\\programs\\python\\python311\\lib\\site-packages (from pycaret) (2.1.0)\n",
      "Requirement already satisfied: xxhash in c:\\users\\tufas\\appdata\\local\\programs\\python\\python311\\lib\\site-packages (from pycaret) (3.5.0)\n",
      "Requirement already satisfied: matplotlib<3.8.0 in c:\\users\\tufas\\appdata\\local\\programs\\python\\python311\\lib\\site-packages (from pycaret) (3.7.5)\n",
      "Requirement already satisfied: scikit-plot>=0.3.7 in c:\\users\\tufas\\appdata\\local\\programs\\python\\python311\\lib\\site-packages (from pycaret) (0.3.7)\n",
      "Requirement already satisfied: yellowbrick>=1.4 in c:\\users\\tufas\\appdata\\local\\programs\\python\\python311\\lib\\site-packages (from pycaret) (1.5)\n",
      "Requirement already satisfied: plotly>=5.14.0 in c:\\users\\tufas\\appdata\\local\\programs\\python\\python311\\lib\\site-packages (from pycaret) (5.24.1)\n",
      "Requirement already satisfied: kaleido>=0.2.1 in c:\\users\\tufas\\appdata\\local\\programs\\python\\python311\\lib\\site-packages (from pycaret) (0.2.1)\n",
      "Requirement already satisfied: schemdraw==0.15 in c:\\users\\tufas\\appdata\\local\\programs\\python\\python311\\lib\\site-packages (from pycaret) (0.15)\n",
      "Requirement already satisfied: plotly-resampler>=0.8.3.1 in c:\\users\\tufas\\appdata\\local\\programs\\python\\python311\\lib\\site-packages (from pycaret) (0.10.0)\n",
      "Requirement already satisfied: statsmodels>=0.12.1 in c:\\users\\tufas\\appdata\\local\\programs\\python\\python311\\lib\\site-packages (from pycaret) (0.14.4)\n",
      "Requirement already satisfied: sktime==0.26.0 in c:\\users\\tufas\\appdata\\local\\programs\\python\\python311\\lib\\site-packages (from pycaret) (0.26.0)\n",
      "Requirement already satisfied: tbats>=1.1.3 in c:\\users\\tufas\\appdata\\local\\programs\\python\\python311\\lib\\site-packages (from pycaret) (1.1.3)\n",
      "Requirement already satisfied: pmdarima>=2.0.4 in c:\\users\\tufas\\appdata\\local\\programs\\python\\python311\\lib\\site-packages (from pycaret) (2.0.4)\n",
      "Requirement already satisfied: packaging in c:\\users\\tufas\\appdata\\roaming\\python\\python311\\site-packages (from sktime==0.26.0->pycaret) (24.2)\n",
      "Requirement already satisfied: scikit-base<0.8.0 in c:\\users\\tufas\\appdata\\local\\programs\\python\\python311\\lib\\site-packages (from sktime==0.26.0->pycaret) (0.7.8)\n",
      "Requirement already satisfied: python-dateutil>=2.8.2 in c:\\users\\tufas\\appdata\\roaming\\python\\python311\\site-packages (from pandas) (2.9.0.post0)\n",
      "Requirement already satisfied: pytz>=2020.1 in c:\\users\\tufas\\appdata\\local\\programs\\python\\python311\\lib\\site-packages (from pandas) (2025.1)\n",
      "Requirement already satisfied: tzdata>=2022.1 in c:\\users\\tufas\\appdata\\local\\programs\\python\\python311\\lib\\site-packages (from pandas) (2025.1)\n",
      "Requirement already satisfied: slicer==0.0.8 in c:\\users\\tufas\\appdata\\local\\programs\\python\\python311\\lib\\site-packages (from shap) (0.0.8)\n",
      "Requirement already satisfied: typing-extensions in c:\\users\\tufas\\appdata\\roaming\\python\\python311\\site-packages (from shap) (4.12.2)\n",
      "Requirement already satisfied: patsy>=0.5.1 in c:\\users\\tufas\\appdata\\local\\programs\\python\\python311\\lib\\site-packages (from category-encoders>=2.4.0->pycaret) (1.0.1)\n",
      "Requirement already satisfied: sklearn-compat<1,>=0.1 in c:\\users\\tufas\\appdata\\local\\programs\\python\\python311\\lib\\site-packages (from imbalanced-learn>=0.12.0->pycaret) (0.1.3)\n",
      "Requirement already satisfied: threadpoolctl<4,>=2.0.0 in c:\\users\\tufas\\appdata\\local\\programs\\python\\python311\\lib\\site-packages (from imbalanced-learn>=0.12.0->pycaret) (3.5.0)\n",
      "Requirement already satisfied: zipp>=3.20 in c:\\users\\tufas\\appdata\\local\\programs\\python\\python311\\lib\\site-packages (from importlib-metadata>=4.12.0->pycaret) (3.21.0)\n",
      "Requirement already satisfied: colorama in c:\\users\\tufas\\appdata\\roaming\\python\\python311\\site-packages (from ipython>=5.5.0->pycaret) (0.4.6)\n",
      "Requirement already satisfied: decorator in c:\\users\\tufas\\appdata\\roaming\\python\\python311\\site-packages (from ipython>=5.5.0->pycaret) (5.2.1)\n",
      "Requirement already satisfied: ipython-pygments-lexers in c:\\users\\tufas\\appdata\\roaming\\python\\python311\\site-packages (from ipython>=5.5.0->pycaret) (1.1.1)\n",
      "Requirement already satisfied: jedi>=0.16 in c:\\users\\tufas\\appdata\\roaming\\python\\python311\\site-packages (from ipython>=5.5.0->pycaret) (0.19.2)\n",
      "Requirement already satisfied: matplotlib-inline in c:\\users\\tufas\\appdata\\roaming\\python\\python311\\site-packages (from ipython>=5.5.0->pycaret) (0.1.7)\n",
      "Requirement already satisfied: prompt_toolkit<3.1.0,>=3.0.41 in c:\\users\\tufas\\appdata\\roaming\\python\\python311\\site-packages (from ipython>=5.5.0->pycaret) (3.0.50)\n",
      "Requirement already satisfied: pygments>=2.4.0 in c:\\users\\tufas\\appdata\\roaming\\python\\python311\\site-packages (from ipython>=5.5.0->pycaret) (2.19.1)\n",
      "Requirement already satisfied: stack_data in c:\\users\\tufas\\appdata\\roaming\\python\\python311\\site-packages (from ipython>=5.5.0->pycaret) (0.6.3)\n",
      "Requirement already satisfied: traitlets>=5.13.0 in c:\\users\\tufas\\appdata\\roaming\\python\\python311\\site-packages (from ipython>=5.5.0->pycaret) (5.14.3)\n",
      "Requirement already satisfied: comm>=0.1.3 in c:\\users\\tufas\\appdata\\roaming\\python\\python311\\site-packages (from ipywidgets>=7.6.5->pycaret) (0.2.2)\n",
      "Requirement already satisfied: widgetsnbextension~=4.0.12 in c:\\users\\tufas\\appdata\\local\\programs\\python\\python311\\lib\\site-packages (from ipywidgets>=7.6.5->pycaret) (4.0.13)\n",
      "Requirement already satisfied: jupyterlab-widgets~=3.0.12 in c:\\users\\tufas\\appdata\\local\\programs\\python\\python311\\lib\\site-packages (from ipywidgets>=7.6.5->pycaret) (3.0.13)\n",
      "Requirement already satisfied: contourpy>=1.0.1 in c:\\users\\tufas\\appdata\\local\\programs\\python\\python311\\lib\\site-packages (from matplotlib<3.8.0->pycaret) (1.3.1)\n",
      "Requirement already satisfied: cycler>=0.10 in c:\\users\\tufas\\appdata\\local\\programs\\python\\python311\\lib\\site-packages (from matplotlib<3.8.0->pycaret) (0.12.1)\n",
      "Requirement already satisfied: fonttools>=4.22.0 in c:\\users\\tufas\\appdata\\local\\programs\\python\\python311\\lib\\site-packages (from matplotlib<3.8.0->pycaret) (4.56.0)\n",
      "Requirement already satisfied: kiwisolver>=1.0.1 in c:\\users\\tufas\\appdata\\local\\programs\\python\\python311\\lib\\site-packages (from matplotlib<3.8.0->pycaret) (1.4.8)\n",
      "Requirement already satisfied: pillow>=6.2.0 in c:\\users\\tufas\\appdata\\local\\programs\\python\\python311\\lib\\site-packages (from matplotlib<3.8.0->pycaret) (11.1.0)\n",
      "Requirement already satisfied: pyparsing>=2.3.1 in c:\\users\\tufas\\appdata\\local\\programs\\python\\python311\\lib\\site-packages (from matplotlib<3.8.0->pycaret) (3.2.1)\n",
      "Requirement already satisfied: fastjsonschema>=2.15 in c:\\users\\tufas\\appdata\\local\\programs\\python\\python311\\lib\\site-packages (from nbformat>=4.2.0->pycaret) (2.21.1)\n",
      "Requirement already satisfied: jsonschema>=2.6 in c:\\users\\tufas\\appdata\\local\\programs\\python\\python311\\lib\\site-packages (from nbformat>=4.2.0->pycaret) (4.23.0)\n",
      "Requirement already satisfied: jupyter-core!=5.0.*,>=4.12 in c:\\users\\tufas\\appdata\\roaming\\python\\python311\\site-packages (from nbformat>=4.2.0->pycaret) (5.7.2)\n",
      "Requirement already satisfied: llvmlite<0.45,>=0.44.0dev0 in c:\\users\\tufas\\appdata\\local\\programs\\python\\python311\\lib\\site-packages (from numba>=0.55.0->pycaret) (0.44.0)\n",
      "Requirement already satisfied: tenacity>=6.2.0 in c:\\users\\tufas\\appdata\\local\\programs\\python\\python311\\lib\\site-packages (from plotly>=5.14.0->pycaret) (9.0.0)\n",
      "Requirement already satisfied: dash>=2.9.0 in c:\\users\\tufas\\appdata\\local\\programs\\python\\python311\\lib\\site-packages (from plotly-resampler>=0.8.3.1->pycaret) (2.18.2)\n",
      "Requirement already satisfied: orjson<4.0.0,>=3.8.0 in c:\\users\\tufas\\appdata\\local\\programs\\python\\python311\\lib\\site-packages (from plotly-resampler>=0.8.3.1->pycaret) (3.10.15)\n",
      "Requirement already satisfied: tsdownsample>=0.1.3 in c:\\users\\tufas\\appdata\\local\\programs\\python\\python311\\lib\\site-packages (from plotly-resampler>=0.8.3.1->pycaret) (0.1.4.1)\n",
      "Requirement already satisfied: Cython!=0.29.18,!=0.29.31,>=0.29 in c:\\users\\tufas\\appdata\\local\\programs\\python\\python311\\lib\\site-packages (from pmdarima>=2.0.4->pycaret) (3.0.12)\n",
      "Requirement already satisfied: urllib3 in c:\\users\\tufas\\appdata\\local\\programs\\python\\python311\\lib\\site-packages (from pmdarima>=2.0.4->pycaret) (2.3.0)\n",
      "Requirement already satisfied: setuptools!=50.0.0,>=38.6.0 in c:\\users\\tufas\\appdata\\local\\programs\\python\\python311\\lib\\site-packages (from pmdarima>=2.0.4->pycaret) (65.5.0)\n",
      "Requirement already satisfied: six>=1.5 in c:\\users\\tufas\\appdata\\roaming\\python\\python311\\site-packages (from python-dateutil>=2.8.2->pandas) (1.17.0)\n",
      "Requirement already satisfied: charset-normalizer<4,>=2 in c:\\users\\tufas\\appdata\\local\\programs\\python\\python311\\lib\\site-packages (from requests>=2.27.1->pycaret) (3.4.1)\n",
      "Requirement already satisfied: idna<4,>=2.5 in c:\\users\\tufas\\appdata\\local\\programs\\python\\python311\\lib\\site-packages (from requests>=2.27.1->pycaret) (3.10)\n",
      "Requirement already satisfied: certifi>=2017.4.17 in c:\\users\\tufas\\appdata\\local\\programs\\python\\python311\\lib\\site-packages (from requests>=2.27.1->pycaret) (2025.1.31)\n",
      "Requirement already satisfied: Flask<3.1,>=1.0.4 in c:\\users\\tufas\\appdata\\local\\programs\\python\\python311\\lib\\site-packages (from dash>=2.9.0->plotly-resampler>=0.8.3.1->pycaret) (3.0.3)\n",
      "Requirement already satisfied: Werkzeug<3.1 in c:\\users\\tufas\\appdata\\local\\programs\\python\\python311\\lib\\site-packages (from dash>=2.9.0->plotly-resampler>=0.8.3.1->pycaret) (3.0.6)\n",
      "Requirement already satisfied: dash-html-components==2.0.0 in c:\\users\\tufas\\appdata\\local\\programs\\python\\python311\\lib\\site-packages (from dash>=2.9.0->plotly-resampler>=0.8.3.1->pycaret) (2.0.0)\n",
      "Requirement already satisfied: dash-core-components==2.0.0 in c:\\users\\tufas\\appdata\\local\\programs\\python\\python311\\lib\\site-packages (from dash>=2.9.0->plotly-resampler>=0.8.3.1->pycaret) (2.0.0)\n",
      "Requirement already satisfied: dash-table==5.0.0 in c:\\users\\tufas\\appdata\\local\\programs\\python\\python311\\lib\\site-packages (from dash>=2.9.0->plotly-resampler>=0.8.3.1->pycaret) (5.0.0)\n",
      "Requirement already satisfied: retrying in c:\\users\\tufas\\appdata\\local\\programs\\python\\python311\\lib\\site-packages (from dash>=2.9.0->plotly-resampler>=0.8.3.1->pycaret) (1.3.4)\n",
      "Requirement already satisfied: nest-asyncio in c:\\users\\tufas\\appdata\\roaming\\python\\python311\\site-packages (from dash>=2.9.0->plotly-resampler>=0.8.3.1->pycaret) (1.6.0)\n",
      "Requirement already satisfied: parso<0.9.0,>=0.8.4 in c:\\users\\tufas\\appdata\\roaming\\python\\python311\\site-packages (from jedi>=0.16->ipython>=5.5.0->pycaret) (0.8.4)\n",
      "Requirement already satisfied: attrs>=22.2.0 in c:\\users\\tufas\\appdata\\local\\programs\\python\\python311\\lib\\site-packages (from jsonschema>=2.6->nbformat>=4.2.0->pycaret) (25.1.0)\n",
      "Requirement already satisfied: jsonschema-specifications>=2023.03.6 in c:\\users\\tufas\\appdata\\local\\programs\\python\\python311\\lib\\site-packages (from jsonschema>=2.6->nbformat>=4.2.0->pycaret) (2024.10.1)\n",
      "Requirement already satisfied: referencing>=0.28.4 in c:\\users\\tufas\\appdata\\local\\programs\\python\\python311\\lib\\site-packages (from jsonschema>=2.6->nbformat>=4.2.0->pycaret) (0.36.2)\n",
      "Requirement already satisfied: rpds-py>=0.7.1 in c:\\users\\tufas\\appdata\\local\\programs\\python\\python311\\lib\\site-packages (from jsonschema>=2.6->nbformat>=4.2.0->pycaret) (0.23.1)\n",
      "Requirement already satisfied: platformdirs>=2.5 in c:\\users\\tufas\\appdata\\roaming\\python\\python311\\site-packages (from jupyter-core!=5.0.*,>=4.12->nbformat>=4.2.0->pycaret) (4.3.6)\n",
      "Requirement already satisfied: pywin32>=300 in c:\\users\\tufas\\appdata\\roaming\\python\\python311\\site-packages (from jupyter-core!=5.0.*,>=4.12->nbformat>=4.2.0->pycaret) (308)\n",
      "Requirement already satisfied: wcwidth in c:\\users\\tufas\\appdata\\roaming\\python\\python311\\site-packages (from prompt_toolkit<3.1.0,>=3.0.41->ipython>=5.5.0->pycaret) (0.2.13)\n",
      "Requirement already satisfied: executing>=1.2.0 in c:\\users\\tufas\\appdata\\roaming\\python\\python311\\site-packages (from stack_data->ipython>=5.5.0->pycaret) (2.2.0)\n",
      "Requirement already satisfied: asttokens>=2.1.0 in c:\\users\\tufas\\appdata\\roaming\\python\\python311\\site-packages (from stack_data->ipython>=5.5.0->pycaret) (3.0.0)\n",
      "Requirement already satisfied: pure-eval in c:\\users\\tufas\\appdata\\roaming\\python\\python311\\site-packages (from stack_data->ipython>=5.5.0->pycaret) (0.2.3)\n",
      "Requirement already satisfied: itsdangerous>=2.1.2 in c:\\users\\tufas\\appdata\\local\\programs\\python\\python311\\lib\\site-packages (from Flask<3.1,>=1.0.4->dash>=2.9.0->plotly-resampler>=0.8.3.1->pycaret) (2.2.0)\n",
      "Requirement already satisfied: click>=8.1.3 in c:\\users\\tufas\\appdata\\local\\programs\\python\\python311\\lib\\site-packages (from Flask<3.1,>=1.0.4->dash>=2.9.0->plotly-resampler>=0.8.3.1->pycaret) (8.1.8)\n",
      "Requirement already satisfied: blinker>=1.6.2 in c:\\users\\tufas\\appdata\\local\\programs\\python\\python311\\lib\\site-packages (from Flask<3.1,>=1.0.4->dash>=2.9.0->plotly-resampler>=0.8.3.1->pycaret) (1.9.0)\n"
     ]
    },
    {
     "name": "stderr",
     "output_type": "stream",
     "text": [
      "\n",
      "[notice] A new release of pip is available: 23.2.1 -> 25.0.1\n",
      "[notice] To update, run: python.exe -m pip install --upgrade pip\n"
     ]
    }
   ],
   "source": [
    "!pip install pycaret pandas shap"
   ]
  },
  {
   "cell_type": "markdown",
   "metadata": {},
   "source": [
    "Train Pm2.5 (-7days)"
   ]
  },
  {
   "cell_type": "code",
   "execution_count": null,
   "metadata": {},
   "outputs": [],
   "source": [
    "import pandas as pd\n",
    "from pycaret.regression import *\n",
    "from datetime import timedelta\n",
    "import numpy as np\n",
    "\n",
    "# โหลดไฟล์ CSV\n",
    "file_path = \"D:\\project-term\\pm_2.5\\export-jsps013-1h-7days.csv\"\n",
    "df = pd.read_csv(file_path)\n",
    "\n",
    "# แปลง datetime เป็นชนิด datetime\n",
    "df[\"datetime\"] = pd.to_datetime(df[\"datetime\"], dayfirst=True, errors=\"coerce\")\n",
    "\n",
    "# แปลง 'pm_2_5' เป็นตัวเลข\n",
    "df[\"pm_2_5\"] = pd.to_numeric(df[\"pm_2_5\"], errors=\"coerce\")\n",
    "\n",
    "# สร้างสำเนา DataFrame เพื่อใช้ทำความสะอาดข้อมูล\n",
    "df_cleaned = df.copy()\n",
    "\n",
    "# ฟังก์ชันสำหรับจัดการ outlier และ NaN ด้วย Hybrid Imputation\n",
    "def hybrid_imputation(series):\n",
    "    # คำนวณ IQR\n",
    "    Q1 = series.quantile(0.25)\n",
    "    Q3 = series.quantile(0.75)\n",
    "    IQR = Q3 - Q1\n",
    "\n",
    "    # กำหนดขอบเขตของ outlier\n",
    "    lower_bound = Q1 - 1.5 * IQR\n",
    "    upper_bound = Q3 + 1.5 * IQR\n",
    "\n",
    "    # คำนวณค่ากลางจากข้อมูลที่ไม่ใช่ outlier\n",
    "    non_outlier_values = series[(series >= lower_bound) & (series <= upper_bound)]\n",
    "    median_value = non_outlier_values.median() if not non_outlier_values.empty else series.median()\n",
    "\n",
    "    # แทนที่ outlier และ NaN ด้วยค่าข้างเคียง + ค่ากลาง\n",
    "    series = series.mask((series < lower_bound) | (series > upper_bound), np.nan)\n",
    "    series = series.interpolate(method=\"linear\")  # เติมค่าที่ขาดหายด้วย Interpolation\n",
    "    series = series.fillna(median_value)  # ถ้ายังมี NaN อยู่ให้เติมด้วยค่ากลาง\n",
    "\n",
    "    return series\n",
    "\n",
    "# ใช้ Hybrid Imputation สำหรับคอลัมน์ 'pm_2_5'\n",
    "df_cleaned[\"pm_2_5\"] = hybrid_imputation(df_cleaned[\"pm_2_5\"])\n",
    "\n",
    "# สร้างฟีเจอร์ย้อนหลัง (Lag Features)\n",
    "for lag in [1, 3, 6, 24]:\n",
    "    df_cleaned[f\"pm_2_5_lag_{lag}\"] = df_cleaned[\"pm_2_5\"].shift(lag)\n",
    "\n",
    "# เพิ่มฟีเจอร์เชิงเวลา (Hour และ Day of Week)\n",
    "df_cleaned[\"hour\"] = df_cleaned[\"datetime\"].dt.hour\n",
    "df_cleaned[\"dayofweek\"] = df_cleaned[\"datetime\"].dt.dayofweek\n",
    "\n",
    "# ฟังก์ชันเพิ่ม Fourier Terms สำหรับ Weekly Seasonality\n",
    "def add_fourier_terms(df, period=24 * 7, n_harmonics=4):\n",
    "    for k in range(1, n_harmonics + 1):\n",
    "        df[f\"sin_{k}\"] = np.sin(2 * np.pi * k * df[\"hour\"] / period)\n",
    "        df[f\"cos_{k}\"] = np.cos(2 * np.pi * k * df[\"hour\"] / period)\n",
    "    return df\n",
    "\n",
    "# เพิ่ม Fourier Terms ลงใน DataFrame\n",
    "df_cleaned = add_fourier_terms(df_cleaned)\n",
    "\n",
    "# ตั้งค่า PyCaret และแบ่ง train 80% test 20%\n",
    "exp = setup(df_cleaned, target=\"pm_2_5\", train_size=0.8, session_id=42, normalize=True, feature_selection=True)\n",
    "\n",
    "# ปรับแต่งโมเดล Random Forest Regressor\n",
    "model = create_model(\"rf\")\n",
    "\n",
    "final_model = finalize_model(model)\n",
    "save_model(final_model, \"D:/project-term/modelPM/model_PM255\")\n",
    "\n",
    "# ---- สร้างข้อมูลสำหรับพยากรณ์ล่วงหน้า 7 วัน (168 ชั่วโมง) ----\n",
    "last_date = df_cleaned[\"datetime\"].max()\n",
    "future_dates = [last_date + timedelta(hours=i) for i in range(1, 169)]\n",
    "\n",
    "# ใช้ค่าเฉลี่ยล่าสุดของความชื้นและอุณหภูมิ\n",
    "latest_humidity = df_cleaned[\"humidity\"].iloc[-24:].mean()\n",
    "latest_temperature = df_cleaned[\"temperature\"].iloc[-24:].mean()\n",
    "latest_pm25 = df_cleaned[\"pm_2_5\"].iloc[-1]\n",
    "\n",
    "# สร้าง DataFrame สำหรับพยากรณ์\n",
    "future_data = pd.DataFrame({\n",
    "    \"datetime\": future_dates,\n",
    "    \"humidity\": [latest_humidity] * len(future_dates),\n",
    "    \"temperature\": [latest_temperature] * len(future_dates),\n",
    "    \"pm_2_5_lag_1\": [latest_pm25] * len(future_dates),\n",
    "    \"pm_2_5_lag_3\": [latest_pm25] * len(future_dates),\n",
    "    \"pm_2_5_lag_6\": [latest_pm25] * len(future_dates),\n",
    "    \"pm_2_5_lag_24\": [latest_pm25] * len(future_dates)\n",
    "})\n",
    "\n",
    "# เพิ่มฟีเจอร์เชิงเวลาให้ future_data\n",
    "future_data[\"hour\"] = future_data[\"datetime\"].dt.hour\n",
    "future_data[\"dayofweek\"] = future_data[\"datetime\"].dt.dayofweek\n",
    "\n",
    "# เพิ่ม Fourier Terms ให้ future_data\n",
    "future_data = add_fourier_terms(future_data)\n",
    "\n",
    "# โหลดโมเดลที่บันทึกไว้\n",
    "final_model = load_model(\"D:/project-term/modelPM/model_PM25\")\n",
    "\n",
    "# Recursive forecasting (พยากรณ์แบบก้าวหน้า)\n",
    "for i in range(len(future_data)):\n",
    "    pred = predict_model(final_model, data=future_data.iloc[i:i+1])\n",
    "    predicted_value = pred.iloc[0][\"prediction_label\"]\n",
    "    if i + 1 < len(future_data):\n",
    "        future_data.at[i + 1, \"pm_2_5_lag_1\"] = predicted_value\n",
    "    if i + 3 < len(future_data):\n",
    "        future_data.at[i + 3, \"pm_2_5_lag_3\"] = predicted_value\n",
    "    if i + 6 < len(future_data):\n",
    "        future_data.at[i + 6, \"pm_2_5_lag_6\"] = predicted_value\n",
    "    if i + 24 < len(future_data):\n",
    "        future_data.at[i + 24, \"pm_2_5_lag_24\"] = predicted_value\n",
    "\n",
    "# ทำนายค่า PM 2.5\n",
    "predictions = predict_model(final_model, data=future_data)\n",
    "\n",
    "# หาชื่อคอลัมน์การทำนายที่ถูกต้อง\n",
    "prediction_column = [col for col in predictions.columns if \"predict\" in col.lower()]\n",
    "if prediction_column:\n",
    "    prediction_column = prediction_column[0]\n",
    "    print(predictions[[\"datetime\", prediction_column]])\n",
    "else:\n",
    "    print(\"ไม่พบคอลัมน์การทำนาย ลองแสดงผลทั้งหมด:\")\n",
    "    print(predictions.head())\n",
    "\n",
    "future_data.to_csv(\"D:/project-term/pm_2.5/future_pm_datax.csv\", index=False)\n",
    "\n",
    "# บันทึกผลลัพธ์เป็นไฟล์ CSV โดยเลือกเฉพาะ datetime และ prediction_label\n",
    "predictions[[\"datetime\", \"prediction_label\"]].to_csv(\"D:/project-term/pm_2.5/predicted_pm25.csv\", index=False)\n",
    "\n",
    "print(\"บันทึกผลลัพธ์การพยากรณ์สำเร็จ! ✅\")\n",
    "\n"
   ]
  },
  {
   "cell_type": "markdown",
   "metadata": {},
   "source": [
    "Graph actual_pm_2_5 compare PM 2.5 (7 Days)"
   ]
  },
  {
   "cell_type": "code",
   "execution_count": null,
   "metadata": {},
   "outputs": [],
   "source": [
    "import pandas as pd\n",
    "import numpy as np\n",
    "import matplotlib.pyplot as plt\n",
    "\n",
    "# โหลดไฟล์เก่า (สำหรับการเปรียบเทียบค่าจริง)\n",
    "file_path_old = r\"D:\\project-term\\pm_2.5\\export-jsps013-1h.csv\"\n",
    "df_old = pd.read_csv(file_path_old)\n",
    "\n",
    "# ฟังก์ชันสำหรับจัดการ outlier และ NaN ด้วย Hybrid Imputation\n",
    "def hybrid_imputation(series):\n",
    "    # คำนวณ IQR\n",
    "    Q1 = series.quantile(0.25)\n",
    "    Q3 = series.quantile(0.75)\n",
    "    IQR = Q3 - Q1\n",
    "\n",
    "    # กำหนดขอบเขตของ outlier\n",
    "    lower_bound = Q1 - 1.5 * IQR\n",
    "    upper_bound = Q3 + 1.5 * IQR\n",
    "\n",
    "    # คำนวณค่ากลางจากข้อมูลที่ไม่ใช่ outlier\n",
    "    non_outlier_values = series[(series >= lower_bound) & (series <= upper_bound)]\n",
    "    median_value = non_outlier_values.median() if not non_outlier_values.empty else series.median()\n",
    "\n",
    "    # แทนที่ outlier ด้วยค่าเฉลี่ยของค่าข้างเคียงแทนค่ามัธยฐานคงที่\n",
    "    series = series.mask((series < lower_bound) | (series > upper_bound), np.nan)\n",
    "    series = series.interpolate(method=\"linear\")  # เติมค่าที่ขาดหายด้วย Interpolation\n",
    "    series = series.fillna(median_value)  # ถ้ายังมี NaN อยู่ให้เติมด้วยค่ากลาง\n",
    "\n",
    "    return series\n",
    "\n",
    "\n",
    "# เช็คและแปลง datetime ของไฟล์เก่า\n",
    "df_old[\"datetime\"] = pd.to_datetime(df_old[\"datetime\"], dayfirst=True, errors=\"coerce\")\n",
    "df_old[\"pm_2_5\"] = pd.to_numeric(df_old[\"pm_2_5\"], errors=\"coerce\")\n",
    "\n",
    "# ใช้ Hybrid Imputation สำหรับคอลัมน์ 'pm_2_5' ในไฟล์เก่า\n",
    "df_old[\"pm_2_5\"] = hybrid_imputation(df_old[\"pm_2_5\"])\n",
    "\n",
    "# ดึงค่าจริงจากไฟล์เก่า (168 ชั่วโมงสุดท้าย)\n",
    "actual_values_old = df_old['pm_2_5'].iloc[-168:].reset_index(drop=True)\n",
    "\n",
    "\n",
    "\n",
    "# ---- เปรียบเทียบและพล็อตกราฟ ----\n",
    "# เพิ่มคอลัมน์ 'actual_pm_2_5' ใน predictions DataFrame\n",
    "predictions['actual_pm_2_5'] = actual_values_old\n",
    "\n",
    "# พล็อตกราฟเปรียบเทียบ\n",
    "plt.figure(figsize=(20, 10))  # ตั้งค่าขนาดกราฟ\n",
    "\n",
    "# พล็อตเส้นกราฟ\n",
    "plt.plot(predictions['datetime'], predictions['actual_pm_2_5'], label='Actual PM 2.5 ', marker='x', markersize=8, linewidth=2, color='blue') #(จากไฟล์เก่า)\n",
    "plt.plot(predictions['datetime'], predictions['prediction_label'], label='Predicted PM 2.5 ', marker='x', markersize=8, linewidth=2, color='orange') #(ค่าทำนาย)\n",
    "\n",
    "# เพิ่มเส้นกริด\n",
    "plt.grid(True, linestyle='--', alpha=0.7)\n",
    "\n",
    "# ปรับแต่งแกน X และ Y\n",
    "plt.xlabel('Datetime', fontsize=14)\n",
    "plt.ylabel('PM 2.5', fontsize=14)\n",
    "plt.xticks(rotation=45, fontsize=12)  # ปรับ rotation และขนาด font ของแกน X\n",
    "plt.yticks(fontsize=12)  # ปรับขนาด font ของแกน Y\n",
    "\n",
    "# เพิ่ม title และ legend\n",
    "plt.title('actual_pm_2_5 compare PM 2.5 (7 Days)', fontsize=16, fontweight='bold')\n",
    "plt.legend(fontsize=12, loc='upper left')\n",
    "\n",
    "# ปรับ layout เพื่อไม่ให้ข้อมูลถูกตัด\n",
    "plt.tight_layout()\n",
    "\n",
    "# แสดงกราฟ\n",
    "plt.show()"
   ]
  },
  {
   "cell_type": "markdown",
   "metadata": {},
   "source": [
    "Check test Accuracy"
   ]
  },
  {
   "cell_type": "code",
   "execution_count": null,
   "metadata": {},
   "outputs": [],
   "source": [
    "from sklearn.model_selection import train_test_split\n",
    "from sklearn.ensemble import RandomForestRegressor\n",
    "from sklearn.metrics import mean_squared_error, r2_score, mean_absolute_percentage_error,mean_absolute_error\n",
    "\n",
    "# แบ่งข้อมูลเป็นชุดฝึกและชุดทดสอบ\n",
    "X = df_cleaned.drop(columns=[\"pm_2_5\", \"datetime\"])  # ฟีเจอร์\n",
    "y = df_cleaned[\"pm_2_5\"]  # เป้าหมาย (target)\n",
    "\n",
    "X_train, X_test, y_train, y_test = train_test_split(X, y, test_size=0.2, random_state=42)\n",
    "\n",
    "# สร้างและฝึกโมเดล\n",
    "model = RandomForestRegressor(random_state=42)\n",
    "model.fit(X_train, y_train)\n",
    "\n",
    "# ทำนายค่าบนชุดฝึกและชุดทดสอบ\n",
    "y_train_pred = model.predict(X_train)\n",
    "y_test_pred = model.predict(X_test)\n",
    "\n",
    "# ประเมินประสิทธิภาพด้วย MSE, R², และ MAPE\n",
    "test_mse = mean_squared_error(y_test, y_test_pred)\n",
    "\n",
    "test_r2 = r2_score(y_test, y_test_pred)\n",
    "\n",
    "test_mape = mean_absolute_percentage_error(y_test, y_test_pred)\n",
    "\n",
    "# แสดงผลลัพธ์\n",
    "print(f\"Test MSE: {test_mse}\")\n",
    "print(f\"Test R²: {test_r2}\")\n",
    "print(f\"Test MAPE: {test_mape}\")\n"
   ]
  },
  {
   "cell_type": "markdown",
   "metadata": {},
   "source": [
    "PM2.5 Future next 7 Days"
   ]
  },
  {
   "cell_type": "code",
   "execution_count": null,
   "metadata": {},
   "outputs": [
    {
     "data": {
      "text/html": [
       "<style type=\"text/css\">\n",
       "#T_c21d4_row10_col1, #T_c21d4_row14_col1, #T_c21d4_row16_col1 {\n",
       "  background-color: lightgreen;\n",
       "}\n",
       "</style>\n",
       "<table id=\"T_c21d4\">\n",
       "  <thead>\n",
       "    <tr>\n",
       "      <th class=\"blank level0\" >&nbsp;</th>\n",
       "      <th id=\"T_c21d4_level0_col0\" class=\"col_heading level0 col0\" >Description</th>\n",
       "      <th id=\"T_c21d4_level0_col1\" class=\"col_heading level0 col1\" >Value</th>\n",
       "    </tr>\n",
       "  </thead>\n",
       "  <tbody>\n",
       "    <tr>\n",
       "      <th id=\"T_c21d4_level0_row0\" class=\"row_heading level0 row0\" >0</th>\n",
       "      <td id=\"T_c21d4_row0_col0\" class=\"data row0 col0\" >Session id</td>\n",
       "      <td id=\"T_c21d4_row0_col1\" class=\"data row0 col1\" >42</td>\n",
       "    </tr>\n",
       "    <tr>\n",
       "      <th id=\"T_c21d4_level0_row1\" class=\"row_heading level0 row1\" >1</th>\n",
       "      <td id=\"T_c21d4_row1_col0\" class=\"data row1 col0\" >Target</td>\n",
       "      <td id=\"T_c21d4_row1_col1\" class=\"data row1 col1\" >pm_2_5</td>\n",
       "    </tr>\n",
       "    <tr>\n",
       "      <th id=\"T_c21d4_level0_row2\" class=\"row_heading level0 row2\" >2</th>\n",
       "      <td id=\"T_c21d4_row2_col0\" class=\"data row2 col0\" >Target type</td>\n",
       "      <td id=\"T_c21d4_row2_col1\" class=\"data row2 col1\" >Regression</td>\n",
       "    </tr>\n",
       "    <tr>\n",
       "      <th id=\"T_c21d4_level0_row3\" class=\"row_heading level0 row3\" >3</th>\n",
       "      <td id=\"T_c21d4_row3_col0\" class=\"data row3 col0\" >Original data shape</td>\n",
       "      <td id=\"T_c21d4_row3_col1\" class=\"data row3 col1\" >(22954, 18)</td>\n",
       "    </tr>\n",
       "    <tr>\n",
       "      <th id=\"T_c21d4_level0_row4\" class=\"row_heading level0 row4\" >4</th>\n",
       "      <td id=\"T_c21d4_row4_col0\" class=\"data row4 col0\" >Transformed data shape</td>\n",
       "      <td id=\"T_c21d4_row4_col1\" class=\"data row4 col1\" >(22954, 4)</td>\n",
       "    </tr>\n",
       "    <tr>\n",
       "      <th id=\"T_c21d4_level0_row5\" class=\"row_heading level0 row5\" >5</th>\n",
       "      <td id=\"T_c21d4_row5_col0\" class=\"data row5 col0\" >Transformed train set shape</td>\n",
       "      <td id=\"T_c21d4_row5_col1\" class=\"data row5 col1\" >(18363, 4)</td>\n",
       "    </tr>\n",
       "    <tr>\n",
       "      <th id=\"T_c21d4_level0_row6\" class=\"row_heading level0 row6\" >6</th>\n",
       "      <td id=\"T_c21d4_row6_col0\" class=\"data row6 col0\" >Transformed test set shape</td>\n",
       "      <td id=\"T_c21d4_row6_col1\" class=\"data row6 col1\" >(4591, 4)</td>\n",
       "    </tr>\n",
       "    <tr>\n",
       "      <th id=\"T_c21d4_level0_row7\" class=\"row_heading level0 row7\" >7</th>\n",
       "      <td id=\"T_c21d4_row7_col0\" class=\"data row7 col0\" >Numeric features</td>\n",
       "      <td id=\"T_c21d4_row7_col1\" class=\"data row7 col1\" >16</td>\n",
       "    </tr>\n",
       "    <tr>\n",
       "      <th id=\"T_c21d4_level0_row8\" class=\"row_heading level0 row8\" >8</th>\n",
       "      <td id=\"T_c21d4_row8_col0\" class=\"data row8 col0\" >Date features</td>\n",
       "      <td id=\"T_c21d4_row8_col1\" class=\"data row8 col1\" >1</td>\n",
       "    </tr>\n",
       "    <tr>\n",
       "      <th id=\"T_c21d4_level0_row9\" class=\"row_heading level0 row9\" >9</th>\n",
       "      <td id=\"T_c21d4_row9_col0\" class=\"data row9 col0\" >Rows with missing values</td>\n",
       "      <td id=\"T_c21d4_row9_col1\" class=\"data row9 col1\" >0.1%</td>\n",
       "    </tr>\n",
       "    <tr>\n",
       "      <th id=\"T_c21d4_level0_row10\" class=\"row_heading level0 row10\" >10</th>\n",
       "      <td id=\"T_c21d4_row10_col0\" class=\"data row10 col0\" >Preprocess</td>\n",
       "      <td id=\"T_c21d4_row10_col1\" class=\"data row10 col1\" >True</td>\n",
       "    </tr>\n",
       "    <tr>\n",
       "      <th id=\"T_c21d4_level0_row11\" class=\"row_heading level0 row11\" >11</th>\n",
       "      <td id=\"T_c21d4_row11_col0\" class=\"data row11 col0\" >Imputation type</td>\n",
       "      <td id=\"T_c21d4_row11_col1\" class=\"data row11 col1\" >simple</td>\n",
       "    </tr>\n",
       "    <tr>\n",
       "      <th id=\"T_c21d4_level0_row12\" class=\"row_heading level0 row12\" >12</th>\n",
       "      <td id=\"T_c21d4_row12_col0\" class=\"data row12 col0\" >Numeric imputation</td>\n",
       "      <td id=\"T_c21d4_row12_col1\" class=\"data row12 col1\" >mean</td>\n",
       "    </tr>\n",
       "    <tr>\n",
       "      <th id=\"T_c21d4_level0_row13\" class=\"row_heading level0 row13\" >13</th>\n",
       "      <td id=\"T_c21d4_row13_col0\" class=\"data row13 col0\" >Categorical imputation</td>\n",
       "      <td id=\"T_c21d4_row13_col1\" class=\"data row13 col1\" >mode</td>\n",
       "    </tr>\n",
       "    <tr>\n",
       "      <th id=\"T_c21d4_level0_row14\" class=\"row_heading level0 row14\" >14</th>\n",
       "      <td id=\"T_c21d4_row14_col0\" class=\"data row14 col0\" >Normalize</td>\n",
       "      <td id=\"T_c21d4_row14_col1\" class=\"data row14 col1\" >True</td>\n",
       "    </tr>\n",
       "    <tr>\n",
       "      <th id=\"T_c21d4_level0_row15\" class=\"row_heading level0 row15\" >15</th>\n",
       "      <td id=\"T_c21d4_row15_col0\" class=\"data row15 col0\" >Normalize method</td>\n",
       "      <td id=\"T_c21d4_row15_col1\" class=\"data row15 col1\" >zscore</td>\n",
       "    </tr>\n",
       "    <tr>\n",
       "      <th id=\"T_c21d4_level0_row16\" class=\"row_heading level0 row16\" >16</th>\n",
       "      <td id=\"T_c21d4_row16_col0\" class=\"data row16 col0\" >Feature selection</td>\n",
       "      <td id=\"T_c21d4_row16_col1\" class=\"data row16 col1\" >True</td>\n",
       "    </tr>\n",
       "    <tr>\n",
       "      <th id=\"T_c21d4_level0_row17\" class=\"row_heading level0 row17\" >17</th>\n",
       "      <td id=\"T_c21d4_row17_col0\" class=\"data row17 col0\" >Feature selection method</td>\n",
       "      <td id=\"T_c21d4_row17_col1\" class=\"data row17 col1\" >classic</td>\n",
       "    </tr>\n",
       "    <tr>\n",
       "      <th id=\"T_c21d4_level0_row18\" class=\"row_heading level0 row18\" >18</th>\n",
       "      <td id=\"T_c21d4_row18_col0\" class=\"data row18 col0\" >Feature selection estimator</td>\n",
       "      <td id=\"T_c21d4_row18_col1\" class=\"data row18 col1\" >lightgbm</td>\n",
       "    </tr>\n",
       "    <tr>\n",
       "      <th id=\"T_c21d4_level0_row19\" class=\"row_heading level0 row19\" >19</th>\n",
       "      <td id=\"T_c21d4_row19_col0\" class=\"data row19 col0\" >Number of features selected</td>\n",
       "      <td id=\"T_c21d4_row19_col1\" class=\"data row19 col1\" >0.200000</td>\n",
       "    </tr>\n",
       "    <tr>\n",
       "      <th id=\"T_c21d4_level0_row20\" class=\"row_heading level0 row20\" >20</th>\n",
       "      <td id=\"T_c21d4_row20_col0\" class=\"data row20 col0\" >Fold Generator</td>\n",
       "      <td id=\"T_c21d4_row20_col1\" class=\"data row20 col1\" >KFold</td>\n",
       "    </tr>\n",
       "    <tr>\n",
       "      <th id=\"T_c21d4_level0_row21\" class=\"row_heading level0 row21\" >21</th>\n",
       "      <td id=\"T_c21d4_row21_col0\" class=\"data row21 col0\" >Fold Number</td>\n",
       "      <td id=\"T_c21d4_row21_col1\" class=\"data row21 col1\" >10</td>\n",
       "    </tr>\n",
       "    <tr>\n",
       "      <th id=\"T_c21d4_level0_row22\" class=\"row_heading level0 row22\" >22</th>\n",
       "      <td id=\"T_c21d4_row22_col0\" class=\"data row22 col0\" >CPU Jobs</td>\n",
       "      <td id=\"T_c21d4_row22_col1\" class=\"data row22 col1\" >-1</td>\n",
       "    </tr>\n",
       "    <tr>\n",
       "      <th id=\"T_c21d4_level0_row23\" class=\"row_heading level0 row23\" >23</th>\n",
       "      <td id=\"T_c21d4_row23_col0\" class=\"data row23 col0\" >Use GPU</td>\n",
       "      <td id=\"T_c21d4_row23_col1\" class=\"data row23 col1\" >False</td>\n",
       "    </tr>\n",
       "    <tr>\n",
       "      <th id=\"T_c21d4_level0_row24\" class=\"row_heading level0 row24\" >24</th>\n",
       "      <td id=\"T_c21d4_row24_col0\" class=\"data row24 col0\" >Log Experiment</td>\n",
       "      <td id=\"T_c21d4_row24_col1\" class=\"data row24 col1\" >False</td>\n",
       "    </tr>\n",
       "    <tr>\n",
       "      <th id=\"T_c21d4_level0_row25\" class=\"row_heading level0 row25\" >25</th>\n",
       "      <td id=\"T_c21d4_row25_col0\" class=\"data row25 col0\" >Experiment Name</td>\n",
       "      <td id=\"T_c21d4_row25_col1\" class=\"data row25 col1\" >reg-default-name</td>\n",
       "    </tr>\n",
       "    <tr>\n",
       "      <th id=\"T_c21d4_level0_row26\" class=\"row_heading level0 row26\" >26</th>\n",
       "      <td id=\"T_c21d4_row26_col0\" class=\"data row26 col0\" >USI</td>\n",
       "      <td id=\"T_c21d4_row26_col1\" class=\"data row26 col1\" >a517</td>\n",
       "    </tr>\n",
       "  </tbody>\n",
       "</table>\n"
      ],
      "text/plain": [
       "<pandas.io.formats.style.Styler at 0x2370007f310>"
      ]
     },
     "metadata": {},
     "output_type": "display_data"
    },
    {
     "data": {
      "text/html": [],
      "text/plain": [
       "<IPython.core.display.HTML object>"
      ]
     },
     "metadata": {},
     "output_type": "display_data"
    },
    {
     "data": {
      "text/html": [
       "<style type=\"text/css\">\n",
       "#T_18ca2_row10_col0, #T_18ca2_row10_col1, #T_18ca2_row10_col2, #T_18ca2_row10_col3, #T_18ca2_row10_col4, #T_18ca2_row10_col5 {\n",
       "  background: yellow;\n",
       "}\n",
       "</style>\n",
       "<table id=\"T_18ca2\">\n",
       "  <thead>\n",
       "    <tr>\n",
       "      <th class=\"blank level0\" >&nbsp;</th>\n",
       "      <th id=\"T_18ca2_level0_col0\" class=\"col_heading level0 col0\" >MAE</th>\n",
       "      <th id=\"T_18ca2_level0_col1\" class=\"col_heading level0 col1\" >MSE</th>\n",
       "      <th id=\"T_18ca2_level0_col2\" class=\"col_heading level0 col2\" >RMSE</th>\n",
       "      <th id=\"T_18ca2_level0_col3\" class=\"col_heading level0 col3\" >R2</th>\n",
       "      <th id=\"T_18ca2_level0_col4\" class=\"col_heading level0 col4\" >RMSLE</th>\n",
       "      <th id=\"T_18ca2_level0_col5\" class=\"col_heading level0 col5\" >MAPE</th>\n",
       "    </tr>\n",
       "    <tr>\n",
       "      <th class=\"index_name level0\" >Fold</th>\n",
       "      <th class=\"blank col0\" >&nbsp;</th>\n",
       "      <th class=\"blank col1\" >&nbsp;</th>\n",
       "      <th class=\"blank col2\" >&nbsp;</th>\n",
       "      <th class=\"blank col3\" >&nbsp;</th>\n",
       "      <th class=\"blank col4\" >&nbsp;</th>\n",
       "      <th class=\"blank col5\" >&nbsp;</th>\n",
       "    </tr>\n",
       "  </thead>\n",
       "  <tbody>\n",
       "    <tr>\n",
       "      <th id=\"T_18ca2_level0_row0\" class=\"row_heading level0 row0\" >0</th>\n",
       "      <td id=\"T_18ca2_row0_col0\" class=\"data row0 col0\" >3.1992</td>\n",
       "      <td id=\"T_18ca2_row0_col1\" class=\"data row0 col1\" >21.5067</td>\n",
       "      <td id=\"T_18ca2_row0_col2\" class=\"data row0 col2\" >4.6375</td>\n",
       "      <td id=\"T_18ca2_row0_col3\" class=\"data row0 col3\" >0.7802</td>\n",
       "      <td id=\"T_18ca2_row0_col4\" class=\"data row0 col4\" >0.3270</td>\n",
       "      <td id=\"T_18ca2_row0_col5\" class=\"data row0 col5\" >0.3244</td>\n",
       "    </tr>\n",
       "    <tr>\n",
       "      <th id=\"T_18ca2_level0_row1\" class=\"row_heading level0 row1\" >1</th>\n",
       "      <td id=\"T_18ca2_row1_col0\" class=\"data row1 col0\" >3.1819</td>\n",
       "      <td id=\"T_18ca2_row1_col1\" class=\"data row1 col1\" >20.6813</td>\n",
       "      <td id=\"T_18ca2_row1_col2\" class=\"data row1 col2\" >4.5477</td>\n",
       "      <td id=\"T_18ca2_row1_col3\" class=\"data row1 col3\" >0.7856</td>\n",
       "      <td id=\"T_18ca2_row1_col4\" class=\"data row1 col4\" >0.3340</td>\n",
       "      <td id=\"T_18ca2_row1_col5\" class=\"data row1 col5\" >0.3412</td>\n",
       "    </tr>\n",
       "    <tr>\n",
       "      <th id=\"T_18ca2_level0_row2\" class=\"row_heading level0 row2\" >2</th>\n",
       "      <td id=\"T_18ca2_row2_col0\" class=\"data row2 col0\" >3.2192</td>\n",
       "      <td id=\"T_18ca2_row2_col1\" class=\"data row2 col1\" >22.0313</td>\n",
       "      <td id=\"T_18ca2_row2_col2\" class=\"data row2 col2\" >4.6937</td>\n",
       "      <td id=\"T_18ca2_row2_col3\" class=\"data row2 col3\" >0.7849</td>\n",
       "      <td id=\"T_18ca2_row2_col4\" class=\"data row2 col4\" >0.3229</td>\n",
       "      <td id=\"T_18ca2_row2_col5\" class=\"data row2 col5\" >0.3090</td>\n",
       "    </tr>\n",
       "    <tr>\n",
       "      <th id=\"T_18ca2_level0_row3\" class=\"row_heading level0 row3\" >3</th>\n",
       "      <td id=\"T_18ca2_row3_col0\" class=\"data row3 col0\" >3.0821</td>\n",
       "      <td id=\"T_18ca2_row3_col1\" class=\"data row3 col1\" >20.3975</td>\n",
       "      <td id=\"T_18ca2_row3_col2\" class=\"data row3 col2\" >4.5164</td>\n",
       "      <td id=\"T_18ca2_row3_col3\" class=\"data row3 col3\" >0.8041</td>\n",
       "      <td id=\"T_18ca2_row3_col4\" class=\"data row3 col4\" >0.3273</td>\n",
       "      <td id=\"T_18ca2_row3_col5\" class=\"data row3 col5\" >0.3234</td>\n",
       "    </tr>\n",
       "    <tr>\n",
       "      <th id=\"T_18ca2_level0_row4\" class=\"row_heading level0 row4\" >4</th>\n",
       "      <td id=\"T_18ca2_row4_col0\" class=\"data row4 col0\" >3.0986</td>\n",
       "      <td id=\"T_18ca2_row4_col1\" class=\"data row4 col1\" >20.0165</td>\n",
       "      <td id=\"T_18ca2_row4_col2\" class=\"data row4 col2\" >4.4740</td>\n",
       "      <td id=\"T_18ca2_row4_col3\" class=\"data row4 col3\" >0.8046</td>\n",
       "      <td id=\"T_18ca2_row4_col4\" class=\"data row4 col4\" >0.3134</td>\n",
       "      <td id=\"T_18ca2_row4_col5\" class=\"data row4 col5\" >0.3073</td>\n",
       "    </tr>\n",
       "    <tr>\n",
       "      <th id=\"T_18ca2_level0_row5\" class=\"row_heading level0 row5\" >5</th>\n",
       "      <td id=\"T_18ca2_row5_col0\" class=\"data row5 col0\" >3.2126</td>\n",
       "      <td id=\"T_18ca2_row5_col1\" class=\"data row5 col1\" >20.9109</td>\n",
       "      <td id=\"T_18ca2_row5_col2\" class=\"data row5 col2\" >4.5728</td>\n",
       "      <td id=\"T_18ca2_row5_col3\" class=\"data row5 col3\" >0.7956</td>\n",
       "      <td id=\"T_18ca2_row5_col4\" class=\"data row5 col4\" >0.3184</td>\n",
       "      <td id=\"T_18ca2_row5_col5\" class=\"data row5 col5\" >0.3098</td>\n",
       "    </tr>\n",
       "    <tr>\n",
       "      <th id=\"T_18ca2_level0_row6\" class=\"row_heading level0 row6\" >6</th>\n",
       "      <td id=\"T_18ca2_row6_col0\" class=\"data row6 col0\" >3.2271</td>\n",
       "      <td id=\"T_18ca2_row6_col1\" class=\"data row6 col1\" >21.8941</td>\n",
       "      <td id=\"T_18ca2_row6_col2\" class=\"data row6 col2\" >4.6791</td>\n",
       "      <td id=\"T_18ca2_row6_col3\" class=\"data row6 col3\" >0.7818</td>\n",
       "      <td id=\"T_18ca2_row6_col4\" class=\"data row6 col4\" >0.3280</td>\n",
       "      <td id=\"T_18ca2_row6_col5\" class=\"data row6 col5\" >0.3276</td>\n",
       "    </tr>\n",
       "    <tr>\n",
       "      <th id=\"T_18ca2_level0_row7\" class=\"row_heading level0 row7\" >7</th>\n",
       "      <td id=\"T_18ca2_row7_col0\" class=\"data row7 col0\" >3.1464</td>\n",
       "      <td id=\"T_18ca2_row7_col1\" class=\"data row7 col1\" >20.9690</td>\n",
       "      <td id=\"T_18ca2_row7_col2\" class=\"data row7 col2\" >4.5792</td>\n",
       "      <td id=\"T_18ca2_row7_col3\" class=\"data row7 col3\" >0.7953</td>\n",
       "      <td id=\"T_18ca2_row7_col4\" class=\"data row7 col4\" >0.3255</td>\n",
       "      <td id=\"T_18ca2_row7_col5\" class=\"data row7 col5\" >0.3151</td>\n",
       "    </tr>\n",
       "    <tr>\n",
       "      <th id=\"T_18ca2_level0_row8\" class=\"row_heading level0 row8\" >8</th>\n",
       "      <td id=\"T_18ca2_row8_col0\" class=\"data row8 col0\" >3.1851</td>\n",
       "      <td id=\"T_18ca2_row8_col1\" class=\"data row8 col1\" >20.4120</td>\n",
       "      <td id=\"T_18ca2_row8_col2\" class=\"data row8 col2\" >4.5180</td>\n",
       "      <td id=\"T_18ca2_row8_col3\" class=\"data row8 col3\" >0.8007</td>\n",
       "      <td id=\"T_18ca2_row8_col4\" class=\"data row8 col4\" >0.3217</td>\n",
       "      <td id=\"T_18ca2_row8_col5\" class=\"data row8 col5\" >0.3204</td>\n",
       "    </tr>\n",
       "    <tr>\n",
       "      <th id=\"T_18ca2_level0_row9\" class=\"row_heading level0 row9\" >9</th>\n",
       "      <td id=\"T_18ca2_row9_col0\" class=\"data row9 col0\" >3.1366</td>\n",
       "      <td id=\"T_18ca2_row9_col1\" class=\"data row9 col1\" >20.2603</td>\n",
       "      <td id=\"T_18ca2_row9_col2\" class=\"data row9 col2\" >4.5011</td>\n",
       "      <td id=\"T_18ca2_row9_col3\" class=\"data row9 col3\" >0.7975</td>\n",
       "      <td id=\"T_18ca2_row9_col4\" class=\"data row9 col4\" >0.3221</td>\n",
       "      <td id=\"T_18ca2_row9_col5\" class=\"data row9 col5\" >0.3128</td>\n",
       "    </tr>\n",
       "    <tr>\n",
       "      <th id=\"T_18ca2_level0_row10\" class=\"row_heading level0 row10\" >Mean</th>\n",
       "      <td id=\"T_18ca2_row10_col0\" class=\"data row10 col0\" >3.1689</td>\n",
       "      <td id=\"T_18ca2_row10_col1\" class=\"data row10 col1\" >20.9080</td>\n",
       "      <td id=\"T_18ca2_row10_col2\" class=\"data row10 col2\" >4.5720</td>\n",
       "      <td id=\"T_18ca2_row10_col3\" class=\"data row10 col3\" >0.7930</td>\n",
       "      <td id=\"T_18ca2_row10_col4\" class=\"data row10 col4\" >0.3240</td>\n",
       "      <td id=\"T_18ca2_row10_col5\" class=\"data row10 col5\" >0.3191</td>\n",
       "    </tr>\n",
       "    <tr>\n",
       "      <th id=\"T_18ca2_level0_row11\" class=\"row_heading level0 row11\" >Std</th>\n",
       "      <td id=\"T_18ca2_row11_col0\" class=\"data row11 col0\" >0.0482</td>\n",
       "      <td id=\"T_18ca2_row11_col1\" class=\"data row11 col1\" >0.6609</td>\n",
       "      <td id=\"T_18ca2_row11_col2\" class=\"data row11 col2\" >0.0720</td>\n",
       "      <td id=\"T_18ca2_row11_col3\" class=\"data row11 col3\" >0.0087</td>\n",
       "      <td id=\"T_18ca2_row11_col4\" class=\"data row11 col4\" >0.0054</td>\n",
       "      <td id=\"T_18ca2_row11_col5\" class=\"data row11 col5\" >0.0100</td>\n",
       "    </tr>\n",
       "  </tbody>\n",
       "</table>\n"
      ],
      "text/plain": [
       "<pandas.io.formats.style.Styler at 0x23758222e90>"
      ]
     },
     "metadata": {},
     "output_type": "display_data"
    },
    {
     "data": {
      "text/html": [],
      "text/plain": [
       "<IPython.core.display.HTML object>"
      ]
     },
     "metadata": {},
     "output_type": "display_data"
    },
    {
     "name": "stdout",
     "output_type": "stream",
     "text": [
      "Transformation Pipeline and Model Successfully Saved\n",
      "Transformation Pipeline and Model Successfully Loaded\n"
     ]
    },
    {
     "data": {
      "text/html": [],
      "text/plain": [
       "<IPython.core.display.HTML object>"
      ]
     },
     "metadata": {},
     "output_type": "display_data"
    },
    {
     "data": {
      "text/html": [],
      "text/plain": [
       "<IPython.core.display.HTML object>"
      ]
     },
     "metadata": {},
     "output_type": "display_data"
    },
    {
     "data": {
      "text/html": [],
      "text/plain": [
       "<IPython.core.display.HTML object>"
      ]
     },
     "metadata": {},
     "output_type": "display_data"
    },
    {
     "data": {
      "text/html": [],
      "text/plain": [
       "<IPython.core.display.HTML object>"
      ]
     },
     "metadata": {},
     "output_type": "display_data"
    },
    {
     "data": {
      "text/html": [],
      "text/plain": [
       "<IPython.core.display.HTML object>"
      ]
     },
     "metadata": {},
     "output_type": "display_data"
    },
    {
     "data": {
      "text/html": [],
      "text/plain": [
       "<IPython.core.display.HTML object>"
      ]
     },
     "metadata": {},
     "output_type": "display_data"
    },
    {
     "data": {
      "text/html": [],
      "text/plain": [
       "<IPython.core.display.HTML object>"
      ]
     },
     "metadata": {},
     "output_type": "display_data"
    },
    {
     "data": {
      "text/html": [],
      "text/plain": [
       "<IPython.core.display.HTML object>"
      ]
     },
     "metadata": {},
     "output_type": "display_data"
    },
    {
     "data": {
      "text/html": [],
      "text/plain": [
       "<IPython.core.display.HTML object>"
      ]
     },
     "metadata": {},
     "output_type": "display_data"
    },
    {
     "data": {
      "text/html": [],
      "text/plain": [
       "<IPython.core.display.HTML object>"
      ]
     },
     "metadata": {},
     "output_type": "display_data"
    },
    {
     "data": {
      "text/html": [],
      "text/plain": [
       "<IPython.core.display.HTML object>"
      ]
     },
     "metadata": {},
     "output_type": "display_data"
    },
    {
     "data": {
      "text/html": [],
      "text/plain": [
       "<IPython.core.display.HTML object>"
      ]
     },
     "metadata": {},
     "output_type": "display_data"
    },
    {
     "data": {
      "text/html": [],
      "text/plain": [
       "<IPython.core.display.HTML object>"
      ]
     },
     "metadata": {},
     "output_type": "display_data"
    },
    {
     "data": {
      "text/html": [],
      "text/plain": [
       "<IPython.core.display.HTML object>"
      ]
     },
     "metadata": {},
     "output_type": "display_data"
    },
    {
     "data": {
      "text/html": [],
      "text/plain": [
       "<IPython.core.display.HTML object>"
      ]
     },
     "metadata": {},
     "output_type": "display_data"
    },
    {
     "data": {
      "text/html": [],
      "text/plain": [
       "<IPython.core.display.HTML object>"
      ]
     },
     "metadata": {},
     "output_type": "display_data"
    },
    {
     "data": {
      "text/html": [],
      "text/plain": [
       "<IPython.core.display.HTML object>"
      ]
     },
     "metadata": {},
     "output_type": "display_data"
    },
    {
     "data": {
      "text/html": [],
      "text/plain": [
       "<IPython.core.display.HTML object>"
      ]
     },
     "metadata": {},
     "output_type": "display_data"
    },
    {
     "data": {
      "text/html": [],
      "text/plain": [
       "<IPython.core.display.HTML object>"
      ]
     },
     "metadata": {},
     "output_type": "display_data"
    },
    {
     "data": {
      "text/html": [],
      "text/plain": [
       "<IPython.core.display.HTML object>"
      ]
     },
     "metadata": {},
     "output_type": "display_data"
    },
    {
     "data": {
      "text/html": [],
      "text/plain": [
       "<IPython.core.display.HTML object>"
      ]
     },
     "metadata": {},
     "output_type": "display_data"
    },
    {
     "data": {
      "text/html": [],
      "text/plain": [
       "<IPython.core.display.HTML object>"
      ]
     },
     "metadata": {},
     "output_type": "display_data"
    },
    {
     "data": {
      "text/html": [],
      "text/plain": [
       "<IPython.core.display.HTML object>"
      ]
     },
     "metadata": {},
     "output_type": "display_data"
    },
    {
     "data": {
      "text/html": [],
      "text/plain": [
       "<IPython.core.display.HTML object>"
      ]
     },
     "metadata": {},
     "output_type": "display_data"
    },
    {
     "data": {
      "text/html": [],
      "text/plain": [
       "<IPython.core.display.HTML object>"
      ]
     },
     "metadata": {},
     "output_type": "display_data"
    },
    {
     "data": {
      "text/html": [],
      "text/plain": [
       "<IPython.core.display.HTML object>"
      ]
     },
     "metadata": {},
     "output_type": "display_data"
    },
    {
     "data": {
      "text/html": [],
      "text/plain": [
       "<IPython.core.display.HTML object>"
      ]
     },
     "metadata": {},
     "output_type": "display_data"
    },
    {
     "data": {
      "text/html": [],
      "text/plain": [
       "<IPython.core.display.HTML object>"
      ]
     },
     "metadata": {},
     "output_type": "display_data"
    },
    {
     "data": {
      "text/html": [],
      "text/plain": [
       "<IPython.core.display.HTML object>"
      ]
     },
     "metadata": {},
     "output_type": "display_data"
    },
    {
     "data": {
      "text/html": [],
      "text/plain": [
       "<IPython.core.display.HTML object>"
      ]
     },
     "metadata": {},
     "output_type": "display_data"
    },
    {
     "data": {
      "text/html": [],
      "text/plain": [
       "<IPython.core.display.HTML object>"
      ]
     },
     "metadata": {},
     "output_type": "display_data"
    },
    {
     "data": {
      "text/html": [],
      "text/plain": [
       "<IPython.core.display.HTML object>"
      ]
     },
     "metadata": {},
     "output_type": "display_data"
    },
    {
     "data": {
      "text/html": [],
      "text/plain": [
       "<IPython.core.display.HTML object>"
      ]
     },
     "metadata": {},
     "output_type": "display_data"
    },
    {
     "data": {
      "text/html": [],
      "text/plain": [
       "<IPython.core.display.HTML object>"
      ]
     },
     "metadata": {},
     "output_type": "display_data"
    },
    {
     "data": {
      "text/html": [],
      "text/plain": [
       "<IPython.core.display.HTML object>"
      ]
     },
     "metadata": {},
     "output_type": "display_data"
    },
    {
     "data": {
      "text/html": [],
      "text/plain": [
       "<IPython.core.display.HTML object>"
      ]
     },
     "metadata": {},
     "output_type": "display_data"
    },
    {
     "data": {
      "text/html": [],
      "text/plain": [
       "<IPython.core.display.HTML object>"
      ]
     },
     "metadata": {},
     "output_type": "display_data"
    },
    {
     "data": {
      "text/html": [],
      "text/plain": [
       "<IPython.core.display.HTML object>"
      ]
     },
     "metadata": {},
     "output_type": "display_data"
    },
    {
     "data": {
      "text/html": [],
      "text/plain": [
       "<IPython.core.display.HTML object>"
      ]
     },
     "metadata": {},
     "output_type": "display_data"
    },
    {
     "data": {
      "text/html": [],
      "text/plain": [
       "<IPython.core.display.HTML object>"
      ]
     },
     "metadata": {},
     "output_type": "display_data"
    },
    {
     "data": {
      "text/html": [],
      "text/plain": [
       "<IPython.core.display.HTML object>"
      ]
     },
     "metadata": {},
     "output_type": "display_data"
    },
    {
     "data": {
      "text/html": [],
      "text/plain": [
       "<IPython.core.display.HTML object>"
      ]
     },
     "metadata": {},
     "output_type": "display_data"
    },
    {
     "data": {
      "text/html": [],
      "text/plain": [
       "<IPython.core.display.HTML object>"
      ]
     },
     "metadata": {},
     "output_type": "display_data"
    },
    {
     "data": {
      "text/html": [],
      "text/plain": [
       "<IPython.core.display.HTML object>"
      ]
     },
     "metadata": {},
     "output_type": "display_data"
    },
    {
     "data": {
      "text/html": [],
      "text/plain": [
       "<IPython.core.display.HTML object>"
      ]
     },
     "metadata": {},
     "output_type": "display_data"
    },
    {
     "data": {
      "text/html": [],
      "text/plain": [
       "<IPython.core.display.HTML object>"
      ]
     },
     "metadata": {},
     "output_type": "display_data"
    },
    {
     "data": {
      "text/html": [],
      "text/plain": [
       "<IPython.core.display.HTML object>"
      ]
     },
     "metadata": {},
     "output_type": "display_data"
    },
    {
     "data": {
      "text/html": [],
      "text/plain": [
       "<IPython.core.display.HTML object>"
      ]
     },
     "metadata": {},
     "output_type": "display_data"
    },
    {
     "data": {
      "text/html": [],
      "text/plain": [
       "<IPython.core.display.HTML object>"
      ]
     },
     "metadata": {},
     "output_type": "display_data"
    },
    {
     "data": {
      "text/html": [],
      "text/plain": [
       "<IPython.core.display.HTML object>"
      ]
     },
     "metadata": {},
     "output_type": "display_data"
    },
    {
     "data": {
      "text/html": [],
      "text/plain": [
       "<IPython.core.display.HTML object>"
      ]
     },
     "metadata": {},
     "output_type": "display_data"
    },
    {
     "data": {
      "text/html": [],
      "text/plain": [
       "<IPython.core.display.HTML object>"
      ]
     },
     "metadata": {},
     "output_type": "display_data"
    },
    {
     "data": {
      "text/html": [],
      "text/plain": [
       "<IPython.core.display.HTML object>"
      ]
     },
     "metadata": {},
     "output_type": "display_data"
    },
    {
     "data": {
      "text/html": [],
      "text/plain": [
       "<IPython.core.display.HTML object>"
      ]
     },
     "metadata": {},
     "output_type": "display_data"
    },
    {
     "data": {
      "text/html": [],
      "text/plain": [
       "<IPython.core.display.HTML object>"
      ]
     },
     "metadata": {},
     "output_type": "display_data"
    },
    {
     "data": {
      "text/html": [],
      "text/plain": [
       "<IPython.core.display.HTML object>"
      ]
     },
     "metadata": {},
     "output_type": "display_data"
    },
    {
     "data": {
      "text/html": [],
      "text/plain": [
       "<IPython.core.display.HTML object>"
      ]
     },
     "metadata": {},
     "output_type": "display_data"
    },
    {
     "data": {
      "text/html": [],
      "text/plain": [
       "<IPython.core.display.HTML object>"
      ]
     },
     "metadata": {},
     "output_type": "display_data"
    },
    {
     "data": {
      "text/html": [],
      "text/plain": [
       "<IPython.core.display.HTML object>"
      ]
     },
     "metadata": {},
     "output_type": "display_data"
    },
    {
     "data": {
      "text/html": [],
      "text/plain": [
       "<IPython.core.display.HTML object>"
      ]
     },
     "metadata": {},
     "output_type": "display_data"
    },
    {
     "data": {
      "text/html": [],
      "text/plain": [
       "<IPython.core.display.HTML object>"
      ]
     },
     "metadata": {},
     "output_type": "display_data"
    },
    {
     "data": {
      "text/html": [],
      "text/plain": [
       "<IPython.core.display.HTML object>"
      ]
     },
     "metadata": {},
     "output_type": "display_data"
    },
    {
     "data": {
      "text/html": [],
      "text/plain": [
       "<IPython.core.display.HTML object>"
      ]
     },
     "metadata": {},
     "output_type": "display_data"
    },
    {
     "data": {
      "text/html": [],
      "text/plain": [
       "<IPython.core.display.HTML object>"
      ]
     },
     "metadata": {},
     "output_type": "display_data"
    },
    {
     "data": {
      "text/html": [],
      "text/plain": [
       "<IPython.core.display.HTML object>"
      ]
     },
     "metadata": {},
     "output_type": "display_data"
    },
    {
     "data": {
      "text/html": [],
      "text/plain": [
       "<IPython.core.display.HTML object>"
      ]
     },
     "metadata": {},
     "output_type": "display_data"
    },
    {
     "data": {
      "text/html": [],
      "text/plain": [
       "<IPython.core.display.HTML object>"
      ]
     },
     "metadata": {},
     "output_type": "display_data"
    },
    {
     "data": {
      "text/html": [],
      "text/plain": [
       "<IPython.core.display.HTML object>"
      ]
     },
     "metadata": {},
     "output_type": "display_data"
    },
    {
     "data": {
      "text/html": [],
      "text/plain": [
       "<IPython.core.display.HTML object>"
      ]
     },
     "metadata": {},
     "output_type": "display_data"
    },
    {
     "data": {
      "text/html": [],
      "text/plain": [
       "<IPython.core.display.HTML object>"
      ]
     },
     "metadata": {},
     "output_type": "display_data"
    },
    {
     "data": {
      "text/html": [],
      "text/plain": [
       "<IPython.core.display.HTML object>"
      ]
     },
     "metadata": {},
     "output_type": "display_data"
    },
    {
     "data": {
      "text/html": [],
      "text/plain": [
       "<IPython.core.display.HTML object>"
      ]
     },
     "metadata": {},
     "output_type": "display_data"
    },
    {
     "data": {
      "text/html": [],
      "text/plain": [
       "<IPython.core.display.HTML object>"
      ]
     },
     "metadata": {},
     "output_type": "display_data"
    },
    {
     "data": {
      "text/html": [],
      "text/plain": [
       "<IPython.core.display.HTML object>"
      ]
     },
     "metadata": {},
     "output_type": "display_data"
    },
    {
     "data": {
      "text/html": [],
      "text/plain": [
       "<IPython.core.display.HTML object>"
      ]
     },
     "metadata": {},
     "output_type": "display_data"
    },
    {
     "data": {
      "text/html": [],
      "text/plain": [
       "<IPython.core.display.HTML object>"
      ]
     },
     "metadata": {},
     "output_type": "display_data"
    },
    {
     "data": {
      "text/html": [],
      "text/plain": [
       "<IPython.core.display.HTML object>"
      ]
     },
     "metadata": {},
     "output_type": "display_data"
    },
    {
     "data": {
      "text/html": [],
      "text/plain": [
       "<IPython.core.display.HTML object>"
      ]
     },
     "metadata": {},
     "output_type": "display_data"
    },
    {
     "data": {
      "text/html": [],
      "text/plain": [
       "<IPython.core.display.HTML object>"
      ]
     },
     "metadata": {},
     "output_type": "display_data"
    },
    {
     "data": {
      "text/html": [],
      "text/plain": [
       "<IPython.core.display.HTML object>"
      ]
     },
     "metadata": {},
     "output_type": "display_data"
    },
    {
     "data": {
      "text/html": [],
      "text/plain": [
       "<IPython.core.display.HTML object>"
      ]
     },
     "metadata": {},
     "output_type": "display_data"
    },
    {
     "data": {
      "text/html": [],
      "text/plain": [
       "<IPython.core.display.HTML object>"
      ]
     },
     "metadata": {},
     "output_type": "display_data"
    },
    {
     "data": {
      "text/html": [],
      "text/plain": [
       "<IPython.core.display.HTML object>"
      ]
     },
     "metadata": {},
     "output_type": "display_data"
    },
    {
     "data": {
      "text/html": [],
      "text/plain": [
       "<IPython.core.display.HTML object>"
      ]
     },
     "metadata": {},
     "output_type": "display_data"
    },
    {
     "data": {
      "text/html": [],
      "text/plain": [
       "<IPython.core.display.HTML object>"
      ]
     },
     "metadata": {},
     "output_type": "display_data"
    },
    {
     "data": {
      "text/html": [],
      "text/plain": [
       "<IPython.core.display.HTML object>"
      ]
     },
     "metadata": {},
     "output_type": "display_data"
    },
    {
     "data": {
      "text/html": [],
      "text/plain": [
       "<IPython.core.display.HTML object>"
      ]
     },
     "metadata": {},
     "output_type": "display_data"
    },
    {
     "data": {
      "text/html": [],
      "text/plain": [
       "<IPython.core.display.HTML object>"
      ]
     },
     "metadata": {},
     "output_type": "display_data"
    },
    {
     "data": {
      "text/html": [],
      "text/plain": [
       "<IPython.core.display.HTML object>"
      ]
     },
     "metadata": {},
     "output_type": "display_data"
    },
    {
     "data": {
      "text/html": [],
      "text/plain": [
       "<IPython.core.display.HTML object>"
      ]
     },
     "metadata": {},
     "output_type": "display_data"
    },
    {
     "data": {
      "text/html": [],
      "text/plain": [
       "<IPython.core.display.HTML object>"
      ]
     },
     "metadata": {},
     "output_type": "display_data"
    },
    {
     "data": {
      "text/html": [],
      "text/plain": [
       "<IPython.core.display.HTML object>"
      ]
     },
     "metadata": {},
     "output_type": "display_data"
    },
    {
     "data": {
      "text/html": [],
      "text/plain": [
       "<IPython.core.display.HTML object>"
      ]
     },
     "metadata": {},
     "output_type": "display_data"
    },
    {
     "data": {
      "text/html": [],
      "text/plain": [
       "<IPython.core.display.HTML object>"
      ]
     },
     "metadata": {},
     "output_type": "display_data"
    },
    {
     "data": {
      "text/html": [],
      "text/plain": [
       "<IPython.core.display.HTML object>"
      ]
     },
     "metadata": {},
     "output_type": "display_data"
    },
    {
     "data": {
      "text/html": [],
      "text/plain": [
       "<IPython.core.display.HTML object>"
      ]
     },
     "metadata": {},
     "output_type": "display_data"
    },
    {
     "data": {
      "text/html": [],
      "text/plain": [
       "<IPython.core.display.HTML object>"
      ]
     },
     "metadata": {},
     "output_type": "display_data"
    },
    {
     "data": {
      "text/html": [],
      "text/plain": [
       "<IPython.core.display.HTML object>"
      ]
     },
     "metadata": {},
     "output_type": "display_data"
    },
    {
     "data": {
      "text/html": [],
      "text/plain": [
       "<IPython.core.display.HTML object>"
      ]
     },
     "metadata": {},
     "output_type": "display_data"
    },
    {
     "data": {
      "text/html": [],
      "text/plain": [
       "<IPython.core.display.HTML object>"
      ]
     },
     "metadata": {},
     "output_type": "display_data"
    },
    {
     "data": {
      "text/html": [],
      "text/plain": [
       "<IPython.core.display.HTML object>"
      ]
     },
     "metadata": {},
     "output_type": "display_data"
    },
    {
     "data": {
      "text/html": [],
      "text/plain": [
       "<IPython.core.display.HTML object>"
      ]
     },
     "metadata": {},
     "output_type": "display_data"
    },
    {
     "data": {
      "text/html": [],
      "text/plain": [
       "<IPython.core.display.HTML object>"
      ]
     },
     "metadata": {},
     "output_type": "display_data"
    },
    {
     "data": {
      "text/html": [],
      "text/plain": [
       "<IPython.core.display.HTML object>"
      ]
     },
     "metadata": {},
     "output_type": "display_data"
    },
    {
     "data": {
      "text/html": [],
      "text/plain": [
       "<IPython.core.display.HTML object>"
      ]
     },
     "metadata": {},
     "output_type": "display_data"
    },
    {
     "data": {
      "text/html": [],
      "text/plain": [
       "<IPython.core.display.HTML object>"
      ]
     },
     "metadata": {},
     "output_type": "display_data"
    },
    {
     "data": {
      "text/html": [],
      "text/plain": [
       "<IPython.core.display.HTML object>"
      ]
     },
     "metadata": {},
     "output_type": "display_data"
    },
    {
     "data": {
      "text/html": [],
      "text/plain": [
       "<IPython.core.display.HTML object>"
      ]
     },
     "metadata": {},
     "output_type": "display_data"
    },
    {
     "data": {
      "text/html": [],
      "text/plain": [
       "<IPython.core.display.HTML object>"
      ]
     },
     "metadata": {},
     "output_type": "display_data"
    },
    {
     "data": {
      "text/html": [],
      "text/plain": [
       "<IPython.core.display.HTML object>"
      ]
     },
     "metadata": {},
     "output_type": "display_data"
    },
    {
     "data": {
      "text/html": [],
      "text/plain": [
       "<IPython.core.display.HTML object>"
      ]
     },
     "metadata": {},
     "output_type": "display_data"
    },
    {
     "data": {
      "text/html": [],
      "text/plain": [
       "<IPython.core.display.HTML object>"
      ]
     },
     "metadata": {},
     "output_type": "display_data"
    },
    {
     "data": {
      "text/html": [],
      "text/plain": [
       "<IPython.core.display.HTML object>"
      ]
     },
     "metadata": {},
     "output_type": "display_data"
    },
    {
     "data": {
      "text/html": [],
      "text/plain": [
       "<IPython.core.display.HTML object>"
      ]
     },
     "metadata": {},
     "output_type": "display_data"
    },
    {
     "data": {
      "text/html": [],
      "text/plain": [
       "<IPython.core.display.HTML object>"
      ]
     },
     "metadata": {},
     "output_type": "display_data"
    },
    {
     "data": {
      "text/html": [],
      "text/plain": [
       "<IPython.core.display.HTML object>"
      ]
     },
     "metadata": {},
     "output_type": "display_data"
    },
    {
     "data": {
      "text/html": [],
      "text/plain": [
       "<IPython.core.display.HTML object>"
      ]
     },
     "metadata": {},
     "output_type": "display_data"
    },
    {
     "data": {
      "text/html": [],
      "text/plain": [
       "<IPython.core.display.HTML object>"
      ]
     },
     "metadata": {},
     "output_type": "display_data"
    },
    {
     "data": {
      "text/html": [],
      "text/plain": [
       "<IPython.core.display.HTML object>"
      ]
     },
     "metadata": {},
     "output_type": "display_data"
    },
    {
     "data": {
      "text/html": [],
      "text/plain": [
       "<IPython.core.display.HTML object>"
      ]
     },
     "metadata": {},
     "output_type": "display_data"
    },
    {
     "data": {
      "text/html": [],
      "text/plain": [
       "<IPython.core.display.HTML object>"
      ]
     },
     "metadata": {},
     "output_type": "display_data"
    },
    {
     "data": {
      "text/html": [],
      "text/plain": [
       "<IPython.core.display.HTML object>"
      ]
     },
     "metadata": {},
     "output_type": "display_data"
    },
    {
     "data": {
      "text/html": [],
      "text/plain": [
       "<IPython.core.display.HTML object>"
      ]
     },
     "metadata": {},
     "output_type": "display_data"
    },
    {
     "data": {
      "text/html": [],
      "text/plain": [
       "<IPython.core.display.HTML object>"
      ]
     },
     "metadata": {},
     "output_type": "display_data"
    },
    {
     "data": {
      "text/html": [],
      "text/plain": [
       "<IPython.core.display.HTML object>"
      ]
     },
     "metadata": {},
     "output_type": "display_data"
    },
    {
     "data": {
      "text/html": [],
      "text/plain": [
       "<IPython.core.display.HTML object>"
      ]
     },
     "metadata": {},
     "output_type": "display_data"
    },
    {
     "data": {
      "text/html": [],
      "text/plain": [
       "<IPython.core.display.HTML object>"
      ]
     },
     "metadata": {},
     "output_type": "display_data"
    },
    {
     "data": {
      "text/html": [],
      "text/plain": [
       "<IPython.core.display.HTML object>"
      ]
     },
     "metadata": {},
     "output_type": "display_data"
    },
    {
     "data": {
      "text/html": [],
      "text/plain": [
       "<IPython.core.display.HTML object>"
      ]
     },
     "metadata": {},
     "output_type": "display_data"
    },
    {
     "data": {
      "text/html": [],
      "text/plain": [
       "<IPython.core.display.HTML object>"
      ]
     },
     "metadata": {},
     "output_type": "display_data"
    },
    {
     "data": {
      "text/html": [],
      "text/plain": [
       "<IPython.core.display.HTML object>"
      ]
     },
     "metadata": {},
     "output_type": "display_data"
    },
    {
     "data": {
      "text/html": [],
      "text/plain": [
       "<IPython.core.display.HTML object>"
      ]
     },
     "metadata": {},
     "output_type": "display_data"
    },
    {
     "data": {
      "text/html": [],
      "text/plain": [
       "<IPython.core.display.HTML object>"
      ]
     },
     "metadata": {},
     "output_type": "display_data"
    },
    {
     "data": {
      "text/html": [],
      "text/plain": [
       "<IPython.core.display.HTML object>"
      ]
     },
     "metadata": {},
     "output_type": "display_data"
    },
    {
     "data": {
      "text/html": [],
      "text/plain": [
       "<IPython.core.display.HTML object>"
      ]
     },
     "metadata": {},
     "output_type": "display_data"
    },
    {
     "data": {
      "text/html": [],
      "text/plain": [
       "<IPython.core.display.HTML object>"
      ]
     },
     "metadata": {},
     "output_type": "display_data"
    },
    {
     "data": {
      "text/html": [],
      "text/plain": [
       "<IPython.core.display.HTML object>"
      ]
     },
     "metadata": {},
     "output_type": "display_data"
    },
    {
     "data": {
      "text/html": [],
      "text/plain": [
       "<IPython.core.display.HTML object>"
      ]
     },
     "metadata": {},
     "output_type": "display_data"
    },
    {
     "data": {
      "text/html": [],
      "text/plain": [
       "<IPython.core.display.HTML object>"
      ]
     },
     "metadata": {},
     "output_type": "display_data"
    },
    {
     "data": {
      "text/html": [],
      "text/plain": [
       "<IPython.core.display.HTML object>"
      ]
     },
     "metadata": {},
     "output_type": "display_data"
    },
    {
     "data": {
      "text/html": [],
      "text/plain": [
       "<IPython.core.display.HTML object>"
      ]
     },
     "metadata": {},
     "output_type": "display_data"
    },
    {
     "data": {
      "text/html": [],
      "text/plain": [
       "<IPython.core.display.HTML object>"
      ]
     },
     "metadata": {},
     "output_type": "display_data"
    },
    {
     "data": {
      "text/html": [],
      "text/plain": [
       "<IPython.core.display.HTML object>"
      ]
     },
     "metadata": {},
     "output_type": "display_data"
    },
    {
     "data": {
      "text/html": [],
      "text/plain": [
       "<IPython.core.display.HTML object>"
      ]
     },
     "metadata": {},
     "output_type": "display_data"
    },
    {
     "data": {
      "text/html": [],
      "text/plain": [
       "<IPython.core.display.HTML object>"
      ]
     },
     "metadata": {},
     "output_type": "display_data"
    },
    {
     "data": {
      "text/html": [],
      "text/plain": [
       "<IPython.core.display.HTML object>"
      ]
     },
     "metadata": {},
     "output_type": "display_data"
    },
    {
     "data": {
      "text/html": [],
      "text/plain": [
       "<IPython.core.display.HTML object>"
      ]
     },
     "metadata": {},
     "output_type": "display_data"
    },
    {
     "data": {
      "text/html": [],
      "text/plain": [
       "<IPython.core.display.HTML object>"
      ]
     },
     "metadata": {},
     "output_type": "display_data"
    },
    {
     "data": {
      "text/html": [],
      "text/plain": [
       "<IPython.core.display.HTML object>"
      ]
     },
     "metadata": {},
     "output_type": "display_data"
    },
    {
     "data": {
      "text/html": [],
      "text/plain": [
       "<IPython.core.display.HTML object>"
      ]
     },
     "metadata": {},
     "output_type": "display_data"
    },
    {
     "data": {
      "text/html": [],
      "text/plain": [
       "<IPython.core.display.HTML object>"
      ]
     },
     "metadata": {},
     "output_type": "display_data"
    },
    {
     "data": {
      "text/html": [],
      "text/plain": [
       "<IPython.core.display.HTML object>"
      ]
     },
     "metadata": {},
     "output_type": "display_data"
    },
    {
     "data": {
      "text/html": [],
      "text/plain": [
       "<IPython.core.display.HTML object>"
      ]
     },
     "metadata": {},
     "output_type": "display_data"
    },
    {
     "data": {
      "text/html": [],
      "text/plain": [
       "<IPython.core.display.HTML object>"
      ]
     },
     "metadata": {},
     "output_type": "display_data"
    },
    {
     "data": {
      "text/html": [],
      "text/plain": [
       "<IPython.core.display.HTML object>"
      ]
     },
     "metadata": {},
     "output_type": "display_data"
    },
    {
     "data": {
      "text/html": [],
      "text/plain": [
       "<IPython.core.display.HTML object>"
      ]
     },
     "metadata": {},
     "output_type": "display_data"
    },
    {
     "data": {
      "text/html": [],
      "text/plain": [
       "<IPython.core.display.HTML object>"
      ]
     },
     "metadata": {},
     "output_type": "display_data"
    },
    {
     "data": {
      "text/html": [],
      "text/plain": [
       "<IPython.core.display.HTML object>"
      ]
     },
     "metadata": {},
     "output_type": "display_data"
    },
    {
     "data": {
      "text/html": [],
      "text/plain": [
       "<IPython.core.display.HTML object>"
      ]
     },
     "metadata": {},
     "output_type": "display_data"
    },
    {
     "data": {
      "text/html": [],
      "text/plain": [
       "<IPython.core.display.HTML object>"
      ]
     },
     "metadata": {},
     "output_type": "display_data"
    },
    {
     "data": {
      "text/html": [],
      "text/plain": [
       "<IPython.core.display.HTML object>"
      ]
     },
     "metadata": {},
     "output_type": "display_data"
    },
    {
     "data": {
      "text/html": [],
      "text/plain": [
       "<IPython.core.display.HTML object>"
      ]
     },
     "metadata": {},
     "output_type": "display_data"
    },
    {
     "data": {
      "text/html": [],
      "text/plain": [
       "<IPython.core.display.HTML object>"
      ]
     },
     "metadata": {},
     "output_type": "display_data"
    },
    {
     "data": {
      "text/html": [],
      "text/plain": [
       "<IPython.core.display.HTML object>"
      ]
     },
     "metadata": {},
     "output_type": "display_data"
    },
    {
     "data": {
      "text/html": [],
      "text/plain": [
       "<IPython.core.display.HTML object>"
      ]
     },
     "metadata": {},
     "output_type": "display_data"
    },
    {
     "data": {
      "text/html": [],
      "text/plain": [
       "<IPython.core.display.HTML object>"
      ]
     },
     "metadata": {},
     "output_type": "display_data"
    },
    {
     "data": {
      "text/html": [],
      "text/plain": [
       "<IPython.core.display.HTML object>"
      ]
     },
     "metadata": {},
     "output_type": "display_data"
    },
    {
     "data": {
      "text/html": [],
      "text/plain": [
       "<IPython.core.display.HTML object>"
      ]
     },
     "metadata": {},
     "output_type": "display_data"
    },
    {
     "data": {
      "text/html": [],
      "text/plain": [
       "<IPython.core.display.HTML object>"
      ]
     },
     "metadata": {},
     "output_type": "display_data"
    },
    {
     "name": "stdout",
     "output_type": "stream",
     "text": [
      "               datetime  prediction_label\n",
      "0   2025-02-11 00:00:00          9.997434\n",
      "1   2025-02-11 01:00:00          9.255073\n",
      "2   2025-02-11 02:00:00          8.965721\n",
      "3   2025-02-11 03:00:00          9.013110\n",
      "4   2025-02-11 04:00:00          8.682686\n",
      "..                  ...               ...\n",
      "163 2025-02-17 19:00:00          6.985869\n",
      "164 2025-02-17 20:00:00          7.434701\n",
      "165 2025-02-17 21:00:00          7.170258\n",
      "166 2025-02-17 22:00:00          6.631188\n",
      "167 2025-02-17 23:00:00          7.278471\n",
      "\n",
      "[168 rows x 2 columns]\n",
      "บันทึกผลลัพธ์การพยากรณ์สำเร็จ! ✅\n"
     ]
    }
   ],
   "source": [
    "import pandas as pd\n",
    "from pycaret.regression import *\n",
    "from datetime import timedelta\n",
    "import numpy as np\n",
    "\n",
    "# โหลดไฟล์ CSV\n",
    "file_path = \"D:/project-term/pm_2.5/export-jsps013-1h.csv\"\n",
    "df = pd.read_csv(file_path)\n",
    "\n",
    "# แปลง datetime เป็นชนิด datetime\n",
    "df[\"datetime\"] = pd.to_datetime(df[\"datetime\"], dayfirst=True, errors=\"coerce\")\n",
    "\n",
    "# แปลง 'pm_2_5' เป็นตัวเลข\n",
    "df[\"pm_2_5\"] = pd.to_numeric(df[\"pm_2_5\"], errors=\"coerce\")\n",
    "\n",
    "# สร้างสำเนา DataFrame เพื่อใช้ทำความสะอาดข้อมูล\n",
    "df_cleaned = df.copy()\n",
    "\n",
    "# ฟังก์ชันสำหรับจัดการ outlier และ NaN ด้วย Hybrid Imputation\n",
    "def hybrid_imputation(series):\n",
    "    # คำนวณ IQR\n",
    "    Q1 = series.quantile(0.25)\n",
    "    Q3 = series.quantile(0.75)\n",
    "    IQR = Q3 - Q1\n",
    "\n",
    "    # กำหนดขอบเขตของ outlier\n",
    "    lower_bound = Q1 - 1.5 * IQR\n",
    "    upper_bound = Q3 + 1.5 * IQR\n",
    "\n",
    "    # คำนวณค่ากลางจากข้อมูลที่ไม่ใช่ outlier\n",
    "    non_outlier_values = series[(series >= lower_bound) & (series <= upper_bound)]\n",
    "    median_value = non_outlier_values.median() if not non_outlier_values.empty else series.median()\n",
    "\n",
    "    # แทนที่ outlier และ NaN ด้วยค่าข้างเคียง + ค่ากลาง\n",
    "    series = series.mask((series < lower_bound) | (series > upper_bound), np.nan)\n",
    "    series = series.interpolate(method=\"linear\")  # เติมค่าที่ขาดหายด้วย Interpolation\n",
    "    series = series.fillna(median_value)  # ถ้ายังมี NaN อยู่ให้เติมด้วยค่ากลาง\n",
    "\n",
    "    return series\n",
    "\n",
    "# ใช้ Hybrid Imputation สำหรับคอลัมน์ 'pm_2_5'\n",
    "df_cleaned[\"pm_2_5\"] = hybrid_imputation(df_cleaned[\"pm_2_5\"])\n",
    "\n",
    "# สร้างฟีเจอร์ย้อนหลัง (Lag Features)\n",
    "for lag in [1, 3, 6, 24]:\n",
    "    df_cleaned[f\"pm_2_5_lag_{lag}\"] = df_cleaned[\"pm_2_5\"].shift(lag)\n",
    "\n",
    "# เพิ่มฟีเจอร์เชิงเวลา (Hour และ Day of Week)\n",
    "df_cleaned[\"hour\"] = df_cleaned[\"datetime\"].dt.hour\n",
    "df_cleaned[\"dayofweek\"] = df_cleaned[\"datetime\"].dt.dayofweek\n",
    "\n",
    "# ฟังก์ชันเพิ่ม Fourier Terms สำหรับ Weekly Seasonality\n",
    "def add_fourier_terms(df, period=24 * 7, n_harmonics=4):\n",
    "    for k in range(1, n_harmonics + 1):\n",
    "        df[f\"sin_{k}\"] = np.sin(2 * np.pi * k * df[\"hour\"] / period)\n",
    "        df[f\"cos_{k}\"] = np.cos(2 * np.pi * k * df[\"hour\"] / period)\n",
    "    return df\n",
    "\n",
    "# เพิ่ม Fourier Terms ลงใน DataFrame\n",
    "df_cleaned = add_fourier_terms(df_cleaned)\n",
    "\n",
    "# ตั้งค่า PyCaret และแบ่ง train 80% test 20%\n",
    "exp = setup(df_cleaned, target=\"pm_2_5\", train_size=0.8, session_id=42, normalize=True, feature_selection=True)\n",
    "\n",
    "# ปรับแต่งโมเดล Random Forest Regressor\n",
    "model = create_model(\"rf\")\n",
    "\n",
    "final_model = finalize_model(model)\n",
    "save_model(final_model, \"D:/project-term/modelPM/model_PM25\")\n",
    "\n",
    "# ---- สร้างข้อมูลสำหรับพยากรณ์ล่วงหน้า 7 วัน (168 ชั่วโมง) ----\n",
    "last_date = df_cleaned[\"datetime\"].max()\n",
    "future_dates = [last_date + timedelta(hours=i) for i in range(1, 169)]\n",
    "\n",
    "# ใช้ค่าเฉลี่ยล่าสุดของความชื้นและอุณหภูมิ\n",
    "latest_humidity = df_cleaned[\"humidity\"].iloc[-24:].mean()\n",
    "latest_temperature = df_cleaned[\"temperature\"].iloc[-24:].mean()\n",
    "latest_pm25 = df_cleaned[\"pm_2_5\"].iloc[-1]\n",
    "\n",
    "# สร้าง DataFrame สำหรับพยากรณ์\n",
    "future_data = pd.DataFrame({\n",
    "    \"datetime\": future_dates,\n",
    "    \"humidity\": [latest_humidity] * len(future_dates),\n",
    "    \"temperature\": [latest_temperature] * len(future_dates),\n",
    "    \"pm_2_5_lag_1\": [latest_pm25] * len(future_dates),\n",
    "    \"pm_2_5_lag_3\": [latest_pm25] * len(future_dates),\n",
    "    \"pm_2_5_lag_6\": [latest_pm25] * len(future_dates),\n",
    "    \"pm_2_5_lag_24\": [latest_pm25] * len(future_dates)\n",
    "})\n",
    "\n",
    "# เพิ่มฟีเจอร์เชิงเวลาให้ future_data\n",
    "future_data[\"hour\"] = future_data[\"datetime\"].dt.hour\n",
    "future_data[\"dayofweek\"] = future_data[\"datetime\"].dt.dayofweek\n",
    "\n",
    "# เพิ่ม Fourier Terms ให้ future_data\n",
    "future_data = add_fourier_terms(future_data)\n",
    "\n",
    "# โหลดโมเดลที่บันทึกไว้\n",
    "final_model = load_model(\"D:/project-term/modelPM/model_PM25\")\n",
    "\n",
    "# Recursive forecasting (พยากรณ์แบบก้าวหน้า)\n",
    "for i in range(len(future_data)):\n",
    "    pred = predict_model(final_model, data=future_data.iloc[i:i+1])\n",
    "    predicted_value = pred.iloc[0][\"prediction_label\"]\n",
    "    if i + 1 < len(future_data):\n",
    "        future_data.at[i + 1, \"pm_2_5_lag_1\"] = predicted_value\n",
    "    if i + 3 < len(future_data):\n",
    "        future_data.at[i + 3, \"pm_2_5_lag_3\"] = predicted_value\n",
    "    if i + 6 < len(future_data):\n",
    "        future_data.at[i + 6, \"pm_2_5_lag_6\"] = predicted_value\n",
    "    if i + 24 < len(future_data):\n",
    "        future_data.at[i + 24, \"pm_2_5_lag_24\"] = predicted_value\n",
    "\n",
    "# ทำนายค่า PM 2.5\n",
    "predictions = predict_model(final_model, data=future_data)\n",
    "\n",
    "# หาชื่อคอลัมน์การทำนายที่ถูกต้อง\n",
    "prediction_column = [col for col in predictions.columns if \"predict\" in col.lower()]\n",
    "if prediction_column:\n",
    "    prediction_column = prediction_column[0]\n",
    "    print(predictions[[\"datetime\", prediction_column]])\n",
    "else:\n",
    "    print(\"ไม่พบคอลัมน์การทำนาย ลองแสดงผลทั้งหมด:\")\n",
    "    print(predictions.head())\n",
    "\n",
    "future_data.to_csv(\"D:/project-term/pm_2.5/future_pm_data.csv\", index=False)\n",
    "\n",
    "# บันทึกผลลัพธ์เป็นไฟล์ CSV โดยเลือกเฉพาะ datetime และ prediction_label\n",
    "predictions[[\"datetime\", \"prediction_label\"]].to_csv(\"D:/project-term/pm_2.5/predicted_pm25.csv\", index=False)\n",
    "\n",
    "print(\"บันทึกผลลัพธ์การพยากรณ์สำเร็จ! ✅\")\n",
    "\n"
   ]
  },
  {
   "cell_type": "markdown",
   "metadata": {},
   "source": [
    "Humidity next 7 days"
   ]
  },
  {
   "cell_type": "code",
   "execution_count": null,
   "metadata": {},
   "outputs": [
    {
     "name": "stdout",
     "output_type": "stream",
     "text": [
      "[LightGBM] [Info] Auto-choosing col-wise multi-threading, the overhead of testing was 0.000253 seconds.\n",
      "You can set `force_col_wise=true` to remove the overhead.\n",
      "[LightGBM] [Info] Total Bins 1070\n",
      "[LightGBM] [Info] Number of data points in the train set: 18344, number of used features: 7\n",
      "[LightGBM] [Info] Start training from score 48.890407\n"
     ]
    },
    {
     "data": {
      "text/html": [
       "<style type=\"text/css\">\n",
       "#T_d03b9_row9_col1, #T_d03b9_row13_col1, #T_d03b9_row15_col1 {\n",
       "  background-color: lightgreen;\n",
       "}\n",
       "</style>\n",
       "<table id=\"T_d03b9\">\n",
       "  <thead>\n",
       "    <tr>\n",
       "      <th class=\"blank level0\" >&nbsp;</th>\n",
       "      <th id=\"T_d03b9_level0_col0\" class=\"col_heading level0 col0\" >Description</th>\n",
       "      <th id=\"T_d03b9_level0_col1\" class=\"col_heading level0 col1\" >Value</th>\n",
       "    </tr>\n",
       "  </thead>\n",
       "  <tbody>\n",
       "    <tr>\n",
       "      <th id=\"T_d03b9_level0_row0\" class=\"row_heading level0 row0\" >0</th>\n",
       "      <td id=\"T_d03b9_row0_col0\" class=\"data row0 col0\" >Session id</td>\n",
       "      <td id=\"T_d03b9_row0_col1\" class=\"data row0 col1\" >42</td>\n",
       "    </tr>\n",
       "    <tr>\n",
       "      <th id=\"T_d03b9_level0_row1\" class=\"row_heading level0 row1\" >1</th>\n",
       "      <td id=\"T_d03b9_row1_col0\" class=\"data row1 col0\" >Target</td>\n",
       "      <td id=\"T_d03b9_row1_col1\" class=\"data row1 col1\" >humidity</td>\n",
       "    </tr>\n",
       "    <tr>\n",
       "      <th id=\"T_d03b9_level0_row2\" class=\"row_heading level0 row2\" >2</th>\n",
       "      <td id=\"T_d03b9_row2_col0\" class=\"data row2 col0\" >Target type</td>\n",
       "      <td id=\"T_d03b9_row2_col1\" class=\"data row2 col1\" >Regression</td>\n",
       "    </tr>\n",
       "    <tr>\n",
       "      <th id=\"T_d03b9_level0_row3\" class=\"row_heading level0 row3\" >3</th>\n",
       "      <td id=\"T_d03b9_row3_col0\" class=\"data row3 col0\" >Original data shape</td>\n",
       "      <td id=\"T_d03b9_row3_col1\" class=\"data row3 col1\" >(22930, 6)</td>\n",
       "    </tr>\n",
       "    <tr>\n",
       "      <th id=\"T_d03b9_level0_row4\" class=\"row_heading level0 row4\" >4</th>\n",
       "      <td id=\"T_d03b9_row4_col0\" class=\"data row4 col0\" >Transformed data shape</td>\n",
       "      <td id=\"T_d03b9_row4_col1\" class=\"data row4 col1\" >(22930, 2)</td>\n",
       "    </tr>\n",
       "    <tr>\n",
       "      <th id=\"T_d03b9_level0_row5\" class=\"row_heading level0 row5\" >5</th>\n",
       "      <td id=\"T_d03b9_row5_col0\" class=\"data row5 col0\" >Transformed train set shape</td>\n",
       "      <td id=\"T_d03b9_row5_col1\" class=\"data row5 col1\" >(18344, 2)</td>\n",
       "    </tr>\n",
       "    <tr>\n",
       "      <th id=\"T_d03b9_level0_row6\" class=\"row_heading level0 row6\" >6</th>\n",
       "      <td id=\"T_d03b9_row6_col0\" class=\"data row6 col0\" >Transformed test set shape</td>\n",
       "      <td id=\"T_d03b9_row6_col1\" class=\"data row6 col1\" >(4586, 2)</td>\n",
       "    </tr>\n",
       "    <tr>\n",
       "      <th id=\"T_d03b9_level0_row7\" class=\"row_heading level0 row7\" >7</th>\n",
       "      <td id=\"T_d03b9_row7_col0\" class=\"data row7 col0\" >Numeric features</td>\n",
       "      <td id=\"T_d03b9_row7_col1\" class=\"data row7 col1\" >4</td>\n",
       "    </tr>\n",
       "    <tr>\n",
       "      <th id=\"T_d03b9_level0_row8\" class=\"row_heading level0 row8\" >8</th>\n",
       "      <td id=\"T_d03b9_row8_col0\" class=\"data row8 col0\" >Date features</td>\n",
       "      <td id=\"T_d03b9_row8_col1\" class=\"data row8 col1\" >1</td>\n",
       "    </tr>\n",
       "    <tr>\n",
       "      <th id=\"T_d03b9_level0_row9\" class=\"row_heading level0 row9\" >9</th>\n",
       "      <td id=\"T_d03b9_row9_col0\" class=\"data row9 col0\" >Preprocess</td>\n",
       "      <td id=\"T_d03b9_row9_col1\" class=\"data row9 col1\" >True</td>\n",
       "    </tr>\n",
       "    <tr>\n",
       "      <th id=\"T_d03b9_level0_row10\" class=\"row_heading level0 row10\" >10</th>\n",
       "      <td id=\"T_d03b9_row10_col0\" class=\"data row10 col0\" >Imputation type</td>\n",
       "      <td id=\"T_d03b9_row10_col1\" class=\"data row10 col1\" >simple</td>\n",
       "    </tr>\n",
       "    <tr>\n",
       "      <th id=\"T_d03b9_level0_row11\" class=\"row_heading level0 row11\" >11</th>\n",
       "      <td id=\"T_d03b9_row11_col0\" class=\"data row11 col0\" >Numeric imputation</td>\n",
       "      <td id=\"T_d03b9_row11_col1\" class=\"data row11 col1\" >mean</td>\n",
       "    </tr>\n",
       "    <tr>\n",
       "      <th id=\"T_d03b9_level0_row12\" class=\"row_heading level0 row12\" >12</th>\n",
       "      <td id=\"T_d03b9_row12_col0\" class=\"data row12 col0\" >Categorical imputation</td>\n",
       "      <td id=\"T_d03b9_row12_col1\" class=\"data row12 col1\" >mode</td>\n",
       "    </tr>\n",
       "    <tr>\n",
       "      <th id=\"T_d03b9_level0_row13\" class=\"row_heading level0 row13\" >13</th>\n",
       "      <td id=\"T_d03b9_row13_col0\" class=\"data row13 col0\" >Normalize</td>\n",
       "      <td id=\"T_d03b9_row13_col1\" class=\"data row13 col1\" >True</td>\n",
       "    </tr>\n",
       "    <tr>\n",
       "      <th id=\"T_d03b9_level0_row14\" class=\"row_heading level0 row14\" >14</th>\n",
       "      <td id=\"T_d03b9_row14_col0\" class=\"data row14 col0\" >Normalize method</td>\n",
       "      <td id=\"T_d03b9_row14_col1\" class=\"data row14 col1\" >zscore</td>\n",
       "    </tr>\n",
       "    <tr>\n",
       "      <th id=\"T_d03b9_level0_row15\" class=\"row_heading level0 row15\" >15</th>\n",
       "      <td id=\"T_d03b9_row15_col0\" class=\"data row15 col0\" >Feature selection</td>\n",
       "      <td id=\"T_d03b9_row15_col1\" class=\"data row15 col1\" >True</td>\n",
       "    </tr>\n",
       "    <tr>\n",
       "      <th id=\"T_d03b9_level0_row16\" class=\"row_heading level0 row16\" >16</th>\n",
       "      <td id=\"T_d03b9_row16_col0\" class=\"data row16 col0\" >Feature selection method</td>\n",
       "      <td id=\"T_d03b9_row16_col1\" class=\"data row16 col1\" >classic</td>\n",
       "    </tr>\n",
       "    <tr>\n",
       "      <th id=\"T_d03b9_level0_row17\" class=\"row_heading level0 row17\" >17</th>\n",
       "      <td id=\"T_d03b9_row17_col0\" class=\"data row17 col0\" >Feature selection estimator</td>\n",
       "      <td id=\"T_d03b9_row17_col1\" class=\"data row17 col1\" >lightgbm</td>\n",
       "    </tr>\n",
       "    <tr>\n",
       "      <th id=\"T_d03b9_level0_row18\" class=\"row_heading level0 row18\" >18</th>\n",
       "      <td id=\"T_d03b9_row18_col0\" class=\"data row18 col0\" >Number of features selected</td>\n",
       "      <td id=\"T_d03b9_row18_col1\" class=\"data row18 col1\" >0.200000</td>\n",
       "    </tr>\n",
       "    <tr>\n",
       "      <th id=\"T_d03b9_level0_row19\" class=\"row_heading level0 row19\" >19</th>\n",
       "      <td id=\"T_d03b9_row19_col0\" class=\"data row19 col0\" >Fold Generator</td>\n",
       "      <td id=\"T_d03b9_row19_col1\" class=\"data row19 col1\" >KFold</td>\n",
       "    </tr>\n",
       "    <tr>\n",
       "      <th id=\"T_d03b9_level0_row20\" class=\"row_heading level0 row20\" >20</th>\n",
       "      <td id=\"T_d03b9_row20_col0\" class=\"data row20 col0\" >Fold Number</td>\n",
       "      <td id=\"T_d03b9_row20_col1\" class=\"data row20 col1\" >10</td>\n",
       "    </tr>\n",
       "    <tr>\n",
       "      <th id=\"T_d03b9_level0_row21\" class=\"row_heading level0 row21\" >21</th>\n",
       "      <td id=\"T_d03b9_row21_col0\" class=\"data row21 col0\" >CPU Jobs</td>\n",
       "      <td id=\"T_d03b9_row21_col1\" class=\"data row21 col1\" >-1</td>\n",
       "    </tr>\n",
       "    <tr>\n",
       "      <th id=\"T_d03b9_level0_row22\" class=\"row_heading level0 row22\" >22</th>\n",
       "      <td id=\"T_d03b9_row22_col0\" class=\"data row22 col0\" >Use GPU</td>\n",
       "      <td id=\"T_d03b9_row22_col1\" class=\"data row22 col1\" >False</td>\n",
       "    </tr>\n",
       "    <tr>\n",
       "      <th id=\"T_d03b9_level0_row23\" class=\"row_heading level0 row23\" >23</th>\n",
       "      <td id=\"T_d03b9_row23_col0\" class=\"data row23 col0\" >Log Experiment</td>\n",
       "      <td id=\"T_d03b9_row23_col1\" class=\"data row23 col1\" >False</td>\n",
       "    </tr>\n",
       "    <tr>\n",
       "      <th id=\"T_d03b9_level0_row24\" class=\"row_heading level0 row24\" >24</th>\n",
       "      <td id=\"T_d03b9_row24_col0\" class=\"data row24 col0\" >Experiment Name</td>\n",
       "      <td id=\"T_d03b9_row24_col1\" class=\"data row24 col1\" >reg-default-name</td>\n",
       "    </tr>\n",
       "    <tr>\n",
       "      <th id=\"T_d03b9_level0_row25\" class=\"row_heading level0 row25\" >25</th>\n",
       "      <td id=\"T_d03b9_row25_col0\" class=\"data row25 col0\" >USI</td>\n",
       "      <td id=\"T_d03b9_row25_col1\" class=\"data row25 col1\" >a90e</td>\n",
       "    </tr>\n",
       "  </tbody>\n",
       "</table>\n"
      ],
      "text/plain": [
       "<pandas.io.formats.style.Styler at 0x23702fed8d0>"
      ]
     },
     "metadata": {},
     "output_type": "display_data"
    },
    {
     "data": {
      "text/html": [],
      "text/plain": [
       "<IPython.core.display.HTML object>"
      ]
     },
     "metadata": {},
     "output_type": "display_data"
    },
    {
     "data": {
      "text/html": [
       "<style type=\"text/css\">\n",
       "#T_0ec3b_row10_col0, #T_0ec3b_row10_col1, #T_0ec3b_row10_col2, #T_0ec3b_row10_col3, #T_0ec3b_row10_col4, #T_0ec3b_row10_col5 {\n",
       "  background: yellow;\n",
       "}\n",
       "</style>\n",
       "<table id=\"T_0ec3b\">\n",
       "  <thead>\n",
       "    <tr>\n",
       "      <th class=\"blank level0\" >&nbsp;</th>\n",
       "      <th id=\"T_0ec3b_level0_col0\" class=\"col_heading level0 col0\" >MAE</th>\n",
       "      <th id=\"T_0ec3b_level0_col1\" class=\"col_heading level0 col1\" >MSE</th>\n",
       "      <th id=\"T_0ec3b_level0_col2\" class=\"col_heading level0 col2\" >RMSE</th>\n",
       "      <th id=\"T_0ec3b_level0_col3\" class=\"col_heading level0 col3\" >R2</th>\n",
       "      <th id=\"T_0ec3b_level0_col4\" class=\"col_heading level0 col4\" >RMSLE</th>\n",
       "      <th id=\"T_0ec3b_level0_col5\" class=\"col_heading level0 col5\" >MAPE</th>\n",
       "    </tr>\n",
       "    <tr>\n",
       "      <th class=\"index_name level0\" >Fold</th>\n",
       "      <th class=\"blank col0\" >&nbsp;</th>\n",
       "      <th class=\"blank col1\" >&nbsp;</th>\n",
       "      <th class=\"blank col2\" >&nbsp;</th>\n",
       "      <th class=\"blank col3\" >&nbsp;</th>\n",
       "      <th class=\"blank col4\" >&nbsp;</th>\n",
       "      <th class=\"blank col5\" >&nbsp;</th>\n",
       "    </tr>\n",
       "  </thead>\n",
       "  <tbody>\n",
       "    <tr>\n",
       "      <th id=\"T_0ec3b_level0_row0\" class=\"row_heading level0 row0\" >0</th>\n",
       "      <td id=\"T_0ec3b_row0_col0\" class=\"data row0 col0\" >3.0829</td>\n",
       "      <td id=\"T_0ec3b_row0_col1\" class=\"data row0 col1\" >16.8178</td>\n",
       "      <td id=\"T_0ec3b_row0_col2\" class=\"data row0 col2\" >4.1009</td>\n",
       "      <td id=\"T_0ec3b_row0_col3\" class=\"data row0 col3\" >0.7842</td>\n",
       "      <td id=\"T_0ec3b_row0_col4\" class=\"data row0 col4\" >0.0869</td>\n",
       "      <td id=\"T_0ec3b_row0_col5\" class=\"data row0 col5\" >0.0663</td>\n",
       "    </tr>\n",
       "    <tr>\n",
       "      <th id=\"T_0ec3b_level0_row1\" class=\"row_heading level0 row1\" >1</th>\n",
       "      <td id=\"T_0ec3b_row1_col0\" class=\"data row1 col0\" >3.0645</td>\n",
       "      <td id=\"T_0ec3b_row1_col1\" class=\"data row1 col1\" >16.7679</td>\n",
       "      <td id=\"T_0ec3b_row1_col2\" class=\"data row1 col2\" >4.0949</td>\n",
       "      <td id=\"T_0ec3b_row1_col3\" class=\"data row1 col3\" >0.7779</td>\n",
       "      <td id=\"T_0ec3b_row1_col4\" class=\"data row1 col4\" >0.0871</td>\n",
       "      <td id=\"T_0ec3b_row1_col5\" class=\"data row1 col5\" >0.0659</td>\n",
       "    </tr>\n",
       "    <tr>\n",
       "      <th id=\"T_0ec3b_level0_row2\" class=\"row_heading level0 row2\" >2</th>\n",
       "      <td id=\"T_0ec3b_row2_col0\" class=\"data row2 col0\" >2.9555</td>\n",
       "      <td id=\"T_0ec3b_row2_col1\" class=\"data row2 col1\" >15.1476</td>\n",
       "      <td id=\"T_0ec3b_row2_col2\" class=\"data row2 col2\" >3.8920</td>\n",
       "      <td id=\"T_0ec3b_row2_col3\" class=\"data row2 col3\" >0.8054</td>\n",
       "      <td id=\"T_0ec3b_row2_col4\" class=\"data row2 col4\" >0.0808</td>\n",
       "      <td id=\"T_0ec3b_row2_col5\" class=\"data row2 col5\" >0.0625</td>\n",
       "    </tr>\n",
       "    <tr>\n",
       "      <th id=\"T_0ec3b_level0_row3\" class=\"row_heading level0 row3\" >3</th>\n",
       "      <td id=\"T_0ec3b_row3_col0\" class=\"data row3 col0\" >2.9929</td>\n",
       "      <td id=\"T_0ec3b_row3_col1\" class=\"data row3 col1\" >16.1054</td>\n",
       "      <td id=\"T_0ec3b_row3_col2\" class=\"data row3 col2\" >4.0132</td>\n",
       "      <td id=\"T_0ec3b_row3_col3\" class=\"data row3 col3\" >0.7896</td>\n",
       "      <td id=\"T_0ec3b_row3_col4\" class=\"data row3 col4\" >0.0853</td>\n",
       "      <td id=\"T_0ec3b_row3_col5\" class=\"data row3 col5\" >0.0638</td>\n",
       "    </tr>\n",
       "    <tr>\n",
       "      <th id=\"T_0ec3b_level0_row4\" class=\"row_heading level0 row4\" >4</th>\n",
       "      <td id=\"T_0ec3b_row4_col0\" class=\"data row4 col0\" >3.0264</td>\n",
       "      <td id=\"T_0ec3b_row4_col1\" class=\"data row4 col1\" >15.5513</td>\n",
       "      <td id=\"T_0ec3b_row4_col2\" class=\"data row4 col2\" >3.9435</td>\n",
       "      <td id=\"T_0ec3b_row4_col3\" class=\"data row4 col3\" >0.7869</td>\n",
       "      <td id=\"T_0ec3b_row4_col4\" class=\"data row4 col4\" >0.0830</td>\n",
       "      <td id=\"T_0ec3b_row4_col5\" class=\"data row4 col5\" >0.0641</td>\n",
       "    </tr>\n",
       "    <tr>\n",
       "      <th id=\"T_0ec3b_level0_row5\" class=\"row_heading level0 row5\" >5</th>\n",
       "      <td id=\"T_0ec3b_row5_col0\" class=\"data row5 col0\" >3.0170</td>\n",
       "      <td id=\"T_0ec3b_row5_col1\" class=\"data row5 col1\" >15.0247</td>\n",
       "      <td id=\"T_0ec3b_row5_col2\" class=\"data row5 col2\" >3.8762</td>\n",
       "      <td id=\"T_0ec3b_row5_col3\" class=\"data row5 col3\" >0.7943</td>\n",
       "      <td id=\"T_0ec3b_row5_col4\" class=\"data row5 col4\" >0.0814</td>\n",
       "      <td id=\"T_0ec3b_row5_col5\" class=\"data row5 col5\" >0.0640</td>\n",
       "    </tr>\n",
       "    <tr>\n",
       "      <th id=\"T_0ec3b_level0_row6\" class=\"row_heading level0 row6\" >6</th>\n",
       "      <td id=\"T_0ec3b_row6_col0\" class=\"data row6 col0\" >3.0529</td>\n",
       "      <td id=\"T_0ec3b_row6_col1\" class=\"data row6 col1\" >16.5437</td>\n",
       "      <td id=\"T_0ec3b_row6_col2\" class=\"data row6 col2\" >4.0674</td>\n",
       "      <td id=\"T_0ec3b_row6_col3\" class=\"data row6 col3\" >0.7843</td>\n",
       "      <td id=\"T_0ec3b_row6_col4\" class=\"data row6 col4\" >0.0854</td>\n",
       "      <td id=\"T_0ec3b_row6_col5\" class=\"data row6 col5\" >0.0649</td>\n",
       "    </tr>\n",
       "    <tr>\n",
       "      <th id=\"T_0ec3b_level0_row7\" class=\"row_heading level0 row7\" >7</th>\n",
       "      <td id=\"T_0ec3b_row7_col0\" class=\"data row7 col0\" >3.0148</td>\n",
       "      <td id=\"T_0ec3b_row7_col1\" class=\"data row7 col1\" >15.8721</td>\n",
       "      <td id=\"T_0ec3b_row7_col2\" class=\"data row7 col2\" >3.9840</td>\n",
       "      <td id=\"T_0ec3b_row7_col3\" class=\"data row7 col3\" >0.7854</td>\n",
       "      <td id=\"T_0ec3b_row7_col4\" class=\"data row7 col4\" >0.0842</td>\n",
       "      <td id=\"T_0ec3b_row7_col5\" class=\"data row7 col5\" >0.0645</td>\n",
       "    </tr>\n",
       "    <tr>\n",
       "      <th id=\"T_0ec3b_level0_row8\" class=\"row_heading level0 row8\" >8</th>\n",
       "      <td id=\"T_0ec3b_row8_col0\" class=\"data row8 col0\" >2.9745</td>\n",
       "      <td id=\"T_0ec3b_row8_col1\" class=\"data row8 col1\" >15.0683</td>\n",
       "      <td id=\"T_0ec3b_row8_col2\" class=\"data row8 col2\" >3.8818</td>\n",
       "      <td id=\"T_0ec3b_row8_col3\" class=\"data row8 col3\" >0.7838</td>\n",
       "      <td id=\"T_0ec3b_row8_col4\" class=\"data row8 col4\" >0.0828</td>\n",
       "      <td id=\"T_0ec3b_row8_col5\" class=\"data row8 col5\" >0.0640</td>\n",
       "    </tr>\n",
       "    <tr>\n",
       "      <th id=\"T_0ec3b_level0_row9\" class=\"row_heading level0 row9\" >9</th>\n",
       "      <td id=\"T_0ec3b_row9_col0\" class=\"data row9 col0\" >3.0469</td>\n",
       "      <td id=\"T_0ec3b_row9_col1\" class=\"data row9 col1\" >16.2163</td>\n",
       "      <td id=\"T_0ec3b_row9_col2\" class=\"data row9 col2\" >4.0269</td>\n",
       "      <td id=\"T_0ec3b_row9_col3\" class=\"data row9 col3\" >0.7794</td>\n",
       "      <td id=\"T_0ec3b_row9_col4\" class=\"data row9 col4\" >0.0845</td>\n",
       "      <td id=\"T_0ec3b_row9_col5\" class=\"data row9 col5\" >0.0648</td>\n",
       "    </tr>\n",
       "    <tr>\n",
       "      <th id=\"T_0ec3b_level0_row10\" class=\"row_heading level0 row10\" >Mean</th>\n",
       "      <td id=\"T_0ec3b_row10_col0\" class=\"data row10 col0\" >3.0228</td>\n",
       "      <td id=\"T_0ec3b_row10_col1\" class=\"data row10 col1\" >15.9115</td>\n",
       "      <td id=\"T_0ec3b_row10_col2\" class=\"data row10 col2\" >3.9881</td>\n",
       "      <td id=\"T_0ec3b_row10_col3\" class=\"data row10 col3\" >0.7871</td>\n",
       "      <td id=\"T_0ec3b_row10_col4\" class=\"data row10 col4\" >0.0842</td>\n",
       "      <td id=\"T_0ec3b_row10_col5\" class=\"data row10 col5\" >0.0645</td>\n",
       "    </tr>\n",
       "    <tr>\n",
       "      <th id=\"T_0ec3b_level0_row11\" class=\"row_heading level0 row11\" >Std</th>\n",
       "      <td id=\"T_0ec3b_row11_col0\" class=\"data row11 col0\" >0.0383</td>\n",
       "      <td id=\"T_0ec3b_row11_col1\" class=\"data row11 col1\" >0.6555</td>\n",
       "      <td id=\"T_0ec3b_row11_col2\" class=\"data row11 col2\" >0.0822</td>\n",
       "      <td id=\"T_0ec3b_row11_col3\" class=\"data row11 col3\" >0.0075</td>\n",
       "      <td id=\"T_0ec3b_row11_col4\" class=\"data row11 col4\" >0.0020</td>\n",
       "      <td id=\"T_0ec3b_row11_col5\" class=\"data row11 col5\" >0.0010</td>\n",
       "    </tr>\n",
       "  </tbody>\n",
       "</table>\n"
      ],
      "text/plain": [
       "<pandas.io.formats.style.Styler at 0x2375422a950>"
      ]
     },
     "metadata": {},
     "output_type": "display_data"
    },
    {
     "data": {
      "text/html": [],
      "text/plain": [
       "<IPython.core.display.HTML object>"
      ]
     },
     "metadata": {},
     "output_type": "display_data"
    },
    {
     "name": "stdout",
     "output_type": "stream",
     "text": [
      "Transformation Pipeline and Model Successfully Saved\n"
     ]
    },
    {
     "data": {
      "text/html": [],
      "text/plain": [
       "<IPython.core.display.HTML object>"
      ]
     },
     "metadata": {},
     "output_type": "display_data"
    },
    {
     "data": {
      "text/html": [],
      "text/plain": [
       "<IPython.core.display.HTML object>"
      ]
     },
     "metadata": {},
     "output_type": "display_data"
    },
    {
     "data": {
      "text/html": [],
      "text/plain": [
       "<IPython.core.display.HTML object>"
      ]
     },
     "metadata": {},
     "output_type": "display_data"
    },
    {
     "data": {
      "text/html": [],
      "text/plain": [
       "<IPython.core.display.HTML object>"
      ]
     },
     "metadata": {},
     "output_type": "display_data"
    },
    {
     "data": {
      "text/html": [],
      "text/plain": [
       "<IPython.core.display.HTML object>"
      ]
     },
     "metadata": {},
     "output_type": "display_data"
    },
    {
     "data": {
      "text/html": [],
      "text/plain": [
       "<IPython.core.display.HTML object>"
      ]
     },
     "metadata": {},
     "output_type": "display_data"
    },
    {
     "data": {
      "text/html": [],
      "text/plain": [
       "<IPython.core.display.HTML object>"
      ]
     },
     "metadata": {},
     "output_type": "display_data"
    },
    {
     "data": {
      "text/html": [],
      "text/plain": [
       "<IPython.core.display.HTML object>"
      ]
     },
     "metadata": {},
     "output_type": "display_data"
    },
    {
     "data": {
      "text/html": [],
      "text/plain": [
       "<IPython.core.display.HTML object>"
      ]
     },
     "metadata": {},
     "output_type": "display_data"
    },
    {
     "data": {
      "text/html": [],
      "text/plain": [
       "<IPython.core.display.HTML object>"
      ]
     },
     "metadata": {},
     "output_type": "display_data"
    },
    {
     "data": {
      "text/html": [],
      "text/plain": [
       "<IPython.core.display.HTML object>"
      ]
     },
     "metadata": {},
     "output_type": "display_data"
    },
    {
     "data": {
      "text/html": [],
      "text/plain": [
       "<IPython.core.display.HTML object>"
      ]
     },
     "metadata": {},
     "output_type": "display_data"
    },
    {
     "data": {
      "text/html": [],
      "text/plain": [
       "<IPython.core.display.HTML object>"
      ]
     },
     "metadata": {},
     "output_type": "display_data"
    },
    {
     "data": {
      "text/html": [],
      "text/plain": [
       "<IPython.core.display.HTML object>"
      ]
     },
     "metadata": {},
     "output_type": "display_data"
    },
    {
     "data": {
      "text/html": [],
      "text/plain": [
       "<IPython.core.display.HTML object>"
      ]
     },
     "metadata": {},
     "output_type": "display_data"
    },
    {
     "data": {
      "text/html": [],
      "text/plain": [
       "<IPython.core.display.HTML object>"
      ]
     },
     "metadata": {},
     "output_type": "display_data"
    },
    {
     "data": {
      "text/html": [],
      "text/plain": [
       "<IPython.core.display.HTML object>"
      ]
     },
     "metadata": {},
     "output_type": "display_data"
    },
    {
     "data": {
      "text/html": [],
      "text/plain": [
       "<IPython.core.display.HTML object>"
      ]
     },
     "metadata": {},
     "output_type": "display_data"
    },
    {
     "data": {
      "text/html": [],
      "text/plain": [
       "<IPython.core.display.HTML object>"
      ]
     },
     "metadata": {},
     "output_type": "display_data"
    },
    {
     "data": {
      "text/html": [],
      "text/plain": [
       "<IPython.core.display.HTML object>"
      ]
     },
     "metadata": {},
     "output_type": "display_data"
    },
    {
     "data": {
      "text/html": [],
      "text/plain": [
       "<IPython.core.display.HTML object>"
      ]
     },
     "metadata": {},
     "output_type": "display_data"
    },
    {
     "data": {
      "text/html": [],
      "text/plain": [
       "<IPython.core.display.HTML object>"
      ]
     },
     "metadata": {},
     "output_type": "display_data"
    },
    {
     "data": {
      "text/html": [],
      "text/plain": [
       "<IPython.core.display.HTML object>"
      ]
     },
     "metadata": {},
     "output_type": "display_data"
    },
    {
     "data": {
      "text/html": [],
      "text/plain": [
       "<IPython.core.display.HTML object>"
      ]
     },
     "metadata": {},
     "output_type": "display_data"
    },
    {
     "data": {
      "text/html": [],
      "text/plain": [
       "<IPython.core.display.HTML object>"
      ]
     },
     "metadata": {},
     "output_type": "display_data"
    },
    {
     "data": {
      "text/html": [],
      "text/plain": [
       "<IPython.core.display.HTML object>"
      ]
     },
     "metadata": {},
     "output_type": "display_data"
    },
    {
     "data": {
      "text/html": [],
      "text/plain": [
       "<IPython.core.display.HTML object>"
      ]
     },
     "metadata": {},
     "output_type": "display_data"
    },
    {
     "data": {
      "text/html": [],
      "text/plain": [
       "<IPython.core.display.HTML object>"
      ]
     },
     "metadata": {},
     "output_type": "display_data"
    },
    {
     "data": {
      "text/html": [],
      "text/plain": [
       "<IPython.core.display.HTML object>"
      ]
     },
     "metadata": {},
     "output_type": "display_data"
    },
    {
     "data": {
      "text/html": [],
      "text/plain": [
       "<IPython.core.display.HTML object>"
      ]
     },
     "metadata": {},
     "output_type": "display_data"
    },
    {
     "data": {
      "text/html": [],
      "text/plain": [
       "<IPython.core.display.HTML object>"
      ]
     },
     "metadata": {},
     "output_type": "display_data"
    },
    {
     "data": {
      "text/html": [],
      "text/plain": [
       "<IPython.core.display.HTML object>"
      ]
     },
     "metadata": {},
     "output_type": "display_data"
    },
    {
     "data": {
      "text/html": [],
      "text/plain": [
       "<IPython.core.display.HTML object>"
      ]
     },
     "metadata": {},
     "output_type": "display_data"
    },
    {
     "data": {
      "text/html": [],
      "text/plain": [
       "<IPython.core.display.HTML object>"
      ]
     },
     "metadata": {},
     "output_type": "display_data"
    },
    {
     "data": {
      "text/html": [],
      "text/plain": [
       "<IPython.core.display.HTML object>"
      ]
     },
     "metadata": {},
     "output_type": "display_data"
    },
    {
     "data": {
      "text/html": [],
      "text/plain": [
       "<IPython.core.display.HTML object>"
      ]
     },
     "metadata": {},
     "output_type": "display_data"
    },
    {
     "data": {
      "text/html": [],
      "text/plain": [
       "<IPython.core.display.HTML object>"
      ]
     },
     "metadata": {},
     "output_type": "display_data"
    },
    {
     "data": {
      "text/html": [],
      "text/plain": [
       "<IPython.core.display.HTML object>"
      ]
     },
     "metadata": {},
     "output_type": "display_data"
    },
    {
     "data": {
      "text/html": [],
      "text/plain": [
       "<IPython.core.display.HTML object>"
      ]
     },
     "metadata": {},
     "output_type": "display_data"
    },
    {
     "data": {
      "text/html": [],
      "text/plain": [
       "<IPython.core.display.HTML object>"
      ]
     },
     "metadata": {},
     "output_type": "display_data"
    },
    {
     "data": {
      "text/html": [],
      "text/plain": [
       "<IPython.core.display.HTML object>"
      ]
     },
     "metadata": {},
     "output_type": "display_data"
    },
    {
     "data": {
      "text/html": [],
      "text/plain": [
       "<IPython.core.display.HTML object>"
      ]
     },
     "metadata": {},
     "output_type": "display_data"
    },
    {
     "data": {
      "text/html": [],
      "text/plain": [
       "<IPython.core.display.HTML object>"
      ]
     },
     "metadata": {},
     "output_type": "display_data"
    },
    {
     "data": {
      "text/html": [],
      "text/plain": [
       "<IPython.core.display.HTML object>"
      ]
     },
     "metadata": {},
     "output_type": "display_data"
    },
    {
     "data": {
      "text/html": [],
      "text/plain": [
       "<IPython.core.display.HTML object>"
      ]
     },
     "metadata": {},
     "output_type": "display_data"
    },
    {
     "data": {
      "text/html": [],
      "text/plain": [
       "<IPython.core.display.HTML object>"
      ]
     },
     "metadata": {},
     "output_type": "display_data"
    },
    {
     "data": {
      "text/html": [],
      "text/plain": [
       "<IPython.core.display.HTML object>"
      ]
     },
     "metadata": {},
     "output_type": "display_data"
    },
    {
     "data": {
      "text/html": [],
      "text/plain": [
       "<IPython.core.display.HTML object>"
      ]
     },
     "metadata": {},
     "output_type": "display_data"
    },
    {
     "data": {
      "text/html": [],
      "text/plain": [
       "<IPython.core.display.HTML object>"
      ]
     },
     "metadata": {},
     "output_type": "display_data"
    },
    {
     "data": {
      "text/html": [],
      "text/plain": [
       "<IPython.core.display.HTML object>"
      ]
     },
     "metadata": {},
     "output_type": "display_data"
    },
    {
     "data": {
      "text/html": [],
      "text/plain": [
       "<IPython.core.display.HTML object>"
      ]
     },
     "metadata": {},
     "output_type": "display_data"
    },
    {
     "data": {
      "text/html": [],
      "text/plain": [
       "<IPython.core.display.HTML object>"
      ]
     },
     "metadata": {},
     "output_type": "display_data"
    },
    {
     "data": {
      "text/html": [],
      "text/plain": [
       "<IPython.core.display.HTML object>"
      ]
     },
     "metadata": {},
     "output_type": "display_data"
    },
    {
     "data": {
      "text/html": [],
      "text/plain": [
       "<IPython.core.display.HTML object>"
      ]
     },
     "metadata": {},
     "output_type": "display_data"
    },
    {
     "data": {
      "text/html": [],
      "text/plain": [
       "<IPython.core.display.HTML object>"
      ]
     },
     "metadata": {},
     "output_type": "display_data"
    },
    {
     "data": {
      "text/html": [],
      "text/plain": [
       "<IPython.core.display.HTML object>"
      ]
     },
     "metadata": {},
     "output_type": "display_data"
    },
    {
     "data": {
      "text/html": [],
      "text/plain": [
       "<IPython.core.display.HTML object>"
      ]
     },
     "metadata": {},
     "output_type": "display_data"
    },
    {
     "data": {
      "text/html": [],
      "text/plain": [
       "<IPython.core.display.HTML object>"
      ]
     },
     "metadata": {},
     "output_type": "display_data"
    },
    {
     "data": {
      "text/html": [],
      "text/plain": [
       "<IPython.core.display.HTML object>"
      ]
     },
     "metadata": {},
     "output_type": "display_data"
    },
    {
     "data": {
      "text/html": [],
      "text/plain": [
       "<IPython.core.display.HTML object>"
      ]
     },
     "metadata": {},
     "output_type": "display_data"
    },
    {
     "data": {
      "text/html": [],
      "text/plain": [
       "<IPython.core.display.HTML object>"
      ]
     },
     "metadata": {},
     "output_type": "display_data"
    },
    {
     "data": {
      "text/html": [],
      "text/plain": [
       "<IPython.core.display.HTML object>"
      ]
     },
     "metadata": {},
     "output_type": "display_data"
    },
    {
     "data": {
      "text/html": [],
      "text/plain": [
       "<IPython.core.display.HTML object>"
      ]
     },
     "metadata": {},
     "output_type": "display_data"
    },
    {
     "data": {
      "text/html": [],
      "text/plain": [
       "<IPython.core.display.HTML object>"
      ]
     },
     "metadata": {},
     "output_type": "display_data"
    },
    {
     "data": {
      "text/html": [],
      "text/plain": [
       "<IPython.core.display.HTML object>"
      ]
     },
     "metadata": {},
     "output_type": "display_data"
    },
    {
     "data": {
      "text/html": [],
      "text/plain": [
       "<IPython.core.display.HTML object>"
      ]
     },
     "metadata": {},
     "output_type": "display_data"
    },
    {
     "data": {
      "text/html": [],
      "text/plain": [
       "<IPython.core.display.HTML object>"
      ]
     },
     "metadata": {},
     "output_type": "display_data"
    },
    {
     "data": {
      "text/html": [],
      "text/plain": [
       "<IPython.core.display.HTML object>"
      ]
     },
     "metadata": {},
     "output_type": "display_data"
    },
    {
     "data": {
      "text/html": [],
      "text/plain": [
       "<IPython.core.display.HTML object>"
      ]
     },
     "metadata": {},
     "output_type": "display_data"
    },
    {
     "data": {
      "text/html": [],
      "text/plain": [
       "<IPython.core.display.HTML object>"
      ]
     },
     "metadata": {},
     "output_type": "display_data"
    },
    {
     "data": {
      "text/html": [],
      "text/plain": [
       "<IPython.core.display.HTML object>"
      ]
     },
     "metadata": {},
     "output_type": "display_data"
    },
    {
     "data": {
      "text/html": [],
      "text/plain": [
       "<IPython.core.display.HTML object>"
      ]
     },
     "metadata": {},
     "output_type": "display_data"
    },
    {
     "data": {
      "text/html": [],
      "text/plain": [
       "<IPython.core.display.HTML object>"
      ]
     },
     "metadata": {},
     "output_type": "display_data"
    },
    {
     "data": {
      "text/html": [],
      "text/plain": [
       "<IPython.core.display.HTML object>"
      ]
     },
     "metadata": {},
     "output_type": "display_data"
    },
    {
     "data": {
      "text/html": [],
      "text/plain": [
       "<IPython.core.display.HTML object>"
      ]
     },
     "metadata": {},
     "output_type": "display_data"
    },
    {
     "data": {
      "text/html": [],
      "text/plain": [
       "<IPython.core.display.HTML object>"
      ]
     },
     "metadata": {},
     "output_type": "display_data"
    },
    {
     "data": {
      "text/html": [],
      "text/plain": [
       "<IPython.core.display.HTML object>"
      ]
     },
     "metadata": {},
     "output_type": "display_data"
    },
    {
     "data": {
      "text/html": [],
      "text/plain": [
       "<IPython.core.display.HTML object>"
      ]
     },
     "metadata": {},
     "output_type": "display_data"
    },
    {
     "data": {
      "text/html": [],
      "text/plain": [
       "<IPython.core.display.HTML object>"
      ]
     },
     "metadata": {},
     "output_type": "display_data"
    },
    {
     "data": {
      "text/html": [],
      "text/plain": [
       "<IPython.core.display.HTML object>"
      ]
     },
     "metadata": {},
     "output_type": "display_data"
    },
    {
     "data": {
      "text/html": [],
      "text/plain": [
       "<IPython.core.display.HTML object>"
      ]
     },
     "metadata": {},
     "output_type": "display_data"
    },
    {
     "data": {
      "text/html": [],
      "text/plain": [
       "<IPython.core.display.HTML object>"
      ]
     },
     "metadata": {},
     "output_type": "display_data"
    },
    {
     "data": {
      "text/html": [],
      "text/plain": [
       "<IPython.core.display.HTML object>"
      ]
     },
     "metadata": {},
     "output_type": "display_data"
    },
    {
     "data": {
      "text/html": [],
      "text/plain": [
       "<IPython.core.display.HTML object>"
      ]
     },
     "metadata": {},
     "output_type": "display_data"
    },
    {
     "data": {
      "text/html": [],
      "text/plain": [
       "<IPython.core.display.HTML object>"
      ]
     },
     "metadata": {},
     "output_type": "display_data"
    },
    {
     "data": {
      "text/html": [],
      "text/plain": [
       "<IPython.core.display.HTML object>"
      ]
     },
     "metadata": {},
     "output_type": "display_data"
    },
    {
     "data": {
      "text/html": [],
      "text/plain": [
       "<IPython.core.display.HTML object>"
      ]
     },
     "metadata": {},
     "output_type": "display_data"
    },
    {
     "data": {
      "text/html": [],
      "text/plain": [
       "<IPython.core.display.HTML object>"
      ]
     },
     "metadata": {},
     "output_type": "display_data"
    },
    {
     "data": {
      "text/html": [],
      "text/plain": [
       "<IPython.core.display.HTML object>"
      ]
     },
     "metadata": {},
     "output_type": "display_data"
    },
    {
     "data": {
      "text/html": [],
      "text/plain": [
       "<IPython.core.display.HTML object>"
      ]
     },
     "metadata": {},
     "output_type": "display_data"
    },
    {
     "data": {
      "text/html": [],
      "text/plain": [
       "<IPython.core.display.HTML object>"
      ]
     },
     "metadata": {},
     "output_type": "display_data"
    },
    {
     "data": {
      "text/html": [],
      "text/plain": [
       "<IPython.core.display.HTML object>"
      ]
     },
     "metadata": {},
     "output_type": "display_data"
    },
    {
     "data": {
      "text/html": [],
      "text/plain": [
       "<IPython.core.display.HTML object>"
      ]
     },
     "metadata": {},
     "output_type": "display_data"
    },
    {
     "data": {
      "text/html": [],
      "text/plain": [
       "<IPython.core.display.HTML object>"
      ]
     },
     "metadata": {},
     "output_type": "display_data"
    },
    {
     "data": {
      "text/html": [],
      "text/plain": [
       "<IPython.core.display.HTML object>"
      ]
     },
     "metadata": {},
     "output_type": "display_data"
    },
    {
     "data": {
      "text/html": [],
      "text/plain": [
       "<IPython.core.display.HTML object>"
      ]
     },
     "metadata": {},
     "output_type": "display_data"
    },
    {
     "data": {
      "text/html": [],
      "text/plain": [
       "<IPython.core.display.HTML object>"
      ]
     },
     "metadata": {},
     "output_type": "display_data"
    },
    {
     "data": {
      "text/html": [],
      "text/plain": [
       "<IPython.core.display.HTML object>"
      ]
     },
     "metadata": {},
     "output_type": "display_data"
    },
    {
     "data": {
      "text/html": [],
      "text/plain": [
       "<IPython.core.display.HTML object>"
      ]
     },
     "metadata": {},
     "output_type": "display_data"
    },
    {
     "data": {
      "text/html": [],
      "text/plain": [
       "<IPython.core.display.HTML object>"
      ]
     },
     "metadata": {},
     "output_type": "display_data"
    },
    {
     "data": {
      "text/html": [],
      "text/plain": [
       "<IPython.core.display.HTML object>"
      ]
     },
     "metadata": {},
     "output_type": "display_data"
    },
    {
     "data": {
      "text/html": [],
      "text/plain": [
       "<IPython.core.display.HTML object>"
      ]
     },
     "metadata": {},
     "output_type": "display_data"
    },
    {
     "data": {
      "text/html": [],
      "text/plain": [
       "<IPython.core.display.HTML object>"
      ]
     },
     "metadata": {},
     "output_type": "display_data"
    },
    {
     "data": {
      "text/html": [],
      "text/plain": [
       "<IPython.core.display.HTML object>"
      ]
     },
     "metadata": {},
     "output_type": "display_data"
    },
    {
     "data": {
      "text/html": [],
      "text/plain": [
       "<IPython.core.display.HTML object>"
      ]
     },
     "metadata": {},
     "output_type": "display_data"
    },
    {
     "data": {
      "text/html": [],
      "text/plain": [
       "<IPython.core.display.HTML object>"
      ]
     },
     "metadata": {},
     "output_type": "display_data"
    },
    {
     "data": {
      "text/html": [],
      "text/plain": [
       "<IPython.core.display.HTML object>"
      ]
     },
     "metadata": {},
     "output_type": "display_data"
    },
    {
     "data": {
      "text/html": [],
      "text/plain": [
       "<IPython.core.display.HTML object>"
      ]
     },
     "metadata": {},
     "output_type": "display_data"
    },
    {
     "data": {
      "text/html": [],
      "text/plain": [
       "<IPython.core.display.HTML object>"
      ]
     },
     "metadata": {},
     "output_type": "display_data"
    },
    {
     "data": {
      "text/html": [],
      "text/plain": [
       "<IPython.core.display.HTML object>"
      ]
     },
     "metadata": {},
     "output_type": "display_data"
    },
    {
     "data": {
      "text/html": [],
      "text/plain": [
       "<IPython.core.display.HTML object>"
      ]
     },
     "metadata": {},
     "output_type": "display_data"
    },
    {
     "data": {
      "text/html": [],
      "text/plain": [
       "<IPython.core.display.HTML object>"
      ]
     },
     "metadata": {},
     "output_type": "display_data"
    },
    {
     "data": {
      "text/html": [],
      "text/plain": [
       "<IPython.core.display.HTML object>"
      ]
     },
     "metadata": {},
     "output_type": "display_data"
    },
    {
     "data": {
      "text/html": [],
      "text/plain": [
       "<IPython.core.display.HTML object>"
      ]
     },
     "metadata": {},
     "output_type": "display_data"
    },
    {
     "data": {
      "text/html": [],
      "text/plain": [
       "<IPython.core.display.HTML object>"
      ]
     },
     "metadata": {},
     "output_type": "display_data"
    },
    {
     "data": {
      "text/html": [],
      "text/plain": [
       "<IPython.core.display.HTML object>"
      ]
     },
     "metadata": {},
     "output_type": "display_data"
    },
    {
     "data": {
      "text/html": [],
      "text/plain": [
       "<IPython.core.display.HTML object>"
      ]
     },
     "metadata": {},
     "output_type": "display_data"
    },
    {
     "data": {
      "text/html": [],
      "text/plain": [
       "<IPython.core.display.HTML object>"
      ]
     },
     "metadata": {},
     "output_type": "display_data"
    },
    {
     "data": {
      "text/html": [],
      "text/plain": [
       "<IPython.core.display.HTML object>"
      ]
     },
     "metadata": {},
     "output_type": "display_data"
    },
    {
     "data": {
      "text/html": [],
      "text/plain": [
       "<IPython.core.display.HTML object>"
      ]
     },
     "metadata": {},
     "output_type": "display_data"
    },
    {
     "data": {
      "text/html": [],
      "text/plain": [
       "<IPython.core.display.HTML object>"
      ]
     },
     "metadata": {},
     "output_type": "display_data"
    },
    {
     "data": {
      "text/html": [],
      "text/plain": [
       "<IPython.core.display.HTML object>"
      ]
     },
     "metadata": {},
     "output_type": "display_data"
    },
    {
     "data": {
      "text/html": [],
      "text/plain": [
       "<IPython.core.display.HTML object>"
      ]
     },
     "metadata": {},
     "output_type": "display_data"
    },
    {
     "data": {
      "text/html": [],
      "text/plain": [
       "<IPython.core.display.HTML object>"
      ]
     },
     "metadata": {},
     "output_type": "display_data"
    },
    {
     "data": {
      "text/html": [],
      "text/plain": [
       "<IPython.core.display.HTML object>"
      ]
     },
     "metadata": {},
     "output_type": "display_data"
    },
    {
     "data": {
      "text/html": [],
      "text/plain": [
       "<IPython.core.display.HTML object>"
      ]
     },
     "metadata": {},
     "output_type": "display_data"
    },
    {
     "data": {
      "text/html": [],
      "text/plain": [
       "<IPython.core.display.HTML object>"
      ]
     },
     "metadata": {},
     "output_type": "display_data"
    },
    {
     "data": {
      "text/html": [],
      "text/plain": [
       "<IPython.core.display.HTML object>"
      ]
     },
     "metadata": {},
     "output_type": "display_data"
    },
    {
     "data": {
      "text/html": [],
      "text/plain": [
       "<IPython.core.display.HTML object>"
      ]
     },
     "metadata": {},
     "output_type": "display_data"
    },
    {
     "data": {
      "text/html": [],
      "text/plain": [
       "<IPython.core.display.HTML object>"
      ]
     },
     "metadata": {},
     "output_type": "display_data"
    },
    {
     "data": {
      "text/html": [],
      "text/plain": [
       "<IPython.core.display.HTML object>"
      ]
     },
     "metadata": {},
     "output_type": "display_data"
    },
    {
     "data": {
      "text/html": [],
      "text/plain": [
       "<IPython.core.display.HTML object>"
      ]
     },
     "metadata": {},
     "output_type": "display_data"
    },
    {
     "data": {
      "text/html": [],
      "text/plain": [
       "<IPython.core.display.HTML object>"
      ]
     },
     "metadata": {},
     "output_type": "display_data"
    },
    {
     "data": {
      "text/html": [],
      "text/plain": [
       "<IPython.core.display.HTML object>"
      ]
     },
     "metadata": {},
     "output_type": "display_data"
    },
    {
     "data": {
      "text/html": [],
      "text/plain": [
       "<IPython.core.display.HTML object>"
      ]
     },
     "metadata": {},
     "output_type": "display_data"
    },
    {
     "data": {
      "text/html": [],
      "text/plain": [
       "<IPython.core.display.HTML object>"
      ]
     },
     "metadata": {},
     "output_type": "display_data"
    },
    {
     "data": {
      "text/html": [],
      "text/plain": [
       "<IPython.core.display.HTML object>"
      ]
     },
     "metadata": {},
     "output_type": "display_data"
    },
    {
     "data": {
      "text/html": [],
      "text/plain": [
       "<IPython.core.display.HTML object>"
      ]
     },
     "metadata": {},
     "output_type": "display_data"
    },
    {
     "data": {
      "text/html": [],
      "text/plain": [
       "<IPython.core.display.HTML object>"
      ]
     },
     "metadata": {},
     "output_type": "display_data"
    },
    {
     "data": {
      "text/html": [],
      "text/plain": [
       "<IPython.core.display.HTML object>"
      ]
     },
     "metadata": {},
     "output_type": "display_data"
    },
    {
     "data": {
      "text/html": [],
      "text/plain": [
       "<IPython.core.display.HTML object>"
      ]
     },
     "metadata": {},
     "output_type": "display_data"
    },
    {
     "data": {
      "text/html": [],
      "text/plain": [
       "<IPython.core.display.HTML object>"
      ]
     },
     "metadata": {},
     "output_type": "display_data"
    },
    {
     "data": {
      "text/html": [],
      "text/plain": [
       "<IPython.core.display.HTML object>"
      ]
     },
     "metadata": {},
     "output_type": "display_data"
    },
    {
     "data": {
      "text/html": [],
      "text/plain": [
       "<IPython.core.display.HTML object>"
      ]
     },
     "metadata": {},
     "output_type": "display_data"
    },
    {
     "data": {
      "text/html": [],
      "text/plain": [
       "<IPython.core.display.HTML object>"
      ]
     },
     "metadata": {},
     "output_type": "display_data"
    },
    {
     "data": {
      "text/html": [],
      "text/plain": [
       "<IPython.core.display.HTML object>"
      ]
     },
     "metadata": {},
     "output_type": "display_data"
    },
    {
     "data": {
      "text/html": [],
      "text/plain": [
       "<IPython.core.display.HTML object>"
      ]
     },
     "metadata": {},
     "output_type": "display_data"
    },
    {
     "data": {
      "text/html": [],
      "text/plain": [
       "<IPython.core.display.HTML object>"
      ]
     },
     "metadata": {},
     "output_type": "display_data"
    },
    {
     "data": {
      "text/html": [],
      "text/plain": [
       "<IPython.core.display.HTML object>"
      ]
     },
     "metadata": {},
     "output_type": "display_data"
    },
    {
     "data": {
      "text/html": [],
      "text/plain": [
       "<IPython.core.display.HTML object>"
      ]
     },
     "metadata": {},
     "output_type": "display_data"
    },
    {
     "data": {
      "text/html": [],
      "text/plain": [
       "<IPython.core.display.HTML object>"
      ]
     },
     "metadata": {},
     "output_type": "display_data"
    },
    {
     "data": {
      "text/html": [],
      "text/plain": [
       "<IPython.core.display.HTML object>"
      ]
     },
     "metadata": {},
     "output_type": "display_data"
    },
    {
     "data": {
      "text/html": [],
      "text/plain": [
       "<IPython.core.display.HTML object>"
      ]
     },
     "metadata": {},
     "output_type": "display_data"
    },
    {
     "data": {
      "text/html": [],
      "text/plain": [
       "<IPython.core.display.HTML object>"
      ]
     },
     "metadata": {},
     "output_type": "display_data"
    },
    {
     "data": {
      "text/html": [],
      "text/plain": [
       "<IPython.core.display.HTML object>"
      ]
     },
     "metadata": {},
     "output_type": "display_data"
    },
    {
     "data": {
      "text/html": [],
      "text/plain": [
       "<IPython.core.display.HTML object>"
      ]
     },
     "metadata": {},
     "output_type": "display_data"
    },
    {
     "data": {
      "text/html": [],
      "text/plain": [
       "<IPython.core.display.HTML object>"
      ]
     },
     "metadata": {},
     "output_type": "display_data"
    },
    {
     "data": {
      "text/html": [],
      "text/plain": [
       "<IPython.core.display.HTML object>"
      ]
     },
     "metadata": {},
     "output_type": "display_data"
    },
    {
     "data": {
      "text/html": [],
      "text/plain": [
       "<IPython.core.display.HTML object>"
      ]
     },
     "metadata": {},
     "output_type": "display_data"
    },
    {
     "data": {
      "text/html": [],
      "text/plain": [
       "<IPython.core.display.HTML object>"
      ]
     },
     "metadata": {},
     "output_type": "display_data"
    },
    {
     "data": {
      "text/html": [],
      "text/plain": [
       "<IPython.core.display.HTML object>"
      ]
     },
     "metadata": {},
     "output_type": "display_data"
    },
    {
     "data": {
      "text/html": [],
      "text/plain": [
       "<IPython.core.display.HTML object>"
      ]
     },
     "metadata": {},
     "output_type": "display_data"
    },
    {
     "data": {
      "text/html": [],
      "text/plain": [
       "<IPython.core.display.HTML object>"
      ]
     },
     "metadata": {},
     "output_type": "display_data"
    },
    {
     "data": {
      "text/html": [],
      "text/plain": [
       "<IPython.core.display.HTML object>"
      ]
     },
     "metadata": {},
     "output_type": "display_data"
    },
    {
     "data": {
      "text/html": [],
      "text/plain": [
       "<IPython.core.display.HTML object>"
      ]
     },
     "metadata": {},
     "output_type": "display_data"
    },
    {
     "data": {
      "text/html": [],
      "text/plain": [
       "<IPython.core.display.HTML object>"
      ]
     },
     "metadata": {},
     "output_type": "display_data"
    },
    {
     "data": {
      "text/html": [],
      "text/plain": [
       "<IPython.core.display.HTML object>"
      ]
     },
     "metadata": {},
     "output_type": "display_data"
    },
    {
     "data": {
      "text/html": [],
      "text/plain": [
       "<IPython.core.display.HTML object>"
      ]
     },
     "metadata": {},
     "output_type": "display_data"
    },
    {
     "data": {
      "text/html": [],
      "text/plain": [
       "<IPython.core.display.HTML object>"
      ]
     },
     "metadata": {},
     "output_type": "display_data"
    },
    {
     "name": "stdout",
     "output_type": "stream",
     "text": [
      "               datetime  prediction_label\n",
      "0   2025-02-11 00:00:00         43.201765\n",
      "1   2025-02-11 01:00:00         40.385086\n",
      "2   2025-02-11 02:00:00         39.311582\n",
      "3   2025-02-11 03:00:00         36.402889\n",
      "4   2025-02-11 04:00:00         37.977754\n",
      "..                  ...               ...\n",
      "163 2025-02-17 19:00:00         46.761632\n",
      "164 2025-02-17 20:00:00         47.969341\n",
      "165 2025-02-17 21:00:00         46.430134\n",
      "166 2025-02-17 22:00:00         46.940996\n",
      "167 2025-02-17 23:00:00         46.292515\n",
      "\n",
      "[168 rows x 2 columns]\n",
      "บันทึกผลลัพธ์การพยากรณ์สำเร็จ! ✅\n"
     ]
    }
   ],
   "source": [
    "import pandas as pd\n",
    "from pycaret.regression import *\n",
    "from datetime import timedelta\n",
    "import numpy as np\n",
    "\n",
    "# โหลดไฟล์ CSV\n",
    "file_path = \"D:\\project-term\\pm_2.5\\export-jsps013-1h.csv\"\n",
    "df = pd.read_csv(file_path)\n",
    "\n",
    "# แปลง datetime เป็นชนิด datetime\n",
    "df[\"datetime\"] = pd.to_datetime(df[\"datetime\"], dayfirst=True, errors=\"coerce\")\n",
    "\n",
    "# แปลง 'humidity' เป็นตัวเลข\n",
    "df[\"humidity\"] = pd.to_numeric(df[\"humidity\"], errors=\"coerce\")\n",
    "\n",
    "# ลบคอลัมน์ 'pm_2_5' และ 'temperature'\n",
    "for col in [\"pm_2_5\", \"temperature\"]:\n",
    "    if col in df.columns:\n",
    "        df.drop(columns=[col], inplace=True)\n",
    "\n",
    "# ฟังก์ชัน Hybrid Imputation\n",
    "def hybrid_imputation(series):\n",
    "    Q1 = series.quantile(0.25)\n",
    "    Q3 = series.quantile(0.75)\n",
    "    IQR = Q3 - Q1\n",
    "\n",
    "    lower_bound = Q1 - 1.5 * IQR\n",
    "    upper_bound = Q3 + 1.5 * IQR\n",
    "\n",
    "    non_outlier_values = series[(series >= lower_bound) & (series <= upper_bound)]\n",
    "    median_value = non_outlier_values.median() if not non_outlier_values.empty else series.median()\n",
    "\n",
    "    series = series.mask((series < lower_bound) | (series > upper_bound), np.nan)\n",
    "    series = series.interpolate(method=\"linear\")  \n",
    "    series = series.fillna(median_value)  \n",
    "\n",
    "    return series\n",
    "\n",
    "# ใช้ Hybrid Imputation สำหรับ 'humidity'\n",
    "df[\"humidity\"] = hybrid_imputation(df[\"humidity\"])\n",
    "\n",
    "# สร้างฟีเจอร์ย้อนหลังของ humidity\n",
    "for lag in [1, 3, 6, 24]:\n",
    "    df[f\"humidity_lag_{lag}\"] = df[\"humidity\"].shift(lag)\n",
    "\n",
    "# ลบแถวที่มีค่า NaN หลังจากสร้าง Lag\n",
    "df.dropna(inplace=True)\n",
    "\n",
    "# ตั้งค่า PyCaret และแบ่ง train 80% test 20%\n",
    "exp = setup(df, target=\"humidity\", train_size=0.8, session_id=42, normalize=True, feature_selection=True)\n",
    "\n",
    "\n",
    "# สร้างโมเดล Random Forest Regressor\n",
    "model_humidity = create_model(\"rf\")\n",
    "\n",
    "final_model = finalize_model(model_humidity)\n",
    "save_model(final_model, \"D:/project-term/modelPM/model_humidity\")\n",
    "\n",
    "# ---- สร้างข้อมูลสำหรับพยากรณ์ล่วงหน้า 7 วัน (168 ชั่วโมง) ----\n",
    "last_date = df[\"datetime\"].max()\n",
    "future_dates = [last_date + timedelta(hours=i) for i in range(1, 169)]\n",
    "\n",
    "# ใช้ค่าล่าสุดของ humidity\n",
    "latest_humidity = df[\"humidity\"].iloc[-1]\n",
    "\n",
    "future_data = pd.DataFrame({\n",
    "    \"datetime\": future_dates,\n",
    "    \"humidity_lag_1\": [latest_humidity] * len(future_dates),\n",
    "    \"humidity_lag_3\": [latest_humidity] * len(future_dates),\n",
    "    \"humidity_lag_6\": [latest_humidity] * len(future_dates),\n",
    "    \"humidity_lag_24\": [latest_humidity] * len(future_dates)\n",
    "})\n",
    "\n",
    "# เพิ่มฟีเจอร์เชิงเวลา\n",
    "future_data[\"hour\"] = future_data[\"datetime\"].dt.hour\n",
    "future_data[\"dayofweek\"] = future_data[\"datetime\"].dt.dayofweek\n",
    "\n",
    "# Recursive forecasting\n",
    "for i in range(len(future_data)):\n",
    "    pred = predict_model(model_humidity, data=future_data.iloc[i:i+1])\n",
    "    predicted_value = pred.iloc[0][\"prediction_label\"]\n",
    "    if i + 1 < len(future_data):\n",
    "        future_data.at[i + 1, \"humidity_lag_1\"] = predicted_value\n",
    "    if i + 3 < len(future_data):\n",
    "        future_data.at[i + 3, \"humidity_lag_3\"] = predicted_value\n",
    "    if i + 6 < len(future_data):\n",
    "        future_data.at[i + 6, \"humidity_lag_6\"] = predicted_value\n",
    "    if i + 24 < len(future_data):\n",
    "        future_data.at[i + 24, \"humidity_lag_24\"] = predicted_value\n",
    "\n",
    "# ทำนายค่า Humidity\n",
    "predictions = predict_model(model_humidity, data=future_data)\n",
    "\n",
    "# หาชื่อคอลัมน์การทำนายที่ถูกต้อง\n",
    "prediction_column = [col for col in predictions.columns if \"predict\" in col.lower()]\n",
    "if prediction_column:\n",
    "    prediction_column = prediction_column[0]\n",
    "    print(predictions[[\"datetime\", prediction_column]])\n",
    "else:\n",
    "    print(\"ไม่พบคอลัมน์การทำนาย ลองแสดงผลทั้งหมด:\")\n",
    "    print(predictions.head())\n",
    "\n",
    "future_data.to_csv(\"D:/project-term/pm_2.5/future_humidity_data.csv\", index=False)\n",
    "\n",
    "# บันทึกผลลัพธ์เป็นไฟล์ CSV โดยเลือกเฉพาะ datetime และ prediction_label\n",
    "predictions[[\"datetime\", \"prediction_label\"]].to_csv(\"D:/project-term/pm_2.5/predicted_humidity.csv\", index=False)\n",
    "\n",
    "print(\"บันทึกผลลัพธ์การพยากรณ์สำเร็จ! ✅\")\n"
   ]
  },
  {
   "cell_type": "markdown",
   "metadata": {},
   "source": [
    "Temperature next 7 Days"
   ]
  },
  {
   "cell_type": "code",
   "execution_count": null,
   "metadata": {},
   "outputs": [
    {
     "data": {
      "text/html": [
       "<style type=\"text/css\">\n",
       "#T_6b993_row9_col1, #T_6b993_row13_col1, #T_6b993_row15_col1 {\n",
       "  background-color: lightgreen;\n",
       "}\n",
       "</style>\n",
       "<table id=\"T_6b993\">\n",
       "  <thead>\n",
       "    <tr>\n",
       "      <th class=\"blank level0\" >&nbsp;</th>\n",
       "      <th id=\"T_6b993_level0_col0\" class=\"col_heading level0 col0\" >Description</th>\n",
       "      <th id=\"T_6b993_level0_col1\" class=\"col_heading level0 col1\" >Value</th>\n",
       "    </tr>\n",
       "  </thead>\n",
       "  <tbody>\n",
       "    <tr>\n",
       "      <th id=\"T_6b993_level0_row0\" class=\"row_heading level0 row0\" >0</th>\n",
       "      <td id=\"T_6b993_row0_col0\" class=\"data row0 col0\" >Session id</td>\n",
       "      <td id=\"T_6b993_row0_col1\" class=\"data row0 col1\" >42</td>\n",
       "    </tr>\n",
       "    <tr>\n",
       "      <th id=\"T_6b993_level0_row1\" class=\"row_heading level0 row1\" >1</th>\n",
       "      <td id=\"T_6b993_row1_col0\" class=\"data row1 col0\" >Target</td>\n",
       "      <td id=\"T_6b993_row1_col1\" class=\"data row1 col1\" >temperature</td>\n",
       "    </tr>\n",
       "    <tr>\n",
       "      <th id=\"T_6b993_level0_row2\" class=\"row_heading level0 row2\" >2</th>\n",
       "      <td id=\"T_6b993_row2_col0\" class=\"data row2 col0\" >Target type</td>\n",
       "      <td id=\"T_6b993_row2_col1\" class=\"data row2 col1\" >Regression</td>\n",
       "    </tr>\n",
       "    <tr>\n",
       "      <th id=\"T_6b993_level0_row3\" class=\"row_heading level0 row3\" >3</th>\n",
       "      <td id=\"T_6b993_row3_col0\" class=\"data row3 col0\" >Original data shape</td>\n",
       "      <td id=\"T_6b993_row3_col1\" class=\"data row3 col1\" >(22930, 6)</td>\n",
       "    </tr>\n",
       "    <tr>\n",
       "      <th id=\"T_6b993_level0_row4\" class=\"row_heading level0 row4\" >4</th>\n",
       "      <td id=\"T_6b993_row4_col0\" class=\"data row4 col0\" >Transformed data shape</td>\n",
       "      <td id=\"T_6b993_row4_col1\" class=\"data row4 col1\" >(22930, 2)</td>\n",
       "    </tr>\n",
       "    <tr>\n",
       "      <th id=\"T_6b993_level0_row5\" class=\"row_heading level0 row5\" >5</th>\n",
       "      <td id=\"T_6b993_row5_col0\" class=\"data row5 col0\" >Transformed train set shape</td>\n",
       "      <td id=\"T_6b993_row5_col1\" class=\"data row5 col1\" >(18344, 2)</td>\n",
       "    </tr>\n",
       "    <tr>\n",
       "      <th id=\"T_6b993_level0_row6\" class=\"row_heading level0 row6\" >6</th>\n",
       "      <td id=\"T_6b993_row6_col0\" class=\"data row6 col0\" >Transformed test set shape</td>\n",
       "      <td id=\"T_6b993_row6_col1\" class=\"data row6 col1\" >(4586, 2)</td>\n",
       "    </tr>\n",
       "    <tr>\n",
       "      <th id=\"T_6b993_level0_row7\" class=\"row_heading level0 row7\" >7</th>\n",
       "      <td id=\"T_6b993_row7_col0\" class=\"data row7 col0\" >Numeric features</td>\n",
       "      <td id=\"T_6b993_row7_col1\" class=\"data row7 col1\" >4</td>\n",
       "    </tr>\n",
       "    <tr>\n",
       "      <th id=\"T_6b993_level0_row8\" class=\"row_heading level0 row8\" >8</th>\n",
       "      <td id=\"T_6b993_row8_col0\" class=\"data row8 col0\" >Date features</td>\n",
       "      <td id=\"T_6b993_row8_col1\" class=\"data row8 col1\" >1</td>\n",
       "    </tr>\n",
       "    <tr>\n",
       "      <th id=\"T_6b993_level0_row9\" class=\"row_heading level0 row9\" >9</th>\n",
       "      <td id=\"T_6b993_row9_col0\" class=\"data row9 col0\" >Preprocess</td>\n",
       "      <td id=\"T_6b993_row9_col1\" class=\"data row9 col1\" >True</td>\n",
       "    </tr>\n",
       "    <tr>\n",
       "      <th id=\"T_6b993_level0_row10\" class=\"row_heading level0 row10\" >10</th>\n",
       "      <td id=\"T_6b993_row10_col0\" class=\"data row10 col0\" >Imputation type</td>\n",
       "      <td id=\"T_6b993_row10_col1\" class=\"data row10 col1\" >simple</td>\n",
       "    </tr>\n",
       "    <tr>\n",
       "      <th id=\"T_6b993_level0_row11\" class=\"row_heading level0 row11\" >11</th>\n",
       "      <td id=\"T_6b993_row11_col0\" class=\"data row11 col0\" >Numeric imputation</td>\n",
       "      <td id=\"T_6b993_row11_col1\" class=\"data row11 col1\" >mean</td>\n",
       "    </tr>\n",
       "    <tr>\n",
       "      <th id=\"T_6b993_level0_row12\" class=\"row_heading level0 row12\" >12</th>\n",
       "      <td id=\"T_6b993_row12_col0\" class=\"data row12 col0\" >Categorical imputation</td>\n",
       "      <td id=\"T_6b993_row12_col1\" class=\"data row12 col1\" >mode</td>\n",
       "    </tr>\n",
       "    <tr>\n",
       "      <th id=\"T_6b993_level0_row13\" class=\"row_heading level0 row13\" >13</th>\n",
       "      <td id=\"T_6b993_row13_col0\" class=\"data row13 col0\" >Normalize</td>\n",
       "      <td id=\"T_6b993_row13_col1\" class=\"data row13 col1\" >True</td>\n",
       "    </tr>\n",
       "    <tr>\n",
       "      <th id=\"T_6b993_level0_row14\" class=\"row_heading level0 row14\" >14</th>\n",
       "      <td id=\"T_6b993_row14_col0\" class=\"data row14 col0\" >Normalize method</td>\n",
       "      <td id=\"T_6b993_row14_col1\" class=\"data row14 col1\" >zscore</td>\n",
       "    </tr>\n",
       "    <tr>\n",
       "      <th id=\"T_6b993_level0_row15\" class=\"row_heading level0 row15\" >15</th>\n",
       "      <td id=\"T_6b993_row15_col0\" class=\"data row15 col0\" >Feature selection</td>\n",
       "      <td id=\"T_6b993_row15_col1\" class=\"data row15 col1\" >True</td>\n",
       "    </tr>\n",
       "    <tr>\n",
       "      <th id=\"T_6b993_level0_row16\" class=\"row_heading level0 row16\" >16</th>\n",
       "      <td id=\"T_6b993_row16_col0\" class=\"data row16 col0\" >Feature selection method</td>\n",
       "      <td id=\"T_6b993_row16_col1\" class=\"data row16 col1\" >classic</td>\n",
       "    </tr>\n",
       "    <tr>\n",
       "      <th id=\"T_6b993_level0_row17\" class=\"row_heading level0 row17\" >17</th>\n",
       "      <td id=\"T_6b993_row17_col0\" class=\"data row17 col0\" >Feature selection estimator</td>\n",
       "      <td id=\"T_6b993_row17_col1\" class=\"data row17 col1\" >lightgbm</td>\n",
       "    </tr>\n",
       "    <tr>\n",
       "      <th id=\"T_6b993_level0_row18\" class=\"row_heading level0 row18\" >18</th>\n",
       "      <td id=\"T_6b993_row18_col0\" class=\"data row18 col0\" >Number of features selected</td>\n",
       "      <td id=\"T_6b993_row18_col1\" class=\"data row18 col1\" >0.200000</td>\n",
       "    </tr>\n",
       "    <tr>\n",
       "      <th id=\"T_6b993_level0_row19\" class=\"row_heading level0 row19\" >19</th>\n",
       "      <td id=\"T_6b993_row19_col0\" class=\"data row19 col0\" >Fold Generator</td>\n",
       "      <td id=\"T_6b993_row19_col1\" class=\"data row19 col1\" >KFold</td>\n",
       "    </tr>\n",
       "    <tr>\n",
       "      <th id=\"T_6b993_level0_row20\" class=\"row_heading level0 row20\" >20</th>\n",
       "      <td id=\"T_6b993_row20_col0\" class=\"data row20 col0\" >Fold Number</td>\n",
       "      <td id=\"T_6b993_row20_col1\" class=\"data row20 col1\" >10</td>\n",
       "    </tr>\n",
       "    <tr>\n",
       "      <th id=\"T_6b993_level0_row21\" class=\"row_heading level0 row21\" >21</th>\n",
       "      <td id=\"T_6b993_row21_col0\" class=\"data row21 col0\" >CPU Jobs</td>\n",
       "      <td id=\"T_6b993_row21_col1\" class=\"data row21 col1\" >-1</td>\n",
       "    </tr>\n",
       "    <tr>\n",
       "      <th id=\"T_6b993_level0_row22\" class=\"row_heading level0 row22\" >22</th>\n",
       "      <td id=\"T_6b993_row22_col0\" class=\"data row22 col0\" >Use GPU</td>\n",
       "      <td id=\"T_6b993_row22_col1\" class=\"data row22 col1\" >False</td>\n",
       "    </tr>\n",
       "    <tr>\n",
       "      <th id=\"T_6b993_level0_row23\" class=\"row_heading level0 row23\" >23</th>\n",
       "      <td id=\"T_6b993_row23_col0\" class=\"data row23 col0\" >Log Experiment</td>\n",
       "      <td id=\"T_6b993_row23_col1\" class=\"data row23 col1\" >False</td>\n",
       "    </tr>\n",
       "    <tr>\n",
       "      <th id=\"T_6b993_level0_row24\" class=\"row_heading level0 row24\" >24</th>\n",
       "      <td id=\"T_6b993_row24_col0\" class=\"data row24 col0\" >Experiment Name</td>\n",
       "      <td id=\"T_6b993_row24_col1\" class=\"data row24 col1\" >reg-default-name</td>\n",
       "    </tr>\n",
       "    <tr>\n",
       "      <th id=\"T_6b993_level0_row25\" class=\"row_heading level0 row25\" >25</th>\n",
       "      <td id=\"T_6b993_row25_col0\" class=\"data row25 col0\" >USI</td>\n",
       "      <td id=\"T_6b993_row25_col1\" class=\"data row25 col1\" >c29d</td>\n",
       "    </tr>\n",
       "  </tbody>\n",
       "</table>\n"
      ],
      "text/plain": [
       "<pandas.io.formats.style.Styler at 0x23766ead850>"
      ]
     },
     "metadata": {},
     "output_type": "display_data"
    },
    {
     "data": {
      "text/html": [],
      "text/plain": [
       "<IPython.core.display.HTML object>"
      ]
     },
     "metadata": {},
     "output_type": "display_data"
    },
    {
     "data": {
      "text/html": [
       "<style type=\"text/css\">\n",
       "#T_fac62_row10_col0, #T_fac62_row10_col1, #T_fac62_row10_col2, #T_fac62_row10_col3, #T_fac62_row10_col4, #T_fac62_row10_col5 {\n",
       "  background: yellow;\n",
       "}\n",
       "</style>\n",
       "<table id=\"T_fac62\">\n",
       "  <thead>\n",
       "    <tr>\n",
       "      <th class=\"blank level0\" >&nbsp;</th>\n",
       "      <th id=\"T_fac62_level0_col0\" class=\"col_heading level0 col0\" >MAE</th>\n",
       "      <th id=\"T_fac62_level0_col1\" class=\"col_heading level0 col1\" >MSE</th>\n",
       "      <th id=\"T_fac62_level0_col2\" class=\"col_heading level0 col2\" >RMSE</th>\n",
       "      <th id=\"T_fac62_level0_col3\" class=\"col_heading level0 col3\" >R2</th>\n",
       "      <th id=\"T_fac62_level0_col4\" class=\"col_heading level0 col4\" >RMSLE</th>\n",
       "      <th id=\"T_fac62_level0_col5\" class=\"col_heading level0 col5\" >MAPE</th>\n",
       "    </tr>\n",
       "    <tr>\n",
       "      <th class=\"index_name level0\" >Fold</th>\n",
       "      <th class=\"blank col0\" >&nbsp;</th>\n",
       "      <th class=\"blank col1\" >&nbsp;</th>\n",
       "      <th class=\"blank col2\" >&nbsp;</th>\n",
       "      <th class=\"blank col3\" >&nbsp;</th>\n",
       "      <th class=\"blank col4\" >&nbsp;</th>\n",
       "      <th class=\"blank col5\" >&nbsp;</th>\n",
       "    </tr>\n",
       "  </thead>\n",
       "  <tbody>\n",
       "    <tr>\n",
       "      <th id=\"T_fac62_level0_row0\" class=\"row_heading level0 row0\" >0</th>\n",
       "      <td id=\"T_fac62_row0_col0\" class=\"data row0 col0\" >1.0299</td>\n",
       "      <td id=\"T_fac62_row0_col1\" class=\"data row0 col1\" >1.9676</td>\n",
       "      <td id=\"T_fac62_row0_col2\" class=\"data row0 col2\" >1.4027</td>\n",
       "      <td id=\"T_fac62_row0_col3\" class=\"data row0 col3\" >0.7905</td>\n",
       "      <td id=\"T_fac62_row0_col4\" class=\"data row0 col4\" >0.0392</td>\n",
       "      <td id=\"T_fac62_row0_col5\" class=\"data row0 col5\" >0.0298</td>\n",
       "    </tr>\n",
       "    <tr>\n",
       "      <th id=\"T_fac62_level0_row1\" class=\"row_heading level0 row1\" >1</th>\n",
       "      <td id=\"T_fac62_row1_col0\" class=\"data row1 col0\" >1.0257</td>\n",
       "      <td id=\"T_fac62_row1_col1\" class=\"data row1 col1\" >1.9016</td>\n",
       "      <td id=\"T_fac62_row1_col2\" class=\"data row1 col2\" >1.3790</td>\n",
       "      <td id=\"T_fac62_row1_col3\" class=\"data row1 col3\" >0.7833</td>\n",
       "      <td id=\"T_fac62_row1_col4\" class=\"data row1 col4\" >0.0387</td>\n",
       "      <td id=\"T_fac62_row1_col5\" class=\"data row1 col5\" >0.0298</td>\n",
       "    </tr>\n",
       "    <tr>\n",
       "      <th id=\"T_fac62_level0_row2\" class=\"row_heading level0 row2\" >2</th>\n",
       "      <td id=\"T_fac62_row2_col0\" class=\"data row2 col0\" >1.0186</td>\n",
       "      <td id=\"T_fac62_row2_col1\" class=\"data row2 col1\" >1.8749</td>\n",
       "      <td id=\"T_fac62_row2_col2\" class=\"data row2 col2\" >1.3693</td>\n",
       "      <td id=\"T_fac62_row2_col3\" class=\"data row2 col3\" >0.7958</td>\n",
       "      <td id=\"T_fac62_row2_col4\" class=\"data row2 col4\" >0.0386</td>\n",
       "      <td id=\"T_fac62_row2_col5\" class=\"data row2 col5\" >0.0297</td>\n",
       "    </tr>\n",
       "    <tr>\n",
       "      <th id=\"T_fac62_level0_row3\" class=\"row_heading level0 row3\" >3</th>\n",
       "      <td id=\"T_fac62_row3_col0\" class=\"data row3 col0\" >1.0064</td>\n",
       "      <td id=\"T_fac62_row3_col1\" class=\"data row3 col1\" >1.8364</td>\n",
       "      <td id=\"T_fac62_row3_col2\" class=\"data row3 col2\" >1.3551</td>\n",
       "      <td id=\"T_fac62_row3_col3\" class=\"data row3 col3\" >0.7977</td>\n",
       "      <td id=\"T_fac62_row3_col4\" class=\"data row3 col4\" >0.0379</td>\n",
       "      <td id=\"T_fac62_row3_col5\" class=\"data row3 col5\" >0.0291</td>\n",
       "    </tr>\n",
       "    <tr>\n",
       "      <th id=\"T_fac62_level0_row4\" class=\"row_heading level0 row4\" >4</th>\n",
       "      <td id=\"T_fac62_row4_col0\" class=\"data row4 col0\" >1.0251</td>\n",
       "      <td id=\"T_fac62_row4_col1\" class=\"data row4 col1\" >1.8561</td>\n",
       "      <td id=\"T_fac62_row4_col2\" class=\"data row4 col2\" >1.3624</td>\n",
       "      <td id=\"T_fac62_row4_col3\" class=\"data row4 col3\" >0.7862</td>\n",
       "      <td id=\"T_fac62_row4_col4\" class=\"data row4 col4\" >0.0383</td>\n",
       "      <td id=\"T_fac62_row4_col5\" class=\"data row4 col5\" >0.0298</td>\n",
       "    </tr>\n",
       "    <tr>\n",
       "      <th id=\"T_fac62_level0_row5\" class=\"row_heading level0 row5\" >5</th>\n",
       "      <td id=\"T_fac62_row5_col0\" class=\"data row5 col0\" >1.0100</td>\n",
       "      <td id=\"T_fac62_row5_col1\" class=\"data row5 col1\" >1.8140</td>\n",
       "      <td id=\"T_fac62_row5_col2\" class=\"data row5 col2\" >1.3468</td>\n",
       "      <td id=\"T_fac62_row5_col3\" class=\"data row5 col3\" >0.7984</td>\n",
       "      <td id=\"T_fac62_row5_col4\" class=\"data row5 col4\" >0.0377</td>\n",
       "      <td id=\"T_fac62_row5_col5\" class=\"data row5 col5\" >0.0292</td>\n",
       "    </tr>\n",
       "    <tr>\n",
       "      <th id=\"T_fac62_level0_row6\" class=\"row_heading level0 row6\" >6</th>\n",
       "      <td id=\"T_fac62_row6_col0\" class=\"data row6 col0\" >1.0317</td>\n",
       "      <td id=\"T_fac62_row6_col1\" class=\"data row6 col1\" >1.8831</td>\n",
       "      <td id=\"T_fac62_row6_col2\" class=\"data row6 col2\" >1.3723</td>\n",
       "      <td id=\"T_fac62_row6_col3\" class=\"data row6 col3\" >0.7908</td>\n",
       "      <td id=\"T_fac62_row6_col4\" class=\"data row6 col4\" >0.0385</td>\n",
       "      <td id=\"T_fac62_row6_col5\" class=\"data row6 col5\" >0.0300</td>\n",
       "    </tr>\n",
       "    <tr>\n",
       "      <th id=\"T_fac62_level0_row7\" class=\"row_heading level0 row7\" >7</th>\n",
       "      <td id=\"T_fac62_row7_col0\" class=\"data row7 col0\" >1.0200</td>\n",
       "      <td id=\"T_fac62_row7_col1\" class=\"data row7 col1\" >1.8340</td>\n",
       "      <td id=\"T_fac62_row7_col2\" class=\"data row7 col2\" >1.3542</td>\n",
       "      <td id=\"T_fac62_row7_col3\" class=\"data row7 col3\" >0.7869</td>\n",
       "      <td id=\"T_fac62_row7_col4\" class=\"data row7 col4\" >0.0379</td>\n",
       "      <td id=\"T_fac62_row7_col5\" class=\"data row7 col5\" >0.0296</td>\n",
       "    </tr>\n",
       "    <tr>\n",
       "      <th id=\"T_fac62_level0_row8\" class=\"row_heading level0 row8\" >8</th>\n",
       "      <td id=\"T_fac62_row8_col0\" class=\"data row8 col0\" >1.0155</td>\n",
       "      <td id=\"T_fac62_row8_col1\" class=\"data row8 col1\" >1.7787</td>\n",
       "      <td id=\"T_fac62_row8_col2\" class=\"data row8 col2\" >1.3337</td>\n",
       "      <td id=\"T_fac62_row8_col3\" class=\"data row8 col3\" >0.7875</td>\n",
       "      <td id=\"T_fac62_row8_col4\" class=\"data row8 col4\" >0.0372</td>\n",
       "      <td id=\"T_fac62_row8_col5\" class=\"data row8 col5\" >0.0294</td>\n",
       "    </tr>\n",
       "    <tr>\n",
       "      <th id=\"T_fac62_level0_row9\" class=\"row_heading level0 row9\" >9</th>\n",
       "      <td id=\"T_fac62_row9_col0\" class=\"data row9 col0\" >1.0236</td>\n",
       "      <td id=\"T_fac62_row9_col1\" class=\"data row9 col1\" >1.9353</td>\n",
       "      <td id=\"T_fac62_row9_col2\" class=\"data row9 col2\" >1.3912</td>\n",
       "      <td id=\"T_fac62_row9_col3\" class=\"data row9 col3\" >0.7739</td>\n",
       "      <td id=\"T_fac62_row9_col4\" class=\"data row9 col4\" >0.0390</td>\n",
       "      <td id=\"T_fac62_row9_col5\" class=\"data row9 col5\" >0.0297</td>\n",
       "    </tr>\n",
       "    <tr>\n",
       "      <th id=\"T_fac62_level0_row10\" class=\"row_heading level0 row10\" >Mean</th>\n",
       "      <td id=\"T_fac62_row10_col0\" class=\"data row10 col0\" >1.0206</td>\n",
       "      <td id=\"T_fac62_row10_col1\" class=\"data row10 col1\" >1.8682</td>\n",
       "      <td id=\"T_fac62_row10_col2\" class=\"data row10 col2\" >1.3667</td>\n",
       "      <td id=\"T_fac62_row10_col3\" class=\"data row10 col3\" >0.7891</td>\n",
       "      <td id=\"T_fac62_row10_col4\" class=\"data row10 col4\" >0.0383</td>\n",
       "      <td id=\"T_fac62_row10_col5\" class=\"data row10 col5\" >0.0296</td>\n",
       "    </tr>\n",
       "    <tr>\n",
       "      <th id=\"T_fac62_level0_row11\" class=\"row_heading level0 row11\" >Std</th>\n",
       "      <td id=\"T_fac62_row11_col0\" class=\"data row11 col0\" >0.0078</td>\n",
       "      <td id=\"T_fac62_row11_col1\" class=\"data row11 col1\" >0.0539</td>\n",
       "      <td id=\"T_fac62_row11_col2\" class=\"data row11 col2\" >0.0197</td>\n",
       "      <td id=\"T_fac62_row11_col3\" class=\"data row11 col3\" >0.0070</td>\n",
       "      <td id=\"T_fac62_row11_col4\" class=\"data row11 col4\" >0.0006</td>\n",
       "      <td id=\"T_fac62_row11_col5\" class=\"data row11 col5\" >0.0003</td>\n",
       "    </tr>\n",
       "  </tbody>\n",
       "</table>\n"
      ],
      "text/plain": [
       "<pandas.io.formats.style.Styler at 0x2371c048590>"
      ]
     },
     "metadata": {},
     "output_type": "display_data"
    },
    {
     "data": {
      "text/html": [],
      "text/plain": [
       "<IPython.core.display.HTML object>"
      ]
     },
     "metadata": {},
     "output_type": "display_data"
    },
    {
     "name": "stdout",
     "output_type": "stream",
     "text": [
      "Transformation Pipeline and Model Successfully Saved\n"
     ]
    },
    {
     "data": {
      "text/html": [],
      "text/plain": [
       "<IPython.core.display.HTML object>"
      ]
     },
     "metadata": {},
     "output_type": "display_data"
    },
    {
     "data": {
      "text/html": [],
      "text/plain": [
       "<IPython.core.display.HTML object>"
      ]
     },
     "metadata": {},
     "output_type": "display_data"
    },
    {
     "data": {
      "text/html": [],
      "text/plain": [
       "<IPython.core.display.HTML object>"
      ]
     },
     "metadata": {},
     "output_type": "display_data"
    },
    {
     "data": {
      "text/html": [],
      "text/plain": [
       "<IPython.core.display.HTML object>"
      ]
     },
     "metadata": {},
     "output_type": "display_data"
    },
    {
     "data": {
      "text/html": [],
      "text/plain": [
       "<IPython.core.display.HTML object>"
      ]
     },
     "metadata": {},
     "output_type": "display_data"
    },
    {
     "data": {
      "text/html": [],
      "text/plain": [
       "<IPython.core.display.HTML object>"
      ]
     },
     "metadata": {},
     "output_type": "display_data"
    },
    {
     "data": {
      "text/html": [],
      "text/plain": [
       "<IPython.core.display.HTML object>"
      ]
     },
     "metadata": {},
     "output_type": "display_data"
    },
    {
     "data": {
      "text/html": [],
      "text/plain": [
       "<IPython.core.display.HTML object>"
      ]
     },
     "metadata": {},
     "output_type": "display_data"
    },
    {
     "data": {
      "text/html": [],
      "text/plain": [
       "<IPython.core.display.HTML object>"
      ]
     },
     "metadata": {},
     "output_type": "display_data"
    },
    {
     "data": {
      "text/html": [],
      "text/plain": [
       "<IPython.core.display.HTML object>"
      ]
     },
     "metadata": {},
     "output_type": "display_data"
    },
    {
     "data": {
      "text/html": [],
      "text/plain": [
       "<IPython.core.display.HTML object>"
      ]
     },
     "metadata": {},
     "output_type": "display_data"
    },
    {
     "data": {
      "text/html": [],
      "text/plain": [
       "<IPython.core.display.HTML object>"
      ]
     },
     "metadata": {},
     "output_type": "display_data"
    },
    {
     "data": {
      "text/html": [],
      "text/plain": [
       "<IPython.core.display.HTML object>"
      ]
     },
     "metadata": {},
     "output_type": "display_data"
    },
    {
     "data": {
      "text/html": [],
      "text/plain": [
       "<IPython.core.display.HTML object>"
      ]
     },
     "metadata": {},
     "output_type": "display_data"
    },
    {
     "data": {
      "text/html": [],
      "text/plain": [
       "<IPython.core.display.HTML object>"
      ]
     },
     "metadata": {},
     "output_type": "display_data"
    },
    {
     "data": {
      "text/html": [],
      "text/plain": [
       "<IPython.core.display.HTML object>"
      ]
     },
     "metadata": {},
     "output_type": "display_data"
    },
    {
     "data": {
      "text/html": [],
      "text/plain": [
       "<IPython.core.display.HTML object>"
      ]
     },
     "metadata": {},
     "output_type": "display_data"
    },
    {
     "data": {
      "text/html": [],
      "text/plain": [
       "<IPython.core.display.HTML object>"
      ]
     },
     "metadata": {},
     "output_type": "display_data"
    },
    {
     "data": {
      "text/html": [],
      "text/plain": [
       "<IPython.core.display.HTML object>"
      ]
     },
     "metadata": {},
     "output_type": "display_data"
    },
    {
     "data": {
      "text/html": [],
      "text/plain": [
       "<IPython.core.display.HTML object>"
      ]
     },
     "metadata": {},
     "output_type": "display_data"
    },
    {
     "data": {
      "text/html": [],
      "text/plain": [
       "<IPython.core.display.HTML object>"
      ]
     },
     "metadata": {},
     "output_type": "display_data"
    },
    {
     "data": {
      "text/html": [],
      "text/plain": [
       "<IPython.core.display.HTML object>"
      ]
     },
     "metadata": {},
     "output_type": "display_data"
    },
    {
     "data": {
      "text/html": [],
      "text/plain": [
       "<IPython.core.display.HTML object>"
      ]
     },
     "metadata": {},
     "output_type": "display_data"
    },
    {
     "data": {
      "text/html": [],
      "text/plain": [
       "<IPython.core.display.HTML object>"
      ]
     },
     "metadata": {},
     "output_type": "display_data"
    },
    {
     "data": {
      "text/html": [],
      "text/plain": [
       "<IPython.core.display.HTML object>"
      ]
     },
     "metadata": {},
     "output_type": "display_data"
    },
    {
     "data": {
      "text/html": [],
      "text/plain": [
       "<IPython.core.display.HTML object>"
      ]
     },
     "metadata": {},
     "output_type": "display_data"
    },
    {
     "data": {
      "text/html": [],
      "text/plain": [
       "<IPython.core.display.HTML object>"
      ]
     },
     "metadata": {},
     "output_type": "display_data"
    },
    {
     "data": {
      "text/html": [],
      "text/plain": [
       "<IPython.core.display.HTML object>"
      ]
     },
     "metadata": {},
     "output_type": "display_data"
    },
    {
     "data": {
      "text/html": [],
      "text/plain": [
       "<IPython.core.display.HTML object>"
      ]
     },
     "metadata": {},
     "output_type": "display_data"
    },
    {
     "data": {
      "text/html": [],
      "text/plain": [
       "<IPython.core.display.HTML object>"
      ]
     },
     "metadata": {},
     "output_type": "display_data"
    },
    {
     "data": {
      "text/html": [],
      "text/plain": [
       "<IPython.core.display.HTML object>"
      ]
     },
     "metadata": {},
     "output_type": "display_data"
    },
    {
     "data": {
      "text/html": [],
      "text/plain": [
       "<IPython.core.display.HTML object>"
      ]
     },
     "metadata": {},
     "output_type": "display_data"
    },
    {
     "data": {
      "text/html": [],
      "text/plain": [
       "<IPython.core.display.HTML object>"
      ]
     },
     "metadata": {},
     "output_type": "display_data"
    },
    {
     "data": {
      "text/html": [],
      "text/plain": [
       "<IPython.core.display.HTML object>"
      ]
     },
     "metadata": {},
     "output_type": "display_data"
    },
    {
     "data": {
      "text/html": [],
      "text/plain": [
       "<IPython.core.display.HTML object>"
      ]
     },
     "metadata": {},
     "output_type": "display_data"
    },
    {
     "data": {
      "text/html": [],
      "text/plain": [
       "<IPython.core.display.HTML object>"
      ]
     },
     "metadata": {},
     "output_type": "display_data"
    },
    {
     "data": {
      "text/html": [],
      "text/plain": [
       "<IPython.core.display.HTML object>"
      ]
     },
     "metadata": {},
     "output_type": "display_data"
    },
    {
     "data": {
      "text/html": [],
      "text/plain": [
       "<IPython.core.display.HTML object>"
      ]
     },
     "metadata": {},
     "output_type": "display_data"
    },
    {
     "data": {
      "text/html": [],
      "text/plain": [
       "<IPython.core.display.HTML object>"
      ]
     },
     "metadata": {},
     "output_type": "display_data"
    },
    {
     "data": {
      "text/html": [],
      "text/plain": [
       "<IPython.core.display.HTML object>"
      ]
     },
     "metadata": {},
     "output_type": "display_data"
    },
    {
     "data": {
      "text/html": [],
      "text/plain": [
       "<IPython.core.display.HTML object>"
      ]
     },
     "metadata": {},
     "output_type": "display_data"
    },
    {
     "data": {
      "text/html": [],
      "text/plain": [
       "<IPython.core.display.HTML object>"
      ]
     },
     "metadata": {},
     "output_type": "display_data"
    },
    {
     "data": {
      "text/html": [],
      "text/plain": [
       "<IPython.core.display.HTML object>"
      ]
     },
     "metadata": {},
     "output_type": "display_data"
    },
    {
     "data": {
      "text/html": [],
      "text/plain": [
       "<IPython.core.display.HTML object>"
      ]
     },
     "metadata": {},
     "output_type": "display_data"
    },
    {
     "data": {
      "text/html": [],
      "text/plain": [
       "<IPython.core.display.HTML object>"
      ]
     },
     "metadata": {},
     "output_type": "display_data"
    },
    {
     "data": {
      "text/html": [],
      "text/plain": [
       "<IPython.core.display.HTML object>"
      ]
     },
     "metadata": {},
     "output_type": "display_data"
    },
    {
     "data": {
      "text/html": [],
      "text/plain": [
       "<IPython.core.display.HTML object>"
      ]
     },
     "metadata": {},
     "output_type": "display_data"
    },
    {
     "data": {
      "text/html": [],
      "text/plain": [
       "<IPython.core.display.HTML object>"
      ]
     },
     "metadata": {},
     "output_type": "display_data"
    },
    {
     "data": {
      "text/html": [],
      "text/plain": [
       "<IPython.core.display.HTML object>"
      ]
     },
     "metadata": {},
     "output_type": "display_data"
    },
    {
     "data": {
      "text/html": [],
      "text/plain": [
       "<IPython.core.display.HTML object>"
      ]
     },
     "metadata": {},
     "output_type": "display_data"
    },
    {
     "data": {
      "text/html": [],
      "text/plain": [
       "<IPython.core.display.HTML object>"
      ]
     },
     "metadata": {},
     "output_type": "display_data"
    },
    {
     "data": {
      "text/html": [],
      "text/plain": [
       "<IPython.core.display.HTML object>"
      ]
     },
     "metadata": {},
     "output_type": "display_data"
    },
    {
     "data": {
      "text/html": [],
      "text/plain": [
       "<IPython.core.display.HTML object>"
      ]
     },
     "metadata": {},
     "output_type": "display_data"
    },
    {
     "data": {
      "text/html": [],
      "text/plain": [
       "<IPython.core.display.HTML object>"
      ]
     },
     "metadata": {},
     "output_type": "display_data"
    },
    {
     "data": {
      "text/html": [],
      "text/plain": [
       "<IPython.core.display.HTML object>"
      ]
     },
     "metadata": {},
     "output_type": "display_data"
    },
    {
     "data": {
      "text/html": [],
      "text/plain": [
       "<IPython.core.display.HTML object>"
      ]
     },
     "metadata": {},
     "output_type": "display_data"
    },
    {
     "data": {
      "text/html": [],
      "text/plain": [
       "<IPython.core.display.HTML object>"
      ]
     },
     "metadata": {},
     "output_type": "display_data"
    },
    {
     "data": {
      "text/html": [],
      "text/plain": [
       "<IPython.core.display.HTML object>"
      ]
     },
     "metadata": {},
     "output_type": "display_data"
    },
    {
     "data": {
      "text/html": [],
      "text/plain": [
       "<IPython.core.display.HTML object>"
      ]
     },
     "metadata": {},
     "output_type": "display_data"
    },
    {
     "data": {
      "text/html": [],
      "text/plain": [
       "<IPython.core.display.HTML object>"
      ]
     },
     "metadata": {},
     "output_type": "display_data"
    },
    {
     "data": {
      "text/html": [],
      "text/plain": [
       "<IPython.core.display.HTML object>"
      ]
     },
     "metadata": {},
     "output_type": "display_data"
    },
    {
     "data": {
      "text/html": [],
      "text/plain": [
       "<IPython.core.display.HTML object>"
      ]
     },
     "metadata": {},
     "output_type": "display_data"
    },
    {
     "data": {
      "text/html": [],
      "text/plain": [
       "<IPython.core.display.HTML object>"
      ]
     },
     "metadata": {},
     "output_type": "display_data"
    },
    {
     "data": {
      "text/html": [],
      "text/plain": [
       "<IPython.core.display.HTML object>"
      ]
     },
     "metadata": {},
     "output_type": "display_data"
    },
    {
     "data": {
      "text/html": [],
      "text/plain": [
       "<IPython.core.display.HTML object>"
      ]
     },
     "metadata": {},
     "output_type": "display_data"
    },
    {
     "data": {
      "text/html": [],
      "text/plain": [
       "<IPython.core.display.HTML object>"
      ]
     },
     "metadata": {},
     "output_type": "display_data"
    },
    {
     "data": {
      "text/html": [],
      "text/plain": [
       "<IPython.core.display.HTML object>"
      ]
     },
     "metadata": {},
     "output_type": "display_data"
    },
    {
     "data": {
      "text/html": [],
      "text/plain": [
       "<IPython.core.display.HTML object>"
      ]
     },
     "metadata": {},
     "output_type": "display_data"
    },
    {
     "data": {
      "text/html": [],
      "text/plain": [
       "<IPython.core.display.HTML object>"
      ]
     },
     "metadata": {},
     "output_type": "display_data"
    },
    {
     "data": {
      "text/html": [],
      "text/plain": [
       "<IPython.core.display.HTML object>"
      ]
     },
     "metadata": {},
     "output_type": "display_data"
    },
    {
     "data": {
      "text/html": [],
      "text/plain": [
       "<IPython.core.display.HTML object>"
      ]
     },
     "metadata": {},
     "output_type": "display_data"
    },
    {
     "data": {
      "text/html": [],
      "text/plain": [
       "<IPython.core.display.HTML object>"
      ]
     },
     "metadata": {},
     "output_type": "display_data"
    },
    {
     "data": {
      "text/html": [],
      "text/plain": [
       "<IPython.core.display.HTML object>"
      ]
     },
     "metadata": {},
     "output_type": "display_data"
    },
    {
     "data": {
      "text/html": [],
      "text/plain": [
       "<IPython.core.display.HTML object>"
      ]
     },
     "metadata": {},
     "output_type": "display_data"
    },
    {
     "data": {
      "text/html": [],
      "text/plain": [
       "<IPython.core.display.HTML object>"
      ]
     },
     "metadata": {},
     "output_type": "display_data"
    },
    {
     "data": {
      "text/html": [],
      "text/plain": [
       "<IPython.core.display.HTML object>"
      ]
     },
     "metadata": {},
     "output_type": "display_data"
    },
    {
     "data": {
      "text/html": [],
      "text/plain": [
       "<IPython.core.display.HTML object>"
      ]
     },
     "metadata": {},
     "output_type": "display_data"
    },
    {
     "data": {
      "text/html": [],
      "text/plain": [
       "<IPython.core.display.HTML object>"
      ]
     },
     "metadata": {},
     "output_type": "display_data"
    },
    {
     "data": {
      "text/html": [],
      "text/plain": [
       "<IPython.core.display.HTML object>"
      ]
     },
     "metadata": {},
     "output_type": "display_data"
    },
    {
     "data": {
      "text/html": [],
      "text/plain": [
       "<IPython.core.display.HTML object>"
      ]
     },
     "metadata": {},
     "output_type": "display_data"
    },
    {
     "data": {
      "text/html": [],
      "text/plain": [
       "<IPython.core.display.HTML object>"
      ]
     },
     "metadata": {},
     "output_type": "display_data"
    },
    {
     "data": {
      "text/html": [],
      "text/plain": [
       "<IPython.core.display.HTML object>"
      ]
     },
     "metadata": {},
     "output_type": "display_data"
    },
    {
     "data": {
      "text/html": [],
      "text/plain": [
       "<IPython.core.display.HTML object>"
      ]
     },
     "metadata": {},
     "output_type": "display_data"
    },
    {
     "data": {
      "text/html": [],
      "text/plain": [
       "<IPython.core.display.HTML object>"
      ]
     },
     "metadata": {},
     "output_type": "display_data"
    },
    {
     "data": {
      "text/html": [],
      "text/plain": [
       "<IPython.core.display.HTML object>"
      ]
     },
     "metadata": {},
     "output_type": "display_data"
    },
    {
     "data": {
      "text/html": [],
      "text/plain": [
       "<IPython.core.display.HTML object>"
      ]
     },
     "metadata": {},
     "output_type": "display_data"
    },
    {
     "data": {
      "text/html": [],
      "text/plain": [
       "<IPython.core.display.HTML object>"
      ]
     },
     "metadata": {},
     "output_type": "display_data"
    },
    {
     "data": {
      "text/html": [],
      "text/plain": [
       "<IPython.core.display.HTML object>"
      ]
     },
     "metadata": {},
     "output_type": "display_data"
    },
    {
     "data": {
      "text/html": [],
      "text/plain": [
       "<IPython.core.display.HTML object>"
      ]
     },
     "metadata": {},
     "output_type": "display_data"
    },
    {
     "data": {
      "text/html": [],
      "text/plain": [
       "<IPython.core.display.HTML object>"
      ]
     },
     "metadata": {},
     "output_type": "display_data"
    },
    {
     "data": {
      "text/html": [],
      "text/plain": [
       "<IPython.core.display.HTML object>"
      ]
     },
     "metadata": {},
     "output_type": "display_data"
    },
    {
     "data": {
      "text/html": [],
      "text/plain": [
       "<IPython.core.display.HTML object>"
      ]
     },
     "metadata": {},
     "output_type": "display_data"
    },
    {
     "data": {
      "text/html": [],
      "text/plain": [
       "<IPython.core.display.HTML object>"
      ]
     },
     "metadata": {},
     "output_type": "display_data"
    },
    {
     "data": {
      "text/html": [],
      "text/plain": [
       "<IPython.core.display.HTML object>"
      ]
     },
     "metadata": {},
     "output_type": "display_data"
    },
    {
     "data": {
      "text/html": [],
      "text/plain": [
       "<IPython.core.display.HTML object>"
      ]
     },
     "metadata": {},
     "output_type": "display_data"
    },
    {
     "data": {
      "text/html": [],
      "text/plain": [
       "<IPython.core.display.HTML object>"
      ]
     },
     "metadata": {},
     "output_type": "display_data"
    },
    {
     "data": {
      "text/html": [],
      "text/plain": [
       "<IPython.core.display.HTML object>"
      ]
     },
     "metadata": {},
     "output_type": "display_data"
    },
    {
     "data": {
      "text/html": [],
      "text/plain": [
       "<IPython.core.display.HTML object>"
      ]
     },
     "metadata": {},
     "output_type": "display_data"
    },
    {
     "data": {
      "text/html": [],
      "text/plain": [
       "<IPython.core.display.HTML object>"
      ]
     },
     "metadata": {},
     "output_type": "display_data"
    },
    {
     "data": {
      "text/html": [],
      "text/plain": [
       "<IPython.core.display.HTML object>"
      ]
     },
     "metadata": {},
     "output_type": "display_data"
    },
    {
     "data": {
      "text/html": [],
      "text/plain": [
       "<IPython.core.display.HTML object>"
      ]
     },
     "metadata": {},
     "output_type": "display_data"
    },
    {
     "data": {
      "text/html": [],
      "text/plain": [
       "<IPython.core.display.HTML object>"
      ]
     },
     "metadata": {},
     "output_type": "display_data"
    },
    {
     "data": {
      "text/html": [],
      "text/plain": [
       "<IPython.core.display.HTML object>"
      ]
     },
     "metadata": {},
     "output_type": "display_data"
    },
    {
     "data": {
      "text/html": [],
      "text/plain": [
       "<IPython.core.display.HTML object>"
      ]
     },
     "metadata": {},
     "output_type": "display_data"
    },
    {
     "data": {
      "text/html": [],
      "text/plain": [
       "<IPython.core.display.HTML object>"
      ]
     },
     "metadata": {},
     "output_type": "display_data"
    },
    {
     "data": {
      "text/html": [],
      "text/plain": [
       "<IPython.core.display.HTML object>"
      ]
     },
     "metadata": {},
     "output_type": "display_data"
    },
    {
     "data": {
      "text/html": [],
      "text/plain": [
       "<IPython.core.display.HTML object>"
      ]
     },
     "metadata": {},
     "output_type": "display_data"
    },
    {
     "data": {
      "text/html": [],
      "text/plain": [
       "<IPython.core.display.HTML object>"
      ]
     },
     "metadata": {},
     "output_type": "display_data"
    },
    {
     "data": {
      "text/html": [],
      "text/plain": [
       "<IPython.core.display.HTML object>"
      ]
     },
     "metadata": {},
     "output_type": "display_data"
    },
    {
     "data": {
      "text/html": [],
      "text/plain": [
       "<IPython.core.display.HTML object>"
      ]
     },
     "metadata": {},
     "output_type": "display_data"
    },
    {
     "data": {
      "text/html": [],
      "text/plain": [
       "<IPython.core.display.HTML object>"
      ]
     },
     "metadata": {},
     "output_type": "display_data"
    },
    {
     "data": {
      "text/html": [],
      "text/plain": [
       "<IPython.core.display.HTML object>"
      ]
     },
     "metadata": {},
     "output_type": "display_data"
    },
    {
     "data": {
      "text/html": [],
      "text/plain": [
       "<IPython.core.display.HTML object>"
      ]
     },
     "metadata": {},
     "output_type": "display_data"
    },
    {
     "data": {
      "text/html": [],
      "text/plain": [
       "<IPython.core.display.HTML object>"
      ]
     },
     "metadata": {},
     "output_type": "display_data"
    },
    {
     "data": {
      "text/html": [],
      "text/plain": [
       "<IPython.core.display.HTML object>"
      ]
     },
     "metadata": {},
     "output_type": "display_data"
    },
    {
     "data": {
      "text/html": [],
      "text/plain": [
       "<IPython.core.display.HTML object>"
      ]
     },
     "metadata": {},
     "output_type": "display_data"
    },
    {
     "data": {
      "text/html": [],
      "text/plain": [
       "<IPython.core.display.HTML object>"
      ]
     },
     "metadata": {},
     "output_type": "display_data"
    },
    {
     "data": {
      "text/html": [],
      "text/plain": [
       "<IPython.core.display.HTML object>"
      ]
     },
     "metadata": {},
     "output_type": "display_data"
    },
    {
     "data": {
      "text/html": [],
      "text/plain": [
       "<IPython.core.display.HTML object>"
      ]
     },
     "metadata": {},
     "output_type": "display_data"
    },
    {
     "data": {
      "text/html": [],
      "text/plain": [
       "<IPython.core.display.HTML object>"
      ]
     },
     "metadata": {},
     "output_type": "display_data"
    },
    {
     "data": {
      "text/html": [],
      "text/plain": [
       "<IPython.core.display.HTML object>"
      ]
     },
     "metadata": {},
     "output_type": "display_data"
    },
    {
     "data": {
      "text/html": [],
      "text/plain": [
       "<IPython.core.display.HTML object>"
      ]
     },
     "metadata": {},
     "output_type": "display_data"
    },
    {
     "data": {
      "text/html": [],
      "text/plain": [
       "<IPython.core.display.HTML object>"
      ]
     },
     "metadata": {},
     "output_type": "display_data"
    },
    {
     "data": {
      "text/html": [],
      "text/plain": [
       "<IPython.core.display.HTML object>"
      ]
     },
     "metadata": {},
     "output_type": "display_data"
    },
    {
     "data": {
      "text/html": [],
      "text/plain": [
       "<IPython.core.display.HTML object>"
      ]
     },
     "metadata": {},
     "output_type": "display_data"
    },
    {
     "data": {
      "text/html": [],
      "text/plain": [
       "<IPython.core.display.HTML object>"
      ]
     },
     "metadata": {},
     "output_type": "display_data"
    },
    {
     "data": {
      "text/html": [],
      "text/plain": [
       "<IPython.core.display.HTML object>"
      ]
     },
     "metadata": {},
     "output_type": "display_data"
    },
    {
     "data": {
      "text/html": [],
      "text/plain": [
       "<IPython.core.display.HTML object>"
      ]
     },
     "metadata": {},
     "output_type": "display_data"
    },
    {
     "data": {
      "text/html": [],
      "text/plain": [
       "<IPython.core.display.HTML object>"
      ]
     },
     "metadata": {},
     "output_type": "display_data"
    },
    {
     "data": {
      "text/html": [],
      "text/plain": [
       "<IPython.core.display.HTML object>"
      ]
     },
     "metadata": {},
     "output_type": "display_data"
    },
    {
     "data": {
      "text/html": [],
      "text/plain": [
       "<IPython.core.display.HTML object>"
      ]
     },
     "metadata": {},
     "output_type": "display_data"
    },
    {
     "data": {
      "text/html": [],
      "text/plain": [
       "<IPython.core.display.HTML object>"
      ]
     },
     "metadata": {},
     "output_type": "display_data"
    },
    {
     "data": {
      "text/html": [],
      "text/plain": [
       "<IPython.core.display.HTML object>"
      ]
     },
     "metadata": {},
     "output_type": "display_data"
    },
    {
     "data": {
      "text/html": [],
      "text/plain": [
       "<IPython.core.display.HTML object>"
      ]
     },
     "metadata": {},
     "output_type": "display_data"
    },
    {
     "data": {
      "text/html": [],
      "text/plain": [
       "<IPython.core.display.HTML object>"
      ]
     },
     "metadata": {},
     "output_type": "display_data"
    },
    {
     "data": {
      "text/html": [],
      "text/plain": [
       "<IPython.core.display.HTML object>"
      ]
     },
     "metadata": {},
     "output_type": "display_data"
    },
    {
     "data": {
      "text/html": [],
      "text/plain": [
       "<IPython.core.display.HTML object>"
      ]
     },
     "metadata": {},
     "output_type": "display_data"
    },
    {
     "data": {
      "text/html": [],
      "text/plain": [
       "<IPython.core.display.HTML object>"
      ]
     },
     "metadata": {},
     "output_type": "display_data"
    },
    {
     "data": {
      "text/html": [],
      "text/plain": [
       "<IPython.core.display.HTML object>"
      ]
     },
     "metadata": {},
     "output_type": "display_data"
    },
    {
     "data": {
      "text/html": [],
      "text/plain": [
       "<IPython.core.display.HTML object>"
      ]
     },
     "metadata": {},
     "output_type": "display_data"
    },
    {
     "data": {
      "text/html": [],
      "text/plain": [
       "<IPython.core.display.HTML object>"
      ]
     },
     "metadata": {},
     "output_type": "display_data"
    },
    {
     "data": {
      "text/html": [],
      "text/plain": [
       "<IPython.core.display.HTML object>"
      ]
     },
     "metadata": {},
     "output_type": "display_data"
    },
    {
     "data": {
      "text/html": [],
      "text/plain": [
       "<IPython.core.display.HTML object>"
      ]
     },
     "metadata": {},
     "output_type": "display_data"
    },
    {
     "data": {
      "text/html": [],
      "text/plain": [
       "<IPython.core.display.HTML object>"
      ]
     },
     "metadata": {},
     "output_type": "display_data"
    },
    {
     "data": {
      "text/html": [],
      "text/plain": [
       "<IPython.core.display.HTML object>"
      ]
     },
     "metadata": {},
     "output_type": "display_data"
    },
    {
     "data": {
      "text/html": [],
      "text/plain": [
       "<IPython.core.display.HTML object>"
      ]
     },
     "metadata": {},
     "output_type": "display_data"
    },
    {
     "data": {
      "text/html": [],
      "text/plain": [
       "<IPython.core.display.HTML object>"
      ]
     },
     "metadata": {},
     "output_type": "display_data"
    },
    {
     "data": {
      "text/html": [],
      "text/plain": [
       "<IPython.core.display.HTML object>"
      ]
     },
     "metadata": {},
     "output_type": "display_data"
    },
    {
     "data": {
      "text/html": [],
      "text/plain": [
       "<IPython.core.display.HTML object>"
      ]
     },
     "metadata": {},
     "output_type": "display_data"
    },
    {
     "data": {
      "text/html": [],
      "text/plain": [
       "<IPython.core.display.HTML object>"
      ]
     },
     "metadata": {},
     "output_type": "display_data"
    },
    {
     "data": {
      "text/html": [],
      "text/plain": [
       "<IPython.core.display.HTML object>"
      ]
     },
     "metadata": {},
     "output_type": "display_data"
    },
    {
     "data": {
      "text/html": [],
      "text/plain": [
       "<IPython.core.display.HTML object>"
      ]
     },
     "metadata": {},
     "output_type": "display_data"
    },
    {
     "data": {
      "text/html": [],
      "text/plain": [
       "<IPython.core.display.HTML object>"
      ]
     },
     "metadata": {},
     "output_type": "display_data"
    },
    {
     "data": {
      "text/html": [],
      "text/plain": [
       "<IPython.core.display.HTML object>"
      ]
     },
     "metadata": {},
     "output_type": "display_data"
    },
    {
     "data": {
      "text/html": [],
      "text/plain": [
       "<IPython.core.display.HTML object>"
      ]
     },
     "metadata": {},
     "output_type": "display_data"
    },
    {
     "data": {
      "text/html": [],
      "text/plain": [
       "<IPython.core.display.HTML object>"
      ]
     },
     "metadata": {},
     "output_type": "display_data"
    },
    {
     "data": {
      "text/html": [],
      "text/plain": [
       "<IPython.core.display.HTML object>"
      ]
     },
     "metadata": {},
     "output_type": "display_data"
    },
    {
     "data": {
      "text/html": [],
      "text/plain": [
       "<IPython.core.display.HTML object>"
      ]
     },
     "metadata": {},
     "output_type": "display_data"
    },
    {
     "data": {
      "text/html": [],
      "text/plain": [
       "<IPython.core.display.HTML object>"
      ]
     },
     "metadata": {},
     "output_type": "display_data"
    },
    {
     "data": {
      "text/html": [],
      "text/plain": [
       "<IPython.core.display.HTML object>"
      ]
     },
     "metadata": {},
     "output_type": "display_data"
    },
    {
     "data": {
      "text/html": [],
      "text/plain": [
       "<IPython.core.display.HTML object>"
      ]
     },
     "metadata": {},
     "output_type": "display_data"
    },
    {
     "data": {
      "text/html": [],
      "text/plain": [
       "<IPython.core.display.HTML object>"
      ]
     },
     "metadata": {},
     "output_type": "display_data"
    },
    {
     "data": {
      "text/html": [],
      "text/plain": [
       "<IPython.core.display.HTML object>"
      ]
     },
     "metadata": {},
     "output_type": "display_data"
    },
    {
     "data": {
      "text/html": [],
      "text/plain": [
       "<IPython.core.display.HTML object>"
      ]
     },
     "metadata": {},
     "output_type": "display_data"
    },
    {
     "data": {
      "text/html": [],
      "text/plain": [
       "<IPython.core.display.HTML object>"
      ]
     },
     "metadata": {},
     "output_type": "display_data"
    },
    {
     "data": {
      "text/html": [],
      "text/plain": [
       "<IPython.core.display.HTML object>"
      ]
     },
     "metadata": {},
     "output_type": "display_data"
    },
    {
     "data": {
      "text/html": [],
      "text/plain": [
       "<IPython.core.display.HTML object>"
      ]
     },
     "metadata": {},
     "output_type": "display_data"
    },
    {
     "data": {
      "text/html": [],
      "text/plain": [
       "<IPython.core.display.HTML object>"
      ]
     },
     "metadata": {},
     "output_type": "display_data"
    },
    {
     "data": {
      "text/html": [],
      "text/plain": [
       "<IPython.core.display.HTML object>"
      ]
     },
     "metadata": {},
     "output_type": "display_data"
    },
    {
     "name": "stdout",
     "output_type": "stream",
     "text": [
      "               datetime  prediction_label\n",
      "0   2025-02-11 00:00:00         33.955350\n",
      "1   2025-02-11 01:00:00         34.784517\n",
      "2   2025-02-11 02:00:00         34.018531\n",
      "3   2025-02-11 03:00:00         33.487160\n",
      "4   2025-02-11 04:00:00         34.364235\n",
      "..                  ...               ...\n",
      "163 2025-02-17 19:00:00         33.876294\n",
      "164 2025-02-17 20:00:00         33.771180\n",
      "165 2025-02-17 21:00:00         33.657665\n",
      "166 2025-02-17 22:00:00         33.798971\n",
      "167 2025-02-17 23:00:00         34.559749\n",
      "\n",
      "[168 rows x 2 columns]\n",
      "บันทึกผลลัพธ์การพยากรณ์สำเร็จ! ✅\n"
     ]
    }
   ],
   "source": [
    "import pandas as pd\n",
    "from pycaret.regression import *\n",
    "from datetime import timedelta\n",
    "import numpy as np\n",
    "\n",
    "# โหลดไฟล์ CSV\n",
    "file_path = \"D:\\project-term\\pm_2.5\\export-jsps013-1h.csv\"\n",
    "df = pd.read_csv(file_path)\n",
    "\n",
    "# แปลง datetime เป็นชนิด datetime\n",
    "df[\"datetime\"] = pd.to_datetime(df[\"datetime\"], dayfirst=True, errors=\"coerce\")\n",
    "\n",
    "# แปลง 'temperature' เป็นตัวเลข\n",
    "df[\"temperature\"] = pd.to_numeric(df[\"temperature\"], errors=\"coerce\")\n",
    "\n",
    "# ลบคอลัมน์ 'pm_2_5' และ 'humidity' (หากยังอยู่ใน DataFrame)\n",
    "for col in [\"pm_2_5\", \"humidity\"]:\n",
    "    if col in df.columns:\n",
    "        df.drop(columns=[col], inplace=True)\n",
    "\n",
    "# สร้างสำเนา DataFrame เพื่อใช้ทำความสะอาดข้อมูล\n",
    "df_cleaned = df.copy()\n",
    "\n",
    "# ฟังก์ชัน Hybrid Imputation\n",
    "def hybrid_imputation(series):\n",
    "    Q1 = series.quantile(0.25)\n",
    "    Q3 = series.quantile(0.75)\n",
    "    IQR = Q3 - Q1\n",
    "\n",
    "    lower_bound = Q1 - 1.5 * IQR\n",
    "    upper_bound = Q3 + 1.5 * IQR\n",
    "\n",
    "    non_outlier_values = series[(series >= lower_bound) & (series <= upper_bound)]\n",
    "    median_value = non_outlier_values.median() if not non_outlier_values.empty else series.median()\n",
    "\n",
    "    series = series.mask((series < lower_bound) | (series > upper_bound), np.nan)\n",
    "    series = series.interpolate(method=\"linear\")  \n",
    "    series = series.fillna(median_value)  \n",
    "\n",
    "    return series\n",
    "\n",
    "# ใช้ Hybrid Imputation สำหรับ 'temperature'\n",
    "df_cleaned[\"temperature\"] = hybrid_imputation(df_cleaned[\"temperature\"])\n",
    "\n",
    "# สร้างฟีเจอร์ย้อนหลังของ temperature\n",
    "for lag in [1, 3, 6, 24]:\n",
    "    df_cleaned[f\"temperature_lag_{lag}\"] = df_cleaned[\"temperature\"].shift(lag)\n",
    "\n",
    "# ลบแถวที่มีค่า NaN หลังจากสร้าง Lag\n",
    "df_cleaned.dropna(inplace=True)\n",
    "\n",
    "# ตั้งค่า PyCaret และแบ่ง train 80% test 20%\n",
    "exp = setup(df_cleaned, target=\"temperature\", train_size=0.8, session_id=42, normalize=True, feature_selection=True)\n",
    "\n",
    "# สร้างโมเดล Random Forest Regressor\n",
    "model_temp = create_model(\"rf\")\n",
    "\n",
    "final_model = finalize_model(model_temp)\n",
    "save_model(final_model, \"D:/project-term/modelPM/model_temperature\")\n",
    "\n",
    "# ---- สร้างข้อมูลสำหรับพยากรณ์ล่วงหน้า 7 วัน (168 ชั่วโมง) ----\n",
    "last_date = df_cleaned[\"datetime\"].max()\n",
    "future_dates = [last_date + timedelta(hours=i) for i in range(1, 169)]\n",
    "\n",
    "# ใช้ค่าล่าสุดของ temperature\n",
    "latest_temperature = df_cleaned[\"temperature\"].iloc[-1]\n",
    "\n",
    "future_data = pd.DataFrame({\n",
    "    \"datetime\": future_dates,\n",
    "    \"temperature_lag_1\": [latest_temperature] * len(future_dates),\n",
    "    \"temperature_lag_3\": [latest_temperature] * len(future_dates),\n",
    "    \"temperature_lag_6\": [latest_temperature] * len(future_dates),\n",
    "    \"temperature_lag_24\": [latest_temperature] * len(future_dates)\n",
    "})\n",
    "\n",
    "# เพิ่มฟีเจอร์เชิงเวลา\n",
    "future_data[\"hour\"] = future_data[\"datetime\"].dt.hour\n",
    "future_data[\"dayofweek\"] = future_data[\"datetime\"].dt.dayofweek\n",
    "\n",
    "# Recursive forecasting\n",
    "for i in range(len(future_data)):\n",
    "    pred = predict_model(model_temp, data=future_data.iloc[i:i+1])\n",
    "    predicted_value = pred.iloc[0][\"prediction_label\"]\n",
    "    if i + 1 < len(future_data):\n",
    "        future_data.at[i + 1, \"temperature_lag_1\"] = predicted_value\n",
    "    if i + 3 < len(future_data):\n",
    "        future_data.at[i + 3, \"temperature_lag_3\"] = predicted_value\n",
    "    if i + 6 < len(future_data):\n",
    "        future_data.at[i + 6, \"temperature_lag_6\"] = predicted_value\n",
    "    if i + 24 < len(future_data):\n",
    "        future_data.at[i + 24, \"temperature_lag_24\"] = predicted_value\n",
    "\n",
    "# ทำนายค่า Temperature\n",
    "predictions = predict_model(model_temp, data=future_data)\n",
    "\n",
    "# หาชื่อคอลัมน์การทำนายที่ถูกต้อง\n",
    "prediction_column = [col for col in predictions.columns if \"predict\" in col.lower()]\n",
    "if prediction_column:\n",
    "    prediction_column = prediction_column[0]\n",
    "    print(predictions[[\"datetime\", prediction_column]])\n",
    "else:\n",
    "    print(\"ไม่พบคอลัมน์การทำนาย ลองแสดงผลทั้งหมด:\")\n",
    "    print(predictions.head())\n",
    "\n",
    "future_data.to_csv(\"D:/project-term/pm_2.5/future_temperature_data.csv\", index=False)\n",
    "\n",
    "# บันทึกผลลัพธ์เป็นไฟล์ CSV โดยเลือกเฉพาะ datetime และ prediction_label\n",
    "predictions[[\"datetime\", \"prediction_label\"]].to_csv(\"D:/project-term/pm_2.5/predicted_temperature.csv\", index=False)\n",
    "\n",
    "print(\"บันทึกผลลัพธ์การพยากรณ์สำเร็จ! ✅\")\n"
   ]
  }
 ],
 "metadata": {
  "kernelspec": {
   "display_name": "Python 3",
   "language": "python",
   "name": "python3"
  },
  "language_info": {
   "codemirror_mode": {
    "name": "ipython",
    "version": 3
   },
   "file_extension": ".py",
   "mimetype": "text/x-python",
   "name": "python",
   "nbconvert_exporter": "python",
   "pygments_lexer": "ipython3",
   "version": "3.11.7"
  }
 },
 "nbformat": 4,
 "nbformat_minor": 2
}
